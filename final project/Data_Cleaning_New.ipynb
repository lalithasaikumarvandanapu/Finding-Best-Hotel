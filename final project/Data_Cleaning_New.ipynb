{
 "cells": [
  {
   "cell_type": "code",
   "execution_count": 1,
   "id": "ecddc825",
   "metadata": {},
   "outputs": [],
   "source": [
    "import pandas as pd\n",
    "import numpy as np\n",
    "\n",
    "import warnings\n",
    "warnings.filterwarnings('ignore')\n",
    "\n",
    "from IPython.core.interactiveshell import InteractiveShell\n",
    "InteractiveShell.ast_node_interactivity = 'all'"
   ]
  },
  {
   "cell_type": "markdown",
   "id": "4c0907d9",
   "metadata": {},
   "source": [
    "### Load the dataset"
   ]
  },
  {
   "cell_type": "code",
   "execution_count": 2,
   "id": "5c937303",
   "metadata": {},
   "outputs": [],
   "source": [
    "df = pd.read_excel(r\"D:\\INNOMATICS\\DATA ANALYTICS\\01-Python\\final project\\files\\final_df.xlsx\")"
   ]
  },
  {
   "cell_type": "markdown",
   "id": "c9ef1a84",
   "metadata": {},
   "source": [
    "### Inspect the dataset\n"
   ]
  },
  {
   "cell_type": "code",
   "execution_count": 3,
   "id": "27d96b07",
   "metadata": {},
   "outputs": [
    {
     "data": {
      "text/plain": [
       "(880, 12)"
      ]
     },
     "execution_count": 3,
     "metadata": {},
     "output_type": "execute_result"
    }
   ],
   "source": [
    "df.shape # check the shape of the datatset"
   ]
  },
  {
   "cell_type": "code",
   "execution_count": 4,
   "id": "e2e071c0",
   "metadata": {},
   "outputs": [
    {
     "data": {
      "text/html": [
       "<div>\n",
       "<style scoped>\n",
       "    .dataframe tbody tr th:only-of-type {\n",
       "        vertical-align: middle;\n",
       "    }\n",
       "\n",
       "    .dataframe tbody tr th {\n",
       "        vertical-align: top;\n",
       "    }\n",
       "\n",
       "    .dataframe thead th {\n",
       "        text-align: right;\n",
       "    }\n",
       "</style>\n",
       "<table border=\"1\" class=\"dataframe\">\n",
       "  <thead>\n",
       "    <tr style=\"text-align: right;\">\n",
       "      <th></th>\n",
       "      <th>Unnamed: 0</th>\n",
       "      <th>Hotel</th>\n",
       "      <th>Location</th>\n",
       "      <th>Ratings</th>\n",
       "      <th>No_of_Ratings</th>\n",
       "      <th>No_of_Reviews</th>\n",
       "      <th>Original_price</th>\n",
       "      <th>Discount_price</th>\n",
       "      <th>Taxes</th>\n",
       "      <th>Building_Type</th>\n",
       "      <th>House_Rule</th>\n",
       "      <th>hotel_type</th>\n",
       "    </tr>\n",
       "  </thead>\n",
       "  <tbody>\n",
       "    <tr>\n",
       "      <th>0</th>\n",
       "      <td>0</td>\n",
       "      <td>Hotel Campal</td>\n",
       "      <td>Panjim</td>\n",
       "      <td>3.8</td>\n",
       "      <td>1164.0</td>\n",
       "      <td>646.0</td>\n",
       "      <td>2,549</td>\n",
       "      <td>2,042</td>\n",
       "      <td>528</td>\n",
       "      <td>Apartment</td>\n",
       "      <td>Alcohol Allowed</td>\n",
       "      <td>NaN</td>\n",
       "    </tr>\n",
       "    <tr>\n",
       "      <th>1</th>\n",
       "      <td>1</td>\n",
       "      <td>ibis Styles Goa Calangute - An Accor Brand</td>\n",
       "      <td>Calangute</td>\n",
       "      <td>4.1</td>\n",
       "      <td>4348.0</td>\n",
       "      <td>2615.0</td>\n",
       "      <td>5,750</td>\n",
       "      <td>NaN</td>\n",
       "      <td>690</td>\n",
       "      <td>Apartment</td>\n",
       "      <td>Unmarried Couples Allowed</td>\n",
       "      <td>4 star</td>\n",
       "    </tr>\n",
       "    <tr>\n",
       "      <th>2</th>\n",
       "      <td>2</td>\n",
       "      <td>SinQ Prive</td>\n",
       "      <td>Candolim</td>\n",
       "      <td>4.0</td>\n",
       "      <td>2251.0</td>\n",
       "      <td>1239.0</td>\n",
       "      <td>3,690</td>\n",
       "      <td>3,010</td>\n",
       "      <td>720</td>\n",
       "      <td>Apartment</td>\n",
       "      <td>Alcohol Allowed</td>\n",
       "      <td>5 star</td>\n",
       "    </tr>\n",
       "    <tr>\n",
       "      <th>3</th>\n",
       "      <td>3</td>\n",
       "      <td>Ginger Goa, Panjim</td>\n",
       "      <td>Panjim</td>\n",
       "      <td>3.9</td>\n",
       "      <td>5840.0</td>\n",
       "      <td>3566.0</td>\n",
       "      <td>5,149</td>\n",
       "      <td>NaN</td>\n",
       "      <td>618</td>\n",
       "      <td>Apartment</td>\n",
       "      <td>Alcohol Allowed</td>\n",
       "      <td>3 star</td>\n",
       "    </tr>\n",
       "    <tr>\n",
       "      <th>4</th>\n",
       "      <td>4</td>\n",
       "      <td>Calangute Heights by Stay ALYF | Luxury 1 BHK ...</td>\n",
       "      <td>Calangute</td>\n",
       "      <td>4.6</td>\n",
       "      <td>235.0</td>\n",
       "      <td>111.0</td>\n",
       "      <td>6,500</td>\n",
       "      <td>2,657</td>\n",
       "      <td>736</td>\n",
       "      <td>NaN</td>\n",
       "      <td>Unmarried Couples Allowed</td>\n",
       "      <td>3 star</td>\n",
       "    </tr>\n",
       "  </tbody>\n",
       "</table>\n",
       "</div>"
      ],
      "text/plain": [
       "   Unnamed: 0                                              Hotel   Location   \n",
       "0           0                                       Hotel Campal     Panjim  \\\n",
       "1           1         ibis Styles Goa Calangute - An Accor Brand  Calangute   \n",
       "2           2                                         SinQ Prive   Candolim   \n",
       "3           3                                 Ginger Goa, Panjim     Panjim   \n",
       "4           4  Calangute Heights by Stay ALYF | Luxury 1 BHK ...  Calangute   \n",
       "\n",
       "   Ratings  No_of_Ratings  No_of_Reviews Original_price Discount_price Taxes   \n",
       "0      3.8         1164.0          646.0          2,549          2,042   528  \\\n",
       "1      4.1         4348.0         2615.0          5,750            NaN   690   \n",
       "2      4.0         2251.0         1239.0          3,690          3,010   720   \n",
       "3      3.9         5840.0         3566.0          5,149            NaN   618   \n",
       "4      4.6          235.0          111.0          6,500          2,657   736   \n",
       "\n",
       "  Building_Type                 House_Rule hotel_type  \n",
       "0     Apartment            Alcohol Allowed        NaN  \n",
       "1     Apartment  Unmarried Couples Allowed     4 star  \n",
       "2     Apartment            Alcohol Allowed     5 star  \n",
       "3     Apartment            Alcohol Allowed     3 star  \n",
       "4           NaN  Unmarried Couples Allowed     3 star  "
      ]
     },
     "execution_count": 4,
     "metadata": {},
     "output_type": "execute_result"
    }
   ],
   "source": [
    "df.head() # Check top 5 observations"
   ]
  },
  {
   "cell_type": "code",
   "execution_count": 5,
   "id": "aa88a023",
   "metadata": {},
   "outputs": [
    {
     "data": {
      "text/html": [
       "<div>\n",
       "<style scoped>\n",
       "    .dataframe tbody tr th:only-of-type {\n",
       "        vertical-align: middle;\n",
       "    }\n",
       "\n",
       "    .dataframe tbody tr th {\n",
       "        vertical-align: top;\n",
       "    }\n",
       "\n",
       "    .dataframe thead th {\n",
       "        text-align: right;\n",
       "    }\n",
       "</style>\n",
       "<table border=\"1\" class=\"dataframe\">\n",
       "  <thead>\n",
       "    <tr style=\"text-align: right;\">\n",
       "      <th></th>\n",
       "      <th>Unnamed: 0</th>\n",
       "      <th>Hotel</th>\n",
       "      <th>Location</th>\n",
       "      <th>Ratings</th>\n",
       "      <th>No_of_Ratings</th>\n",
       "      <th>No_of_Reviews</th>\n",
       "      <th>Original_price</th>\n",
       "      <th>Discount_price</th>\n",
       "      <th>Taxes</th>\n",
       "      <th>Building_Type</th>\n",
       "      <th>House_Rule</th>\n",
       "      <th>hotel_type</th>\n",
       "    </tr>\n",
       "  </thead>\n",
       "  <tbody>\n",
       "    <tr>\n",
       "      <th>875</th>\n",
       "      <td>875</td>\n",
       "      <td>Mandrem Beach Resort, a member of Radisson Ind...</td>\n",
       "      <td>Mandrem Beach</td>\n",
       "      <td>4.8</td>\n",
       "      <td>54.0</td>\n",
       "      <td>23.0</td>\n",
       "      <td>16,00</td>\n",
       "      <td>NaN</td>\n",
       "      <td>2,880</td>\n",
       "      <td>NaN</td>\n",
       "      <td>NaN</td>\n",
       "      <td>4 star</td>\n",
       "    </tr>\n",
       "    <tr>\n",
       "      <th>876</th>\n",
       "      <td>876</td>\n",
       "      <td>Marcello Villa | Rooms &amp; Caretaker</td>\n",
       "      <td>Baga</td>\n",
       "      <td>NaN</td>\n",
       "      <td>314.0</td>\n",
       "      <td>166.0</td>\n",
       "      <td>999₹</td>\n",
       "      <td>201 t</td>\n",
       "      <td>201</td>\n",
       "      <td>Villa</td>\n",
       "      <td>Alcohol Allowed</td>\n",
       "      <td>NaN</td>\n",
       "    </tr>\n",
       "    <tr>\n",
       "      <th>877</th>\n",
       "      <td>877</td>\n",
       "      <td>Subhash Guest House</td>\n",
       "      <td>Baga</td>\n",
       "      <td>3.4</td>\n",
       "      <td>180.0</td>\n",
       "      <td>118.0</td>\n",
       "      <td>1,000</td>\n",
       "      <td>911+</td>\n",
       "      <td>210</td>\n",
       "      <td>Guest House</td>\n",
       "      <td>Alcohol Allowed</td>\n",
       "      <td>NaN</td>\n",
       "    </tr>\n",
       "    <tr>\n",
       "      <th>878</th>\n",
       "      <td>878</td>\n",
       "      <td>Villa Calangute Phase 12</td>\n",
       "      <td>Calangute</td>\n",
       "      <td>4.4</td>\n",
       "      <td>91.0</td>\n",
       "      <td>NaN</td>\n",
       "      <td>30,60</td>\n",
       "      <td>NaN</td>\n",
       "      <td>5,508</td>\n",
       "      <td>Villa</td>\n",
       "      <td>Alcohol Allowed</td>\n",
       "      <td>NaN</td>\n",
       "    </tr>\n",
       "    <tr>\n",
       "      <th>879</th>\n",
       "      <td>879</td>\n",
       "      <td>Baga Fantacia Beach Inn</td>\n",
       "      <td>Baga</td>\n",
       "      <td>3.4</td>\n",
       "      <td>247.0</td>\n",
       "      <td>156.0</td>\n",
       "      <td>5,500</td>\n",
       "      <td>3,961</td>\n",
       "      <td>968</td>\n",
       "      <td>Apartment</td>\n",
       "      <td>NaN</td>\n",
       "      <td>3 star</td>\n",
       "    </tr>\n",
       "  </tbody>\n",
       "</table>\n",
       "</div>"
      ],
      "text/plain": [
       "     Unnamed: 0                                              Hotel   \n",
       "875         875  Mandrem Beach Resort, a member of Radisson Ind...  \\\n",
       "876         876                 Marcello Villa | Rooms & Caretaker   \n",
       "877         877                                Subhash Guest House   \n",
       "878         878                           Villa Calangute Phase 12   \n",
       "879         879                            Baga Fantacia Beach Inn   \n",
       "\n",
       "          Location  Ratings  No_of_Ratings  No_of_Reviews Original_price   \n",
       "875  Mandrem Beach      4.8           54.0           23.0          16,00  \\\n",
       "876           Baga      NaN          314.0          166.0          999₹    \n",
       "877           Baga      3.4          180.0          118.0          1,000   \n",
       "878      Calangute      4.4           91.0            NaN          30,60   \n",
       "879           Baga      3.4          247.0          156.0          5,500   \n",
       "\n",
       "    Discount_price  Taxes Building_Type       House_Rule hotel_type  \n",
       "875            NaN  2,880           NaN              NaN     4 star  \n",
       "876          201 t    201         Villa  Alcohol Allowed        NaN  \n",
       "877          911+     210   Guest House  Alcohol Allowed        NaN  \n",
       "878            NaN  5,508         Villa  Alcohol Allowed        NaN  \n",
       "879          3,961    968     Apartment              NaN     3 star  "
      ]
     },
     "execution_count": 5,
     "metadata": {},
     "output_type": "execute_result"
    }
   ],
   "source": [
    "df.tail() # check bottom 5 observations"
   ]
  },
  {
   "cell_type": "code",
   "execution_count": 6,
   "id": "d98656f0",
   "metadata": {},
   "outputs": [
    {
     "data": {
      "text/plain": [
       "Index(['Unnamed: 0', 'Hotel', 'Location', 'Ratings', 'No_of_Ratings',\n",
       "       'No_of_Reviews', 'Original_price', 'Discount_price', 'Taxes',\n",
       "       'Building_Type', 'House_Rule', 'hotel_type'],\n",
       "      dtype='object')"
      ]
     },
     "execution_count": 6,
     "metadata": {},
     "output_type": "execute_result"
    }
   ],
   "source": [
    "df.columns"
   ]
  },
  {
   "cell_type": "code",
   "execution_count": 7,
   "id": "a603ca1a",
   "metadata": {},
   "outputs": [
    {
     "data": {
      "text/plain": [
       "array(['Apartment', nan, 'Resort', 'Villa', 'Homestay', 'Hotel',\n",
       "       'Guest House'], dtype=object)"
      ]
     },
     "execution_count": 7,
     "metadata": {},
     "output_type": "execute_result"
    }
   ],
   "source": [
    "df.Building_Type.unique()"
   ]
  },
  {
   "cell_type": "code",
   "execution_count": 8,
   "id": "d25a194c",
   "metadata": {},
   "outputs": [
    {
     "name": "stdout",
     "output_type": "stream",
     "text": [
      "<class 'pandas.core.frame.DataFrame'>\n",
      "RangeIndex: 880 entries, 0 to 879\n",
      "Data columns (total 12 columns):\n",
      " #   Column          Non-Null Count  Dtype  \n",
      "---  ------          --------------  -----  \n",
      " 0   Unnamed: 0      880 non-null    int64  \n",
      " 1   Hotel           880 non-null    object \n",
      " 2   Location        880 non-null    object \n",
      " 3   Ratings         849 non-null    float64\n",
      " 4   No_of_Ratings   864 non-null    float64\n",
      " 5   No_of_Reviews   714 non-null    float64\n",
      " 6   Original_price  880 non-null    object \n",
      " 7   Discount_price  743 non-null    object \n",
      " 8   Taxes           877 non-null    object \n",
      " 9   Building_Type   572 non-null    object \n",
      " 10  House_Rule      732 non-null    object \n",
      " 11  hotel_type      553 non-null    object \n",
      "dtypes: float64(3), int64(1), object(8)\n",
      "memory usage: 82.6+ KB\n"
     ]
    }
   ],
   "source": [
    "df.info() # Check the dataset information"
   ]
  },
  {
   "cell_type": "code",
   "execution_count": 9,
   "id": "b27fdfad",
   "metadata": {},
   "outputs": [
    {
     "data": {
      "text/plain": [
       "Unnamed: 0          int64\n",
       "Hotel              object\n",
       "Location           object\n",
       "Ratings           float64\n",
       "No_of_Ratings     float64\n",
       "No_of_Reviews     float64\n",
       "Original_price     object\n",
       "Discount_price     object\n",
       "Taxes              object\n",
       "Building_Type      object\n",
       "House_Rule         object\n",
       "hotel_type         object\n",
       "dtype: object"
      ]
     },
     "execution_count": 9,
     "metadata": {},
     "output_type": "execute_result"
    },
    {
     "data": {
      "text/plain": [
       "object     8\n",
       "float64    3\n",
       "int64      1\n",
       "Name: count, dtype: int64"
      ]
     },
     "execution_count": 9,
     "metadata": {},
     "output_type": "execute_result"
    }
   ],
   "source": [
    "df.dtypes # check the dtypes of columns\n",
    "df.dtypes.value_counts() # check the count of dtypes in the dataset"
   ]
  },
  {
   "cell_type": "markdown",
   "id": "836bd6ac",
   "metadata": {},
   "source": [
    "### Check for Missing values"
   ]
  },
  {
   "cell_type": "code",
   "execution_count": 10,
   "id": "b55876ec",
   "metadata": {},
   "outputs": [
    {
     "data": {
      "text/plain": [
       "Unnamed: 0          0\n",
       "Hotel               0\n",
       "Location            0\n",
       "Ratings            31\n",
       "No_of_Ratings      16\n",
       "No_of_Reviews     166\n",
       "Original_price      0\n",
       "Discount_price    137\n",
       "Taxes               3\n",
       "Building_Type     308\n",
       "House_Rule        148\n",
       "hotel_type        327\n",
       "dtype: int64"
      ]
     },
     "execution_count": 10,
     "metadata": {},
     "output_type": "execute_result"
    }
   ],
   "source": [
    "df.isna().sum() # check for missing values"
   ]
  },
  {
   "cell_type": "code",
   "execution_count": 11,
   "id": "06eb8872",
   "metadata": {},
   "outputs": [
    {
     "data": {
      "text/plain": [
       "327"
      ]
     },
     "execution_count": 11,
     "metadata": {},
     "output_type": "execute_result"
    }
   ],
   "source": [
    "df['hotel_type'].isna().sum()"
   ]
  },
  {
   "cell_type": "code",
   "execution_count": 12,
   "id": "3b2223e8",
   "metadata": {},
   "outputs": [],
   "source": [
    "df2 = df.loc[df[\"hotel_type\"].isna() == False]"
   ]
  },
  {
   "cell_type": "code",
   "execution_count": 13,
   "id": "1f629f5a",
   "metadata": {},
   "outputs": [
    {
     "data": {
      "text/html": [
       "<div>\n",
       "<style scoped>\n",
       "    .dataframe tbody tr th:only-of-type {\n",
       "        vertical-align: middle;\n",
       "    }\n",
       "\n",
       "    .dataframe tbody tr th {\n",
       "        vertical-align: top;\n",
       "    }\n",
       "\n",
       "    .dataframe thead th {\n",
       "        text-align: right;\n",
       "    }\n",
       "</style>\n",
       "<table border=\"1\" class=\"dataframe\">\n",
       "  <thead>\n",
       "    <tr style=\"text-align: right;\">\n",
       "      <th></th>\n",
       "      <th>Unnamed: 0</th>\n",
       "      <th>Hotel</th>\n",
       "      <th>Location</th>\n",
       "      <th>Ratings</th>\n",
       "      <th>No_of_Ratings</th>\n",
       "      <th>No_of_Reviews</th>\n",
       "      <th>Original_price</th>\n",
       "      <th>Discount_price</th>\n",
       "      <th>Taxes</th>\n",
       "      <th>Building_Type</th>\n",
       "      <th>House_Rule</th>\n",
       "      <th>hotel_type</th>\n",
       "    </tr>\n",
       "  </thead>\n",
       "  <tbody>\n",
       "    <tr>\n",
       "      <th>1</th>\n",
       "      <td>1</td>\n",
       "      <td>ibis Styles Goa Calangute - An Accor Brand</td>\n",
       "      <td>Calangute</td>\n",
       "      <td>4.1</td>\n",
       "      <td>4348.0</td>\n",
       "      <td>2615.0</td>\n",
       "      <td>5,750</td>\n",
       "      <td>NaN</td>\n",
       "      <td>690</td>\n",
       "      <td>Apartment</td>\n",
       "      <td>Unmarried Couples Allowed</td>\n",
       "      <td>4 star</td>\n",
       "    </tr>\n",
       "    <tr>\n",
       "      <th>2</th>\n",
       "      <td>2</td>\n",
       "      <td>SinQ Prive</td>\n",
       "      <td>Candolim</td>\n",
       "      <td>4.0</td>\n",
       "      <td>2251.0</td>\n",
       "      <td>1239.0</td>\n",
       "      <td>3,690</td>\n",
       "      <td>3,010</td>\n",
       "      <td>720</td>\n",
       "      <td>Apartment</td>\n",
       "      <td>Alcohol Allowed</td>\n",
       "      <td>5 star</td>\n",
       "    </tr>\n",
       "    <tr>\n",
       "      <th>3</th>\n",
       "      <td>3</td>\n",
       "      <td>Ginger Goa, Panjim</td>\n",
       "      <td>Panjim</td>\n",
       "      <td>3.9</td>\n",
       "      <td>5840.0</td>\n",
       "      <td>3566.0</td>\n",
       "      <td>5,149</td>\n",
       "      <td>NaN</td>\n",
       "      <td>618</td>\n",
       "      <td>Apartment</td>\n",
       "      <td>Alcohol Allowed</td>\n",
       "      <td>3 star</td>\n",
       "    </tr>\n",
       "    <tr>\n",
       "      <th>4</th>\n",
       "      <td>4</td>\n",
       "      <td>Calangute Heights by Stay ALYF | Luxury 1 BHK ...</td>\n",
       "      <td>Calangute</td>\n",
       "      <td>4.6</td>\n",
       "      <td>235.0</td>\n",
       "      <td>111.0</td>\n",
       "      <td>6,500</td>\n",
       "      <td>2,657</td>\n",
       "      <td>736</td>\n",
       "      <td>NaN</td>\n",
       "      <td>Unmarried Couples Allowed</td>\n",
       "      <td>3 star</td>\n",
       "    </tr>\n",
       "    <tr>\n",
       "      <th>5</th>\n",
       "      <td>5</td>\n",
       "      <td>The Yellow House, Goa - IHCL SeleQtions</td>\n",
       "      <td>Anjuna</td>\n",
       "      <td>4.2</td>\n",
       "      <td>71.0</td>\n",
       "      <td>30.0</td>\n",
       "      <td>7,499</td>\n",
       "      <td>NaN</td>\n",
       "      <td>900</td>\n",
       "      <td>Resort</td>\n",
       "      <td>Alcohol Allowed</td>\n",
       "      <td>5 star</td>\n",
       "    </tr>\n",
       "    <tr>\n",
       "      <th>...</th>\n",
       "      <td>...</td>\n",
       "      <td>...</td>\n",
       "      <td>...</td>\n",
       "      <td>...</td>\n",
       "      <td>...</td>\n",
       "      <td>...</td>\n",
       "      <td>...</td>\n",
       "      <td>...</td>\n",
       "      <td>...</td>\n",
       "      <td>...</td>\n",
       "      <td>...</td>\n",
       "      <td>...</td>\n",
       "    </tr>\n",
       "    <tr>\n",
       "      <th>121</th>\n",
       "      <td>121</td>\n",
       "      <td>Kay's Riverview Resort</td>\n",
       "      <td>Baga</td>\n",
       "      <td>3.8</td>\n",
       "      <td>814.0</td>\n",
       "      <td>456.0</td>\n",
       "      <td>4,448</td>\n",
       "      <td>2,857</td>\n",
       "      <td>764</td>\n",
       "      <td>Resort</td>\n",
       "      <td>Alcohol Allowed</td>\n",
       "      <td>3 star</td>\n",
       "    </tr>\n",
       "    <tr>\n",
       "      <th>122</th>\n",
       "      <td>122</td>\n",
       "      <td>Le Meridien Goa, Calangute</td>\n",
       "      <td>Calangute</td>\n",
       "      <td>4.3</td>\n",
       "      <td>2198.0</td>\n",
       "      <td>1172.0</td>\n",
       "      <td>8,300</td>\n",
       "      <td>NaN</td>\n",
       "      <td>1,494</td>\n",
       "      <td>Apartment</td>\n",
       "      <td>Alcohol Allowed</td>\n",
       "      <td>5 star</td>\n",
       "    </tr>\n",
       "    <tr>\n",
       "      <th>125</th>\n",
       "      <td>125</td>\n",
       "      <td>TreeHouse Stamp</td>\n",
       "      <td>Benaulim</td>\n",
       "      <td>4.3</td>\n",
       "      <td>56.0</td>\n",
       "      <td>16.0</td>\n",
       "      <td>6,299</td>\n",
       "      <td>4,350</td>\n",
       "      <td>1,239</td>\n",
       "      <td>Resort</td>\n",
       "      <td>Alcohol Allowed</td>\n",
       "      <td>3 star</td>\n",
       "    </tr>\n",
       "    <tr>\n",
       "      <th>126</th>\n",
       "      <td>126</td>\n",
       "      <td>Cafe blue in Palolem</td>\n",
       "      <td>Palolem</td>\n",
       "      <td>4.2</td>\n",
       "      <td>122.0</td>\n",
       "      <td>63.0</td>\n",
       "      <td>6,500</td>\n",
       "      <td>4,279</td>\n",
       "      <td>1,011</td>\n",
       "      <td>NaN</td>\n",
       "      <td>NaN</td>\n",
       "      <td>3 star</td>\n",
       "    </tr>\n",
       "    <tr>\n",
       "      <th>127</th>\n",
       "      <td>127</td>\n",
       "      <td>Resort Terra Paraiso - A  Beach Property</td>\n",
       "      <td>Calangute</td>\n",
       "      <td>4.1</td>\n",
       "      <td>4089.0</td>\n",
       "      <td>3142.0</td>\n",
       "      <td>5,650</td>\n",
       "      <td>3,611</td>\n",
       "      <td>1,002</td>\n",
       "      <td>Resort</td>\n",
       "      <td>Alcohol Allowed</td>\n",
       "      <td>4 star</td>\n",
       "    </tr>\n",
       "  </tbody>\n",
       "</table>\n",
       "<p>100 rows × 12 columns</p>\n",
       "</div>"
      ],
      "text/plain": [
       "     Unnamed: 0                                              Hotel   Location   \n",
       "1             1         ibis Styles Goa Calangute - An Accor Brand  Calangute  \\\n",
       "2             2                                         SinQ Prive   Candolim   \n",
       "3             3                                 Ginger Goa, Panjim     Panjim   \n",
       "4             4  Calangute Heights by Stay ALYF | Luxury 1 BHK ...  Calangute   \n",
       "5             5            The Yellow House, Goa - IHCL SeleQtions     Anjuna   \n",
       "..          ...                                                ...        ...   \n",
       "121         121                             Kay's Riverview Resort       Baga   \n",
       "122         122                         Le Meridien Goa, Calangute  Calangute   \n",
       "125         125                                    TreeHouse Stamp   Benaulim   \n",
       "126         126                               Cafe blue in Palolem    Palolem   \n",
       "127         127           Resort Terra Paraiso - A  Beach Property  Calangute   \n",
       "\n",
       "     Ratings  No_of_Ratings  No_of_Reviews Original_price Discount_price   \n",
       "1        4.1         4348.0         2615.0          5,750            NaN  \\\n",
       "2        4.0         2251.0         1239.0          3,690          3,010   \n",
       "3        3.9         5840.0         3566.0          5,149            NaN   \n",
       "4        4.6          235.0          111.0          6,500          2,657   \n",
       "5        4.2           71.0           30.0          7,499            NaN   \n",
       "..       ...            ...            ...            ...            ...   \n",
       "121      3.8          814.0          456.0          4,448          2,857   \n",
       "122      4.3         2198.0         1172.0          8,300            NaN   \n",
       "125      4.3           56.0           16.0          6,299          4,350   \n",
       "126      4.2          122.0           63.0          6,500          4,279   \n",
       "127      4.1         4089.0         3142.0          5,650          3,611   \n",
       "\n",
       "     Taxes Building_Type                 House_Rule hotel_type  \n",
       "1      690     Apartment  Unmarried Couples Allowed     4 star  \n",
       "2      720     Apartment            Alcohol Allowed     5 star  \n",
       "3      618     Apartment            Alcohol Allowed     3 star  \n",
       "4      736           NaN  Unmarried Couples Allowed     3 star  \n",
       "5      900        Resort            Alcohol Allowed     5 star  \n",
       "..     ...           ...                        ...        ...  \n",
       "121    764        Resort            Alcohol Allowed     3 star  \n",
       "122  1,494     Apartment            Alcohol Allowed     5 star  \n",
       "125  1,239        Resort            Alcohol Allowed     3 star  \n",
       "126  1,011           NaN                        NaN     3 star  \n",
       "127  1,002        Resort            Alcohol Allowed     4 star  \n",
       "\n",
       "[100 rows x 12 columns]"
      ]
     },
     "execution_count": 13,
     "metadata": {},
     "output_type": "execute_result"
    }
   ],
   "source": [
    "df2.head(100)"
   ]
  },
  {
   "cell_type": "code",
   "execution_count": 14,
   "id": "09994715",
   "metadata": {},
   "outputs": [
    {
     "data": {
      "text/plain": [
       "(553, 12)"
      ]
     },
     "execution_count": 14,
     "metadata": {},
     "output_type": "execute_result"
    }
   ],
   "source": [
    "df2.shape"
   ]
  },
  {
   "cell_type": "code",
   "execution_count": 15,
   "id": "7a44a385",
   "metadata": {},
   "outputs": [
    {
     "data": {
      "text/plain": [
       "Unnamed: 0          0\n",
       "Hotel               0\n",
       "Location            0\n",
       "Ratings            12\n",
       "No_of_Ratings       4\n",
       "No_of_Reviews      60\n",
       "Original_price      0\n",
       "Discount_price     94\n",
       "Taxes               1\n",
       "Building_Type     124\n",
       "House_Rule         82\n",
       "hotel_type          0\n",
       "dtype: int64"
      ]
     },
     "execution_count": 15,
     "metadata": {},
     "output_type": "execute_result"
    }
   ],
   "source": [
    "df2.isna().sum()"
   ]
  },
  {
   "cell_type": "code",
   "execution_count": null,
   "id": "70f93413",
   "metadata": {},
   "outputs": [],
   "source": []
  },
  {
   "cell_type": "code",
   "execution_count": 16,
   "id": "2430a3df",
   "metadata": {},
   "outputs": [
    {
     "data": {
      "text/plain": [
       "1      False\n",
       "2      False\n",
       "3      False\n",
       "4      False\n",
       "5      False\n",
       "       ...  \n",
       "872    False\n",
       "873    False\n",
       "874    False\n",
       "875    False\n",
       "879    False\n",
       "Length: 553, dtype: bool"
      ]
     },
     "execution_count": 16,
     "metadata": {},
     "output_type": "execute_result"
    }
   ],
   "source": [
    "df2.duplicated()"
   ]
  },
  {
   "cell_type": "code",
   "execution_count": 17,
   "id": "e39a3f23",
   "metadata": {},
   "outputs": [
    {
     "data": {
      "text/plain": [
       "hotel_type\n",
       "3 star    353\n",
       "4 star    145\n",
       "5 star     55\n",
       "Name: count, dtype: int64"
      ]
     },
     "execution_count": 17,
     "metadata": {},
     "output_type": "execute_result"
    }
   ],
   "source": [
    "df2[\"hotel_type\"].value_counts()"
   ]
  },
  {
   "cell_type": "code",
   "execution_count": 18,
   "id": "3f13ebcd",
   "metadata": {},
   "outputs": [
    {
     "data": {
      "text/plain": [
       "Building_Type     124\n",
       "Discount_price     94\n",
       "House_Rule         82\n",
       "No_of_Reviews      60\n",
       "Ratings            12\n",
       "No_of_Ratings       4\n",
       "Taxes               1\n",
       "Unnamed: 0          0\n",
       "Hotel               0\n",
       "Location            0\n",
       "Original_price      0\n",
       "hotel_type          0\n",
       "dtype: int64"
      ]
     },
     "execution_count": 18,
     "metadata": {},
     "output_type": "execute_result"
    }
   ],
   "source": [
    "df2.isna().sum().sort_values(ascending = False)\n",
    "# Sort the missing value output based on count "
   ]
  },
  {
   "cell_type": "code",
   "execution_count": 19,
   "id": "282ab40a",
   "metadata": {},
   "outputs": [
    {
     "data": {
      "text/plain": [
       "Building_Type\n",
       "Apartment      200\n",
       "Resort         180\n",
       "Hotel           24\n",
       "Villa           11\n",
       "Homestay        10\n",
       "Guest House      4\n",
       "Name: count, dtype: int64"
      ]
     },
     "execution_count": 19,
     "metadata": {},
     "output_type": "execute_result"
    }
   ],
   "source": [
    "df2[\"Building_Type\"].value_counts()"
   ]
  },
  {
   "cell_type": "code",
   "execution_count": 20,
   "id": "7c4f1d0d",
   "metadata": {},
   "outputs": [
    {
     "data": {
      "text/plain": [
       "(553, 12)"
      ]
     },
     "execution_count": 20,
     "metadata": {},
     "output_type": "execute_result"
    }
   ],
   "source": [
    "df2.shape"
   ]
  },
  {
   "cell_type": "code",
   "execution_count": 32,
   "id": "c39c48e4",
   "metadata": {},
   "outputs": [
    {
     "data": {
      "text/plain": [
       "Discount_price      8.409090909090908%\n",
       "Ratings                          1.25%\n",
       "No_of_Ratings      0.3409090909090909%\n",
       "Taxes             0.11363636363636363%\n",
       "Hotel                             0.0%\n",
       "Location                          0.0%\n",
       "Original_price                    0.0%\n",
       "Building_Type                     0.0%\n",
       "House_Rule                        0.0%\n",
       "hotel_type                        0.0%\n",
       "dtype: object"
      ]
     },
     "execution_count": 32,
     "metadata": {},
     "output_type": "execute_result"
    }
   ],
   "source": [
    "# Check the missing value percentage in each column \n",
    "\n",
    "((((df2.isna().sum().sort_values(ascending = False))/len(df))*100).astype(str) + \"%\").head(30)"
   ]
  },
  {
   "cell_type": "markdown",
   "id": "d22c5b88",
   "metadata": {},
   "source": [
    "### Droping Unwanted Columns"
   ]
  },
  {
   "cell_type": "code",
   "execution_count": 33,
   "id": "ed93c57d",
   "metadata": {},
   "outputs": [
    {
     "ename": "KeyError",
     "evalue": "\"['Unnamed: 0'] not found in axis\"",
     "output_type": "error",
     "traceback": [
      "\u001b[1;31m---------------------------------------------------------------------------\u001b[0m",
      "\u001b[1;31mKeyError\u001b[0m                                  Traceback (most recent call last)",
      "Cell \u001b[1;32mIn[33], line 1\u001b[0m\n\u001b[1;32m----> 1\u001b[0m \u001b[43mdf2\u001b[49m\u001b[38;5;241;43m.\u001b[39;49m\u001b[43mdrop\u001b[49m\u001b[43m(\u001b[49m\u001b[43mcolumns\u001b[49m\u001b[43m \u001b[49m\u001b[38;5;241;43m=\u001b[39;49m\u001b[43m \u001b[49m\u001b[38;5;124;43m'\u001b[39;49m\u001b[38;5;124;43mUnnamed: 0\u001b[39;49m\u001b[38;5;124;43m'\u001b[39;49m\u001b[43m,\u001b[49m\u001b[43m \u001b[49m\u001b[43minplace\u001b[49m\u001b[43m \u001b[49m\u001b[38;5;241;43m=\u001b[39;49m\u001b[43m \u001b[49m\u001b[38;5;28;43;01mTrue\u001b[39;49;00m\u001b[43m)\u001b[49m\n",
      "File \u001b[1;32m~\\AppData\\Local\\Programs\\Python\\Python310\\lib\\site-packages\\pandas\\core\\frame.py:5268\u001b[0m, in \u001b[0;36mDataFrame.drop\u001b[1;34m(self, labels, axis, index, columns, level, inplace, errors)\u001b[0m\n\u001b[0;32m   5120\u001b[0m \u001b[38;5;28;01mdef\u001b[39;00m \u001b[38;5;21mdrop\u001b[39m(\n\u001b[0;32m   5121\u001b[0m     \u001b[38;5;28mself\u001b[39m,\n\u001b[0;32m   5122\u001b[0m     labels: IndexLabel \u001b[38;5;241m=\u001b[39m \u001b[38;5;28;01mNone\u001b[39;00m,\n\u001b[1;32m   (...)\u001b[0m\n\u001b[0;32m   5129\u001b[0m     errors: IgnoreRaise \u001b[38;5;241m=\u001b[39m \u001b[38;5;124m\"\u001b[39m\u001b[38;5;124mraise\u001b[39m\u001b[38;5;124m\"\u001b[39m,\n\u001b[0;32m   5130\u001b[0m ) \u001b[38;5;241m-\u001b[39m\u001b[38;5;241m>\u001b[39m DataFrame \u001b[38;5;241m|\u001b[39m \u001b[38;5;28;01mNone\u001b[39;00m:\n\u001b[0;32m   5131\u001b[0m \u001b[38;5;250m    \u001b[39m\u001b[38;5;124;03m\"\"\"\u001b[39;00m\n\u001b[0;32m   5132\u001b[0m \u001b[38;5;124;03m    Drop specified labels from rows or columns.\u001b[39;00m\n\u001b[0;32m   5133\u001b[0m \n\u001b[1;32m   (...)\u001b[0m\n\u001b[0;32m   5266\u001b[0m \u001b[38;5;124;03m            weight  1.0     0.8\u001b[39;00m\n\u001b[0;32m   5267\u001b[0m \u001b[38;5;124;03m    \"\"\"\u001b[39;00m\n\u001b[1;32m-> 5268\u001b[0m     \u001b[38;5;28;01mreturn\u001b[39;00m \u001b[38;5;28;43msuper\u001b[39;49m\u001b[43m(\u001b[49m\u001b[43m)\u001b[49m\u001b[38;5;241;43m.\u001b[39;49m\u001b[43mdrop\u001b[49m\u001b[43m(\u001b[49m\n\u001b[0;32m   5269\u001b[0m \u001b[43m        \u001b[49m\u001b[43mlabels\u001b[49m\u001b[38;5;241;43m=\u001b[39;49m\u001b[43mlabels\u001b[49m\u001b[43m,\u001b[49m\n\u001b[0;32m   5270\u001b[0m \u001b[43m        \u001b[49m\u001b[43maxis\u001b[49m\u001b[38;5;241;43m=\u001b[39;49m\u001b[43maxis\u001b[49m\u001b[43m,\u001b[49m\n\u001b[0;32m   5271\u001b[0m \u001b[43m        \u001b[49m\u001b[43mindex\u001b[49m\u001b[38;5;241;43m=\u001b[39;49m\u001b[43mindex\u001b[49m\u001b[43m,\u001b[49m\n\u001b[0;32m   5272\u001b[0m \u001b[43m        \u001b[49m\u001b[43mcolumns\u001b[49m\u001b[38;5;241;43m=\u001b[39;49m\u001b[43mcolumns\u001b[49m\u001b[43m,\u001b[49m\n\u001b[0;32m   5273\u001b[0m \u001b[43m        \u001b[49m\u001b[43mlevel\u001b[49m\u001b[38;5;241;43m=\u001b[39;49m\u001b[43mlevel\u001b[49m\u001b[43m,\u001b[49m\n\u001b[0;32m   5274\u001b[0m \u001b[43m        \u001b[49m\u001b[43minplace\u001b[49m\u001b[38;5;241;43m=\u001b[39;49m\u001b[43minplace\u001b[49m\u001b[43m,\u001b[49m\n\u001b[0;32m   5275\u001b[0m \u001b[43m        \u001b[49m\u001b[43merrors\u001b[49m\u001b[38;5;241;43m=\u001b[39;49m\u001b[43merrors\u001b[49m\u001b[43m,\u001b[49m\n\u001b[0;32m   5276\u001b[0m \u001b[43m    \u001b[49m\u001b[43m)\u001b[49m\n",
      "File \u001b[1;32m~\\AppData\\Local\\Programs\\Python\\Python310\\lib\\site-packages\\pandas\\core\\generic.py:4549\u001b[0m, in \u001b[0;36mNDFrame.drop\u001b[1;34m(self, labels, axis, index, columns, level, inplace, errors)\u001b[0m\n\u001b[0;32m   4547\u001b[0m \u001b[38;5;28;01mfor\u001b[39;00m axis, labels \u001b[38;5;129;01min\u001b[39;00m axes\u001b[38;5;241m.\u001b[39mitems():\n\u001b[0;32m   4548\u001b[0m     \u001b[38;5;28;01mif\u001b[39;00m labels \u001b[38;5;129;01mis\u001b[39;00m \u001b[38;5;129;01mnot\u001b[39;00m \u001b[38;5;28;01mNone\u001b[39;00m:\n\u001b[1;32m-> 4549\u001b[0m         obj \u001b[38;5;241m=\u001b[39m \u001b[43mobj\u001b[49m\u001b[38;5;241;43m.\u001b[39;49m\u001b[43m_drop_axis\u001b[49m\u001b[43m(\u001b[49m\u001b[43mlabels\u001b[49m\u001b[43m,\u001b[49m\u001b[43m \u001b[49m\u001b[43maxis\u001b[49m\u001b[43m,\u001b[49m\u001b[43m \u001b[49m\u001b[43mlevel\u001b[49m\u001b[38;5;241;43m=\u001b[39;49m\u001b[43mlevel\u001b[49m\u001b[43m,\u001b[49m\u001b[43m \u001b[49m\u001b[43merrors\u001b[49m\u001b[38;5;241;43m=\u001b[39;49m\u001b[43merrors\u001b[49m\u001b[43m)\u001b[49m\n\u001b[0;32m   4551\u001b[0m \u001b[38;5;28;01mif\u001b[39;00m inplace:\n\u001b[0;32m   4552\u001b[0m     \u001b[38;5;28mself\u001b[39m\u001b[38;5;241m.\u001b[39m_update_inplace(obj)\n",
      "File \u001b[1;32m~\\AppData\\Local\\Programs\\Python\\Python310\\lib\\site-packages\\pandas\\core\\generic.py:4591\u001b[0m, in \u001b[0;36mNDFrame._drop_axis\u001b[1;34m(self, labels, axis, level, errors, only_slice)\u001b[0m\n\u001b[0;32m   4589\u001b[0m         new_axis \u001b[38;5;241m=\u001b[39m axis\u001b[38;5;241m.\u001b[39mdrop(labels, level\u001b[38;5;241m=\u001b[39mlevel, errors\u001b[38;5;241m=\u001b[39merrors)\n\u001b[0;32m   4590\u001b[0m     \u001b[38;5;28;01melse\u001b[39;00m:\n\u001b[1;32m-> 4591\u001b[0m         new_axis \u001b[38;5;241m=\u001b[39m \u001b[43maxis\u001b[49m\u001b[38;5;241;43m.\u001b[39;49m\u001b[43mdrop\u001b[49m\u001b[43m(\u001b[49m\u001b[43mlabels\u001b[49m\u001b[43m,\u001b[49m\u001b[43m \u001b[49m\u001b[43merrors\u001b[49m\u001b[38;5;241;43m=\u001b[39;49m\u001b[43merrors\u001b[49m\u001b[43m)\u001b[49m\n\u001b[0;32m   4592\u001b[0m     indexer \u001b[38;5;241m=\u001b[39m axis\u001b[38;5;241m.\u001b[39mget_indexer(new_axis)\n\u001b[0;32m   4594\u001b[0m \u001b[38;5;66;03m# Case for non-unique axis\u001b[39;00m\n\u001b[0;32m   4595\u001b[0m \u001b[38;5;28;01melse\u001b[39;00m:\n",
      "File \u001b[1;32m~\\AppData\\Local\\Programs\\Python\\Python310\\lib\\site-packages\\pandas\\core\\indexes\\base.py:6696\u001b[0m, in \u001b[0;36mIndex.drop\u001b[1;34m(self, labels, errors)\u001b[0m\n\u001b[0;32m   6694\u001b[0m \u001b[38;5;28;01mif\u001b[39;00m mask\u001b[38;5;241m.\u001b[39many():\n\u001b[0;32m   6695\u001b[0m     \u001b[38;5;28;01mif\u001b[39;00m errors \u001b[38;5;241m!=\u001b[39m \u001b[38;5;124m\"\u001b[39m\u001b[38;5;124mignore\u001b[39m\u001b[38;5;124m\"\u001b[39m:\n\u001b[1;32m-> 6696\u001b[0m         \u001b[38;5;28;01mraise\u001b[39;00m \u001b[38;5;167;01mKeyError\u001b[39;00m(\u001b[38;5;124mf\u001b[39m\u001b[38;5;124m\"\u001b[39m\u001b[38;5;132;01m{\u001b[39;00m\u001b[38;5;28mlist\u001b[39m(labels[mask])\u001b[38;5;132;01m}\u001b[39;00m\u001b[38;5;124m not found in axis\u001b[39m\u001b[38;5;124m\"\u001b[39m)\n\u001b[0;32m   6697\u001b[0m     indexer \u001b[38;5;241m=\u001b[39m indexer[\u001b[38;5;241m~\u001b[39mmask]\n\u001b[0;32m   6698\u001b[0m \u001b[38;5;28;01mreturn\u001b[39;00m \u001b[38;5;28mself\u001b[39m\u001b[38;5;241m.\u001b[39mdelete(indexer)\n",
      "\u001b[1;31mKeyError\u001b[0m: \"['Unnamed: 0'] not found in axis\""
     ]
    }
   ],
   "source": [
    "df2.drop(columns = 'Unnamed: 0', inplace = True)"
   ]
  },
  {
   "cell_type": "code",
   "execution_count": 34,
   "id": "c176f56f",
   "metadata": {},
   "outputs": [
    {
     "data": {
      "text/plain": [
       "(406, 10)"
      ]
     },
     "execution_count": 34,
     "metadata": {},
     "output_type": "execute_result"
    }
   ],
   "source": [
    "df2.shape"
   ]
  },
  {
   "cell_type": "code",
   "execution_count": 35,
   "id": "ca70779f",
   "metadata": {},
   "outputs": [
    {
     "ename": "KeyError",
     "evalue": "\"['No_of_Reviews'] not found in axis\"",
     "output_type": "error",
     "traceback": [
      "\u001b[1;31m---------------------------------------------------------------------------\u001b[0m",
      "\u001b[1;31mKeyError\u001b[0m                                  Traceback (most recent call last)",
      "Cell \u001b[1;32mIn[35], line 1\u001b[0m\n\u001b[1;32m----> 1\u001b[0m \u001b[43mdf2\u001b[49m\u001b[38;5;241;43m.\u001b[39;49m\u001b[43mdrop\u001b[49m\u001b[43m(\u001b[49m\u001b[38;5;124;43m'\u001b[39;49m\u001b[38;5;124;43mNo_of_Reviews\u001b[39;49m\u001b[38;5;124;43m'\u001b[39;49m\u001b[43m,\u001b[49m\u001b[43m \u001b[49m\u001b[43maxis\u001b[49m\u001b[43m \u001b[49m\u001b[38;5;241;43m=\u001b[39;49m\u001b[43m \u001b[49m\u001b[38;5;241;43m1\u001b[39;49m\u001b[43m,\u001b[49m\u001b[43m \u001b[49m\u001b[43minplace\u001b[49m\u001b[43m \u001b[49m\u001b[38;5;241;43m=\u001b[39;49m\u001b[43m \u001b[49m\u001b[38;5;28;43;01mTrue\u001b[39;49;00m\u001b[43m)\u001b[49m\n",
      "File \u001b[1;32m~\\AppData\\Local\\Programs\\Python\\Python310\\lib\\site-packages\\pandas\\core\\frame.py:5268\u001b[0m, in \u001b[0;36mDataFrame.drop\u001b[1;34m(self, labels, axis, index, columns, level, inplace, errors)\u001b[0m\n\u001b[0;32m   5120\u001b[0m \u001b[38;5;28;01mdef\u001b[39;00m \u001b[38;5;21mdrop\u001b[39m(\n\u001b[0;32m   5121\u001b[0m     \u001b[38;5;28mself\u001b[39m,\n\u001b[0;32m   5122\u001b[0m     labels: IndexLabel \u001b[38;5;241m=\u001b[39m \u001b[38;5;28;01mNone\u001b[39;00m,\n\u001b[1;32m   (...)\u001b[0m\n\u001b[0;32m   5129\u001b[0m     errors: IgnoreRaise \u001b[38;5;241m=\u001b[39m \u001b[38;5;124m\"\u001b[39m\u001b[38;5;124mraise\u001b[39m\u001b[38;5;124m\"\u001b[39m,\n\u001b[0;32m   5130\u001b[0m ) \u001b[38;5;241m-\u001b[39m\u001b[38;5;241m>\u001b[39m DataFrame \u001b[38;5;241m|\u001b[39m \u001b[38;5;28;01mNone\u001b[39;00m:\n\u001b[0;32m   5131\u001b[0m \u001b[38;5;250m    \u001b[39m\u001b[38;5;124;03m\"\"\"\u001b[39;00m\n\u001b[0;32m   5132\u001b[0m \u001b[38;5;124;03m    Drop specified labels from rows or columns.\u001b[39;00m\n\u001b[0;32m   5133\u001b[0m \n\u001b[1;32m   (...)\u001b[0m\n\u001b[0;32m   5266\u001b[0m \u001b[38;5;124;03m            weight  1.0     0.8\u001b[39;00m\n\u001b[0;32m   5267\u001b[0m \u001b[38;5;124;03m    \"\"\"\u001b[39;00m\n\u001b[1;32m-> 5268\u001b[0m     \u001b[38;5;28;01mreturn\u001b[39;00m \u001b[38;5;28;43msuper\u001b[39;49m\u001b[43m(\u001b[49m\u001b[43m)\u001b[49m\u001b[38;5;241;43m.\u001b[39;49m\u001b[43mdrop\u001b[49m\u001b[43m(\u001b[49m\n\u001b[0;32m   5269\u001b[0m \u001b[43m        \u001b[49m\u001b[43mlabels\u001b[49m\u001b[38;5;241;43m=\u001b[39;49m\u001b[43mlabels\u001b[49m\u001b[43m,\u001b[49m\n\u001b[0;32m   5270\u001b[0m \u001b[43m        \u001b[49m\u001b[43maxis\u001b[49m\u001b[38;5;241;43m=\u001b[39;49m\u001b[43maxis\u001b[49m\u001b[43m,\u001b[49m\n\u001b[0;32m   5271\u001b[0m \u001b[43m        \u001b[49m\u001b[43mindex\u001b[49m\u001b[38;5;241;43m=\u001b[39;49m\u001b[43mindex\u001b[49m\u001b[43m,\u001b[49m\n\u001b[0;32m   5272\u001b[0m \u001b[43m        \u001b[49m\u001b[43mcolumns\u001b[49m\u001b[38;5;241;43m=\u001b[39;49m\u001b[43mcolumns\u001b[49m\u001b[43m,\u001b[49m\n\u001b[0;32m   5273\u001b[0m \u001b[43m        \u001b[49m\u001b[43mlevel\u001b[49m\u001b[38;5;241;43m=\u001b[39;49m\u001b[43mlevel\u001b[49m\u001b[43m,\u001b[49m\n\u001b[0;32m   5274\u001b[0m \u001b[43m        \u001b[49m\u001b[43minplace\u001b[49m\u001b[38;5;241;43m=\u001b[39;49m\u001b[43minplace\u001b[49m\u001b[43m,\u001b[49m\n\u001b[0;32m   5275\u001b[0m \u001b[43m        \u001b[49m\u001b[43merrors\u001b[49m\u001b[38;5;241;43m=\u001b[39;49m\u001b[43merrors\u001b[49m\u001b[43m,\u001b[49m\n\u001b[0;32m   5276\u001b[0m \u001b[43m    \u001b[49m\u001b[43m)\u001b[49m\n",
      "File \u001b[1;32m~\\AppData\\Local\\Programs\\Python\\Python310\\lib\\site-packages\\pandas\\core\\generic.py:4549\u001b[0m, in \u001b[0;36mNDFrame.drop\u001b[1;34m(self, labels, axis, index, columns, level, inplace, errors)\u001b[0m\n\u001b[0;32m   4547\u001b[0m \u001b[38;5;28;01mfor\u001b[39;00m axis, labels \u001b[38;5;129;01min\u001b[39;00m axes\u001b[38;5;241m.\u001b[39mitems():\n\u001b[0;32m   4548\u001b[0m     \u001b[38;5;28;01mif\u001b[39;00m labels \u001b[38;5;129;01mis\u001b[39;00m \u001b[38;5;129;01mnot\u001b[39;00m \u001b[38;5;28;01mNone\u001b[39;00m:\n\u001b[1;32m-> 4549\u001b[0m         obj \u001b[38;5;241m=\u001b[39m \u001b[43mobj\u001b[49m\u001b[38;5;241;43m.\u001b[39;49m\u001b[43m_drop_axis\u001b[49m\u001b[43m(\u001b[49m\u001b[43mlabels\u001b[49m\u001b[43m,\u001b[49m\u001b[43m \u001b[49m\u001b[43maxis\u001b[49m\u001b[43m,\u001b[49m\u001b[43m \u001b[49m\u001b[43mlevel\u001b[49m\u001b[38;5;241;43m=\u001b[39;49m\u001b[43mlevel\u001b[49m\u001b[43m,\u001b[49m\u001b[43m \u001b[49m\u001b[43merrors\u001b[49m\u001b[38;5;241;43m=\u001b[39;49m\u001b[43merrors\u001b[49m\u001b[43m)\u001b[49m\n\u001b[0;32m   4551\u001b[0m \u001b[38;5;28;01mif\u001b[39;00m inplace:\n\u001b[0;32m   4552\u001b[0m     \u001b[38;5;28mself\u001b[39m\u001b[38;5;241m.\u001b[39m_update_inplace(obj)\n",
      "File \u001b[1;32m~\\AppData\\Local\\Programs\\Python\\Python310\\lib\\site-packages\\pandas\\core\\generic.py:4591\u001b[0m, in \u001b[0;36mNDFrame._drop_axis\u001b[1;34m(self, labels, axis, level, errors, only_slice)\u001b[0m\n\u001b[0;32m   4589\u001b[0m         new_axis \u001b[38;5;241m=\u001b[39m axis\u001b[38;5;241m.\u001b[39mdrop(labels, level\u001b[38;5;241m=\u001b[39mlevel, errors\u001b[38;5;241m=\u001b[39merrors)\n\u001b[0;32m   4590\u001b[0m     \u001b[38;5;28;01melse\u001b[39;00m:\n\u001b[1;32m-> 4591\u001b[0m         new_axis \u001b[38;5;241m=\u001b[39m \u001b[43maxis\u001b[49m\u001b[38;5;241;43m.\u001b[39;49m\u001b[43mdrop\u001b[49m\u001b[43m(\u001b[49m\u001b[43mlabels\u001b[49m\u001b[43m,\u001b[49m\u001b[43m \u001b[49m\u001b[43merrors\u001b[49m\u001b[38;5;241;43m=\u001b[39;49m\u001b[43merrors\u001b[49m\u001b[43m)\u001b[49m\n\u001b[0;32m   4592\u001b[0m     indexer \u001b[38;5;241m=\u001b[39m axis\u001b[38;5;241m.\u001b[39mget_indexer(new_axis)\n\u001b[0;32m   4594\u001b[0m \u001b[38;5;66;03m# Case for non-unique axis\u001b[39;00m\n\u001b[0;32m   4595\u001b[0m \u001b[38;5;28;01melse\u001b[39;00m:\n",
      "File \u001b[1;32m~\\AppData\\Local\\Programs\\Python\\Python310\\lib\\site-packages\\pandas\\core\\indexes\\base.py:6696\u001b[0m, in \u001b[0;36mIndex.drop\u001b[1;34m(self, labels, errors)\u001b[0m\n\u001b[0;32m   6694\u001b[0m \u001b[38;5;28;01mif\u001b[39;00m mask\u001b[38;5;241m.\u001b[39many():\n\u001b[0;32m   6695\u001b[0m     \u001b[38;5;28;01mif\u001b[39;00m errors \u001b[38;5;241m!=\u001b[39m \u001b[38;5;124m\"\u001b[39m\u001b[38;5;124mignore\u001b[39m\u001b[38;5;124m\"\u001b[39m:\n\u001b[1;32m-> 6696\u001b[0m         \u001b[38;5;28;01mraise\u001b[39;00m \u001b[38;5;167;01mKeyError\u001b[39;00m(\u001b[38;5;124mf\u001b[39m\u001b[38;5;124m\"\u001b[39m\u001b[38;5;132;01m{\u001b[39;00m\u001b[38;5;28mlist\u001b[39m(labels[mask])\u001b[38;5;132;01m}\u001b[39;00m\u001b[38;5;124m not found in axis\u001b[39m\u001b[38;5;124m\"\u001b[39m)\n\u001b[0;32m   6697\u001b[0m     indexer \u001b[38;5;241m=\u001b[39m indexer[\u001b[38;5;241m~\u001b[39mmask]\n\u001b[0;32m   6698\u001b[0m \u001b[38;5;28;01mreturn\u001b[39;00m \u001b[38;5;28mself\u001b[39m\u001b[38;5;241m.\u001b[39mdelete(indexer)\n",
      "\u001b[1;31mKeyError\u001b[0m: \"['No_of_Reviews'] not found in axis\""
     ]
    }
   ],
   "source": [
    "df2.drop('No_of_Reviews', axis = 1, inplace = True)"
   ]
  },
  {
   "cell_type": "code",
   "execution_count": 36,
   "id": "35fd2fe4",
   "metadata": {},
   "outputs": [
    {
     "data": {
      "text/html": [
       "<div>\n",
       "<style scoped>\n",
       "    .dataframe tbody tr th:only-of-type {\n",
       "        vertical-align: middle;\n",
       "    }\n",
       "\n",
       "    .dataframe tbody tr th {\n",
       "        vertical-align: top;\n",
       "    }\n",
       "\n",
       "    .dataframe thead th {\n",
       "        text-align: right;\n",
       "    }\n",
       "</style>\n",
       "<table border=\"1\" class=\"dataframe\">\n",
       "  <thead>\n",
       "    <tr style=\"text-align: right;\">\n",
       "      <th></th>\n",
       "      <th>Hotel</th>\n",
       "      <th>Location</th>\n",
       "      <th>Ratings</th>\n",
       "      <th>No_of_Ratings</th>\n",
       "      <th>Original_price</th>\n",
       "      <th>Discount_price</th>\n",
       "      <th>Taxes</th>\n",
       "      <th>Building_Type</th>\n",
       "      <th>House_Rule</th>\n",
       "      <th>hotel_type</th>\n",
       "    </tr>\n",
       "  </thead>\n",
       "  <tbody>\n",
       "    <tr>\n",
       "      <th>1</th>\n",
       "      <td>ibis Styles Goa Calangute - An Accor Brand</td>\n",
       "      <td>Calangute</td>\n",
       "      <td>4.1</td>\n",
       "      <td>4348.0</td>\n",
       "      <td>5,750</td>\n",
       "      <td>NaN</td>\n",
       "      <td>690</td>\n",
       "      <td>Apartment</td>\n",
       "      <td>Unmarried Couples Allowed</td>\n",
       "      <td>4 star</td>\n",
       "    </tr>\n",
       "    <tr>\n",
       "      <th>2</th>\n",
       "      <td>SinQ Prive</td>\n",
       "      <td>Candolim</td>\n",
       "      <td>4.0</td>\n",
       "      <td>2251.0</td>\n",
       "      <td>3,690</td>\n",
       "      <td>3,010</td>\n",
       "      <td>720</td>\n",
       "      <td>Apartment</td>\n",
       "      <td>Alcohol Allowed</td>\n",
       "      <td>5 star</td>\n",
       "    </tr>\n",
       "    <tr>\n",
       "      <th>3</th>\n",
       "      <td>Ginger Goa, Panjim</td>\n",
       "      <td>Panjim</td>\n",
       "      <td>3.9</td>\n",
       "      <td>5840.0</td>\n",
       "      <td>5,149</td>\n",
       "      <td>NaN</td>\n",
       "      <td>618</td>\n",
       "      <td>Apartment</td>\n",
       "      <td>Alcohol Allowed</td>\n",
       "      <td>3 star</td>\n",
       "    </tr>\n",
       "    <tr>\n",
       "      <th>5</th>\n",
       "      <td>The Yellow House, Goa - IHCL SeleQtions</td>\n",
       "      <td>Anjuna</td>\n",
       "      <td>4.2</td>\n",
       "      <td>71.0</td>\n",
       "      <td>7,499</td>\n",
       "      <td>NaN</td>\n",
       "      <td>900</td>\n",
       "      <td>Resort</td>\n",
       "      <td>Alcohol Allowed</td>\n",
       "      <td>5 star</td>\n",
       "    </tr>\n",
       "    <tr>\n",
       "      <th>7</th>\n",
       "      <td>Novotel Goa Panjim</td>\n",
       "      <td>Panjim</td>\n",
       "      <td>NaN</td>\n",
       "      <td>NaN</td>\n",
       "      <td>12,29</td>\n",
       "      <td>NaN</td>\n",
       "      <td>2,214</td>\n",
       "      <td>Apartment</td>\n",
       "      <td>Alcohol Allowed</td>\n",
       "      <td>5 star</td>\n",
       "    </tr>\n",
       "    <tr>\n",
       "      <th>8</th>\n",
       "      <td>Goa Woodlands Hotel</td>\n",
       "      <td>Margao</td>\n",
       "      <td>4.1</td>\n",
       "      <td>1503.0</td>\n",
       "      <td>3,500</td>\n",
       "      <td>2,859</td>\n",
       "      <td>754</td>\n",
       "      <td>Apartment</td>\n",
       "      <td>Unmarried Couples Allowed</td>\n",
       "      <td>3 star</td>\n",
       "    </tr>\n",
       "    <tr>\n",
       "      <th>10</th>\n",
       "      <td>Hotel Jyoti Plaza</td>\n",
       "      <td>Margao</td>\n",
       "      <td>3.8</td>\n",
       "      <td>1035.0</td>\n",
       "      <td>3,105</td>\n",
       "      <td>1,839</td>\n",
       "      <td>520</td>\n",
       "      <td>Apartment</td>\n",
       "      <td>Unmarried Couples Allowed</td>\n",
       "      <td>3 star</td>\n",
       "    </tr>\n",
       "    <tr>\n",
       "      <th>12</th>\n",
       "      <td>Taj Exotica Resort &amp; Spa, Goa</td>\n",
       "      <td>Benaulim</td>\n",
       "      <td>4.7</td>\n",
       "      <td>1168.0</td>\n",
       "      <td>19,50</td>\n",
       "      <td>NaN</td>\n",
       "      <td>3,510</td>\n",
       "      <td>Apartment</td>\n",
       "      <td>Alcohol Allowed</td>\n",
       "      <td>5 star</td>\n",
       "    </tr>\n",
       "    <tr>\n",
       "      <th>13</th>\n",
       "      <td>The Park Calangute</td>\n",
       "      <td>Calangute</td>\n",
       "      <td>3.9</td>\n",
       "      <td>784.0</td>\n",
       "      <td>12,37</td>\n",
       "      <td>NaN</td>\n",
       "      <td>2,351</td>\n",
       "      <td>Resort</td>\n",
       "      <td>Alcohol Allowed</td>\n",
       "      <td>4 star</td>\n",
       "    </tr>\n",
       "    <tr>\n",
       "      <th>14</th>\n",
       "      <td>TreeHouse Neptune</td>\n",
       "      <td>Panjim</td>\n",
       "      <td>3.8</td>\n",
       "      <td>956.0</td>\n",
       "      <td>10,35</td>\n",
       "      <td>NaN</td>\n",
       "      <td>2,186</td>\n",
       "      <td>Apartment</td>\n",
       "      <td>Alcohol Allowed</td>\n",
       "      <td>4 star</td>\n",
       "    </tr>\n",
       "    <tr>\n",
       "      <th>16</th>\n",
       "      <td>The Park Baga River Goa (Adults only Property)</td>\n",
       "      <td>Baga</td>\n",
       "      <td>4.1</td>\n",
       "      <td>1736.0</td>\n",
       "      <td>17,00</td>\n",
       "      <td>NaN</td>\n",
       "      <td>3,060</td>\n",
       "      <td>Resort</td>\n",
       "      <td>Alcohol Allowed</td>\n",
       "      <td>5 star</td>\n",
       "    </tr>\n",
       "    <tr>\n",
       "      <th>17</th>\n",
       "      <td>Taj Fort Aguada Resort &amp; Spa, Goa</td>\n",
       "      <td>Candolim</td>\n",
       "      <td>4.6</td>\n",
       "      <td>2880.0</td>\n",
       "      <td>16,00</td>\n",
       "      <td>NaN</td>\n",
       "      <td>2,880</td>\n",
       "      <td>Apartment</td>\n",
       "      <td>Alcohol Allowed</td>\n",
       "      <td>5 star</td>\n",
       "    </tr>\n",
       "    <tr>\n",
       "      <th>20</th>\n",
       "      <td>The Westin Goa</td>\n",
       "      <td>Anjuna</td>\n",
       "      <td>4.7</td>\n",
       "      <td>476.0</td>\n",
       "      <td>13,74</td>\n",
       "      <td>NaN</td>\n",
       "      <td>2,473</td>\n",
       "      <td>Resort</td>\n",
       "      <td>Alcohol Allowed</td>\n",
       "      <td>5 star</td>\n",
       "    </tr>\n",
       "    <tr>\n",
       "      <th>21</th>\n",
       "      <td>SinQ The Party Hotel (No Stags Allowed)</td>\n",
       "      <td>Candolim</td>\n",
       "      <td>4.0</td>\n",
       "      <td>2320.0</td>\n",
       "      <td>2,800</td>\n",
       "      <td>2,164</td>\n",
       "      <td>518</td>\n",
       "      <td>Apartment</td>\n",
       "      <td>Alcohol Allowed</td>\n",
       "      <td>3 star</td>\n",
       "    </tr>\n",
       "    <tr>\n",
       "      <th>22</th>\n",
       "      <td>Hard Rock Hotel Goa Calangute</td>\n",
       "      <td>Calangute</td>\n",
       "      <td>4.1</td>\n",
       "      <td>5511.0</td>\n",
       "      <td>5,624</td>\n",
       "      <td>4,499</td>\n",
       "      <td>673</td>\n",
       "      <td>Resort</td>\n",
       "      <td>Alcohol Allowed</td>\n",
       "      <td>5 star</td>\n",
       "    </tr>\n",
       "    <tr>\n",
       "      <th>23</th>\n",
       "      <td>Goa Marriott Resort &amp; Spa</td>\n",
       "      <td>Panjim</td>\n",
       "      <td>4.4</td>\n",
       "      <td>1171.0</td>\n",
       "      <td>15,75</td>\n",
       "      <td>NaN</td>\n",
       "      <td>2,835</td>\n",
       "      <td>Resort</td>\n",
       "      <td>Alcohol Allowed</td>\n",
       "      <td>5 star</td>\n",
       "    </tr>\n",
       "    <tr>\n",
       "      <th>24</th>\n",
       "      <td>SinQ Beach Resort</td>\n",
       "      <td>Calangute</td>\n",
       "      <td>4.0</td>\n",
       "      <td>5145.0</td>\n",
       "      <td>4,650</td>\n",
       "      <td>3,709</td>\n",
       "      <td>992</td>\n",
       "      <td>Resort</td>\n",
       "      <td>Unmarried Couples Allowed</td>\n",
       "      <td>3 star</td>\n",
       "    </tr>\n",
       "    <tr>\n",
       "      <th>25</th>\n",
       "      <td>Resort Rio</td>\n",
       "      <td>Arpora</td>\n",
       "      <td>4.0</td>\n",
       "      <td>2389.0</td>\n",
       "      <td>12,77</td>\n",
       "      <td>NaN</td>\n",
       "      <td>3,220</td>\n",
       "      <td>Resort</td>\n",
       "      <td>Alcohol Allowed</td>\n",
       "      <td>5 star</td>\n",
       "    </tr>\n",
       "    <tr>\n",
       "      <th>26</th>\n",
       "      <td>Kamats Daffodil Resort</td>\n",
       "      <td>Povorim</td>\n",
       "      <td>4.7</td>\n",
       "      <td>82.0</td>\n",
       "      <td>5,501</td>\n",
       "      <td>2,902</td>\n",
       "      <td>900</td>\n",
       "      <td>Apartment</td>\n",
       "      <td>Alcohol Allowed</td>\n",
       "      <td>4 star</td>\n",
       "    </tr>\n",
       "    <tr>\n",
       "      <th>27</th>\n",
       "      <td>Ticlo Resorts</td>\n",
       "      <td>Calangute Baga Road</td>\n",
       "      <td>3.8</td>\n",
       "      <td>1719.0</td>\n",
       "      <td>4,589</td>\n",
       "      <td>2,924</td>\n",
       "      <td>812</td>\n",
       "      <td>Resort</td>\n",
       "      <td>Unmarried Couples Allowed</td>\n",
       "      <td>3 star</td>\n",
       "    </tr>\n",
       "    <tr>\n",
       "      <th>28</th>\n",
       "      <td>ibis Styles Goa Vagator - An Accor Brand</td>\n",
       "      <td>Vagator</td>\n",
       "      <td>4.5</td>\n",
       "      <td>339.0</td>\n",
       "      <td>5,500</td>\n",
       "      <td>NaN</td>\n",
       "      <td>660</td>\n",
       "      <td>Apartment</td>\n",
       "      <td>Alcohol Allowed</td>\n",
       "      <td>4 star</td>\n",
       "    </tr>\n",
       "    <tr>\n",
       "      <th>29</th>\n",
       "      <td>Sonnet-A boutique hotel by Lotus leaf Hotels</td>\n",
       "      <td>Anjuna</td>\n",
       "      <td>4.2</td>\n",
       "      <td>537.0</td>\n",
       "      <td>4,320</td>\n",
       "      <td>3,227</td>\n",
       "      <td>910</td>\n",
       "      <td>Apartment</td>\n",
       "      <td>Alcohol Allowed</td>\n",
       "      <td>3 star</td>\n",
       "    </tr>\n",
       "    <tr>\n",
       "      <th>31</th>\n",
       "      <td>Ginger Goa, Madgaon</td>\n",
       "      <td>Margao</td>\n",
       "      <td>4.1</td>\n",
       "      <td>1235.0</td>\n",
       "      <td>3,299</td>\n",
       "      <td>NaN</td>\n",
       "      <td>396</td>\n",
       "      <td>Apartment</td>\n",
       "      <td>Alcohol Allowed</td>\n",
       "      <td>3 star</td>\n",
       "    </tr>\n",
       "    <tr>\n",
       "      <th>32</th>\n",
       "      <td>VEGA-A boutique hotel by Lotus Leaf Hotels</td>\n",
       "      <td>Colva</td>\n",
       "      <td>4.1</td>\n",
       "      <td>126.0</td>\n",
       "      <td>4,500</td>\n",
       "      <td>2,914</td>\n",
       "      <td>954</td>\n",
       "      <td>Apartment</td>\n",
       "      <td>Alcohol Allowed</td>\n",
       "      <td>3 star</td>\n",
       "    </tr>\n",
       "    <tr>\n",
       "      <th>34</th>\n",
       "      <td>Hyatt Ronil Goa - a JdV by Hyatt</td>\n",
       "      <td>Baga</td>\n",
       "      <td>4.5</td>\n",
       "      <td>162.0</td>\n",
       "      <td>7,299</td>\n",
       "      <td>NaN</td>\n",
       "      <td>876</td>\n",
       "      <td>Resort</td>\n",
       "      <td>Alcohol Allowed</td>\n",
       "      <td>4 star</td>\n",
       "    </tr>\n",
       "    <tr>\n",
       "      <th>36</th>\n",
       "      <td>Summit Calangute Resort &amp; Spa</td>\n",
       "      <td>Calangute</td>\n",
       "      <td>3.8</td>\n",
       "      <td>286.0</td>\n",
       "      <td>3,327</td>\n",
       "      <td>2,994</td>\n",
       "      <td>359</td>\n",
       "      <td>Resort</td>\n",
       "      <td>Alcohol Allowed</td>\n",
       "      <td>4 star</td>\n",
       "    </tr>\n",
       "    <tr>\n",
       "      <th>39</th>\n",
       "      <td>Hyatt Place Goa Candolim</td>\n",
       "      <td>Candolim</td>\n",
       "      <td>4.3</td>\n",
       "      <td>252.0</td>\n",
       "      <td>7,150</td>\n",
       "      <td>NaN</td>\n",
       "      <td>858</td>\n",
       "      <td>Apartment</td>\n",
       "      <td>Alcohol Allowed</td>\n",
       "      <td>5 star</td>\n",
       "    </tr>\n",
       "    <tr>\n",
       "      <th>41</th>\n",
       "      <td>DoubleTree by Hilton Hotel Goa-Arpora- Baga</td>\n",
       "      <td>Arpora</td>\n",
       "      <td>3.9</td>\n",
       "      <td>299.0</td>\n",
       "      <td>7,874</td>\n",
       "      <td>NaN</td>\n",
       "      <td>1,222</td>\n",
       "      <td>Apartment</td>\n",
       "      <td>Alcohol Allowed</td>\n",
       "      <td>5 star</td>\n",
       "    </tr>\n",
       "    <tr>\n",
       "      <th>42</th>\n",
       "      <td>The Byke Old Anchor Beach Resort &amp; Spa</td>\n",
       "      <td>Cavelossim</td>\n",
       "      <td>4.0</td>\n",
       "      <td>417.0</td>\n",
       "      <td>3,690</td>\n",
       "      <td>2,569</td>\n",
       "      <td>678</td>\n",
       "      <td>Resort</td>\n",
       "      <td>Alcohol Allowed</td>\n",
       "      <td>3 star</td>\n",
       "    </tr>\n",
       "    <tr>\n",
       "      <th>43</th>\n",
       "      <td>O Hotel Goa, Candolim Beach</td>\n",
       "      <td>Candolim</td>\n",
       "      <td>3.7</td>\n",
       "      <td>1393.0</td>\n",
       "      <td>9,374</td>\n",
       "      <td>7,312</td>\n",
       "      <td>877</td>\n",
       "      <td>Resort</td>\n",
       "      <td>Alcohol Allowed</td>\n",
       "      <td>5 star</td>\n",
       "    </tr>\n",
       "  </tbody>\n",
       "</table>\n",
       "</div>"
      ],
      "text/plain": [
       "                                             Hotel             Location   \n",
       "1       ibis Styles Goa Calangute - An Accor Brand            Calangute  \\\n",
       "2                                       SinQ Prive             Candolim   \n",
       "3                               Ginger Goa, Panjim               Panjim   \n",
       "5          The Yellow House, Goa - IHCL SeleQtions               Anjuna   \n",
       "7                               Novotel Goa Panjim               Panjim   \n",
       "8                              Goa Woodlands Hotel               Margao   \n",
       "10                               Hotel Jyoti Plaza               Margao   \n",
       "12                   Taj Exotica Resort & Spa, Goa             Benaulim   \n",
       "13                              The Park Calangute            Calangute   \n",
       "14                               TreeHouse Neptune               Panjim   \n",
       "16  The Park Baga River Goa (Adults only Property)                 Baga   \n",
       "17               Taj Fort Aguada Resort & Spa, Goa             Candolim   \n",
       "20                                  The Westin Goa               Anjuna   \n",
       "21         SinQ The Party Hotel (No Stags Allowed)             Candolim   \n",
       "22                   Hard Rock Hotel Goa Calangute            Calangute   \n",
       "23                       Goa Marriott Resort & Spa               Panjim   \n",
       "24                               SinQ Beach Resort            Calangute   \n",
       "25                                      Resort Rio               Arpora   \n",
       "26                          Kamats Daffodil Resort              Povorim   \n",
       "27                                   Ticlo Resorts  Calangute Baga Road   \n",
       "28        ibis Styles Goa Vagator - An Accor Brand              Vagator   \n",
       "29    Sonnet-A boutique hotel by Lotus leaf Hotels               Anjuna   \n",
       "31                             Ginger Goa, Madgaon               Margao   \n",
       "32      VEGA-A boutique hotel by Lotus Leaf Hotels                Colva   \n",
       "34                Hyatt Ronil Goa - a JdV by Hyatt                 Baga   \n",
       "36                   Summit Calangute Resort & Spa            Calangute   \n",
       "39                        Hyatt Place Goa Candolim             Candolim   \n",
       "41     DoubleTree by Hilton Hotel Goa-Arpora- Baga               Arpora   \n",
       "42          The Byke Old Anchor Beach Resort & Spa           Cavelossim   \n",
       "43                     O Hotel Goa, Candolim Beach             Candolim   \n",
       "\n",
       "    Ratings  No_of_Ratings Original_price Discount_price  Taxes Building_Type   \n",
       "1       4.1         4348.0          5,750            NaN    690     Apartment  \\\n",
       "2       4.0         2251.0          3,690          3,010    720     Apartment   \n",
       "3       3.9         5840.0          5,149            NaN    618     Apartment   \n",
       "5       4.2           71.0          7,499            NaN    900        Resort   \n",
       "7       NaN            NaN          12,29            NaN  2,214     Apartment   \n",
       "8       4.1         1503.0          3,500          2,859    754     Apartment   \n",
       "10      3.8         1035.0          3,105          1,839    520     Apartment   \n",
       "12      4.7         1168.0          19,50            NaN  3,510     Apartment   \n",
       "13      3.9          784.0          12,37            NaN  2,351        Resort   \n",
       "14      3.8          956.0          10,35            NaN  2,186     Apartment   \n",
       "16      4.1         1736.0          17,00            NaN  3,060        Resort   \n",
       "17      4.6         2880.0          16,00            NaN  2,880     Apartment   \n",
       "20      4.7          476.0          13,74            NaN  2,473        Resort   \n",
       "21      4.0         2320.0          2,800          2,164    518     Apartment   \n",
       "22      4.1         5511.0          5,624          4,499    673        Resort   \n",
       "23      4.4         1171.0          15,75            NaN  2,835        Resort   \n",
       "24      4.0         5145.0          4,650          3,709    992        Resort   \n",
       "25      4.0         2389.0          12,77            NaN  3,220        Resort   \n",
       "26      4.7           82.0          5,501          2,902    900     Apartment   \n",
       "27      3.8         1719.0          4,589          2,924    812        Resort   \n",
       "28      4.5          339.0          5,500            NaN    660     Apartment   \n",
       "29      4.2          537.0          4,320          3,227    910     Apartment   \n",
       "31      4.1         1235.0          3,299            NaN    396     Apartment   \n",
       "32      4.1          126.0          4,500          2,914    954     Apartment   \n",
       "34      4.5          162.0          7,299            NaN    876        Resort   \n",
       "36      3.8          286.0          3,327          2,994    359        Resort   \n",
       "39      4.3          252.0          7,150            NaN    858     Apartment   \n",
       "41      3.9          299.0          7,874            NaN  1,222     Apartment   \n",
       "42      4.0          417.0          3,690          2,569    678        Resort   \n",
       "43      3.7         1393.0          9,374          7,312    877        Resort   \n",
       "\n",
       "                   House_Rule hotel_type  \n",
       "1   Unmarried Couples Allowed     4 star  \n",
       "2             Alcohol Allowed     5 star  \n",
       "3             Alcohol Allowed     3 star  \n",
       "5             Alcohol Allowed     5 star  \n",
       "7             Alcohol Allowed     5 star  \n",
       "8   Unmarried Couples Allowed     3 star  \n",
       "10  Unmarried Couples Allowed     3 star  \n",
       "12            Alcohol Allowed     5 star  \n",
       "13            Alcohol Allowed     4 star  \n",
       "14            Alcohol Allowed     4 star  \n",
       "16            Alcohol Allowed     5 star  \n",
       "17            Alcohol Allowed     5 star  \n",
       "20            Alcohol Allowed     5 star  \n",
       "21            Alcohol Allowed     3 star  \n",
       "22            Alcohol Allowed     5 star  \n",
       "23            Alcohol Allowed     5 star  \n",
       "24  Unmarried Couples Allowed     3 star  \n",
       "25            Alcohol Allowed     5 star  \n",
       "26            Alcohol Allowed     4 star  \n",
       "27  Unmarried Couples Allowed     3 star  \n",
       "28            Alcohol Allowed     4 star  \n",
       "29            Alcohol Allowed     3 star  \n",
       "31            Alcohol Allowed     3 star  \n",
       "32            Alcohol Allowed     3 star  \n",
       "34            Alcohol Allowed     4 star  \n",
       "36            Alcohol Allowed     4 star  \n",
       "39            Alcohol Allowed     5 star  \n",
       "41            Alcohol Allowed     5 star  \n",
       "42            Alcohol Allowed     3 star  \n",
       "43            Alcohol Allowed     5 star  "
      ]
     },
     "execution_count": 36,
     "metadata": {},
     "output_type": "execute_result"
    }
   ],
   "source": [
    "df2.head(30)"
   ]
  },
  {
   "cell_type": "markdown",
   "id": "b8ced585",
   "metadata": {},
   "source": [
    "### drop rows that have null values"
   ]
  },
  {
   "cell_type": "code",
   "execution_count": 26,
   "id": "66a7fc8d",
   "metadata": {},
   "outputs": [
    {
     "data": {
      "text/plain": [
       "Hotel               0\n",
       "Location            0\n",
       "Ratings            12\n",
       "No_of_Ratings       4\n",
       "Original_price      0\n",
       "Discount_price     94\n",
       "Taxes               1\n",
       "Building_Type     124\n",
       "House_Rule         82\n",
       "hotel_type          0\n",
       "dtype: int64"
      ]
     },
     "execution_count": 26,
     "metadata": {},
     "output_type": "execute_result"
    }
   ],
   "source": [
    "df2.isna().sum()"
   ]
  },
  {
   "cell_type": "code",
   "execution_count": 37,
   "id": "3f812f11",
   "metadata": {},
   "outputs": [
    {
     "data": {
      "text/plain": [
       "(406, 10)"
      ]
     },
     "execution_count": 37,
     "metadata": {},
     "output_type": "execute_result"
    }
   ],
   "source": [
    "df2.shape"
   ]
  },
  {
   "cell_type": "code",
   "execution_count": 39,
   "id": "abe6bbaa",
   "metadata": {},
   "outputs": [
    {
     "data": {
      "text/plain": [
       "0"
      ]
     },
     "execution_count": 39,
     "metadata": {},
     "output_type": "execute_result"
    }
   ],
   "source": [
    "df2.Building_Type.isna().sum()"
   ]
  },
  {
   "cell_type": "code",
   "execution_count": 40,
   "id": "ed8b11ed",
   "metadata": {},
   "outputs": [],
   "source": [
    "df2.dropna(subset=['Building_Type'],inplace=True)"
   ]
  },
  {
   "cell_type": "code",
   "execution_count": 41,
   "id": "99adf27f",
   "metadata": {},
   "outputs": [
    {
     "data": {
      "text/plain": [
       "Hotel              0\n",
       "Location           0\n",
       "Ratings           11\n",
       "No_of_Ratings      3\n",
       "Original_price     0\n",
       "Discount_price    74\n",
       "Taxes              1\n",
       "Building_Type      0\n",
       "House_Rule         0\n",
       "hotel_type         0\n",
       "dtype: int64"
      ]
     },
     "execution_count": 41,
     "metadata": {},
     "output_type": "execute_result"
    }
   ],
   "source": [
    "df2.isna().sum()"
   ]
  },
  {
   "cell_type": "code",
   "execution_count": 42,
   "id": "a3ab3ab5",
   "metadata": {},
   "outputs": [
    {
     "data": {
      "text/plain": [
       "(406, 10)"
      ]
     },
     "execution_count": 42,
     "metadata": {},
     "output_type": "execute_result"
    }
   ],
   "source": [
    "df2.shape"
   ]
  },
  {
   "cell_type": "code",
   "execution_count": 43,
   "id": "a7cdcd2c",
   "metadata": {},
   "outputs": [
    {
     "data": {
      "text/plain": [
       "0"
      ]
     },
     "execution_count": 43,
     "metadata": {},
     "output_type": "execute_result"
    }
   ],
   "source": [
    "df2.House_Rule.isna().sum()"
   ]
  },
  {
   "cell_type": "code",
   "execution_count": 44,
   "id": "6ee34f1f",
   "metadata": {},
   "outputs": [],
   "source": [
    "df2.dropna(subset=['House_Rule'], inplace=True)"
   ]
  },
  {
   "cell_type": "code",
   "execution_count": 45,
   "id": "7b4b73c7",
   "metadata": {},
   "outputs": [
    {
     "data": {
      "text/plain": [
       "Hotel              0\n",
       "Location           0\n",
       "Ratings           11\n",
       "No_of_Ratings      3\n",
       "Original_price     0\n",
       "Discount_price    74\n",
       "Taxes              1\n",
       "Building_Type      0\n",
       "House_Rule         0\n",
       "hotel_type         0\n",
       "dtype: int64"
      ]
     },
     "execution_count": 45,
     "metadata": {},
     "output_type": "execute_result"
    }
   ],
   "source": [
    "df2.isna().sum()"
   ]
  },
  {
   "cell_type": "code",
   "execution_count": 46,
   "id": "900cd41b",
   "metadata": {},
   "outputs": [
    {
     "data": {
      "text/plain": [
       "(406, 10)"
      ]
     },
     "execution_count": 46,
     "metadata": {},
     "output_type": "execute_result"
    }
   ],
   "source": [
    "df2.shape"
   ]
  },
  {
   "cell_type": "code",
   "execution_count": 47,
   "id": "10e39237",
   "metadata": {},
   "outputs": [
    {
     "data": {
      "text/plain": [
       "11"
      ]
     },
     "execution_count": 47,
     "metadata": {},
     "output_type": "execute_result"
    }
   ],
   "source": [
    "df2['Ratings'].isna().sum()"
   ]
  },
  {
   "cell_type": "code",
   "execution_count": 48,
   "id": "d56d30ec",
   "metadata": {},
   "outputs": [
    {
     "data": {
      "text/html": [
       "<div>\n",
       "<style scoped>\n",
       "    .dataframe tbody tr th:only-of-type {\n",
       "        vertical-align: middle;\n",
       "    }\n",
       "\n",
       "    .dataframe tbody tr th {\n",
       "        vertical-align: top;\n",
       "    }\n",
       "\n",
       "    .dataframe thead th {\n",
       "        text-align: right;\n",
       "    }\n",
       "</style>\n",
       "<table border=\"1\" class=\"dataframe\">\n",
       "  <thead>\n",
       "    <tr style=\"text-align: right;\">\n",
       "      <th></th>\n",
       "      <th>Hotel</th>\n",
       "      <th>Location</th>\n",
       "      <th>Ratings</th>\n",
       "      <th>No_of_Ratings</th>\n",
       "      <th>Original_price</th>\n",
       "      <th>Discount_price</th>\n",
       "      <th>Taxes</th>\n",
       "      <th>Building_Type</th>\n",
       "      <th>House_Rule</th>\n",
       "      <th>hotel_type</th>\n",
       "    </tr>\n",
       "  </thead>\n",
       "  <tbody>\n",
       "    <tr>\n",
       "      <th>7</th>\n",
       "      <td>Novotel Goa Panjim</td>\n",
       "      <td>Panjim</td>\n",
       "      <td>NaN</td>\n",
       "      <td>NaN</td>\n",
       "      <td>12,29</td>\n",
       "      <td>NaN</td>\n",
       "      <td>2,214</td>\n",
       "      <td>Apartment</td>\n",
       "      <td>Alcohol Allowed</td>\n",
       "      <td>5 star</td>\n",
       "    </tr>\n",
       "    <tr>\n",
       "      <th>79</th>\n",
       "      <td>Ocean View The Apartment Hotel</td>\n",
       "      <td>Mormugao</td>\n",
       "      <td>NaN</td>\n",
       "      <td>67.0</td>\n",
       "      <td>4,999</td>\n",
       "      <td>3,277</td>\n",
       "      <td>696</td>\n",
       "      <td>Apartment</td>\n",
       "      <td>Alcohol Allowed</td>\n",
       "      <td>3 star</td>\n",
       "    </tr>\n",
       "    <tr>\n",
       "      <th>194</th>\n",
       "      <td>Country Inn Panjim Goa, Goa</td>\n",
       "      <td>Panjim</td>\n",
       "      <td>NaN</td>\n",
       "      <td>209.0</td>\n",
       "      <td>4,850</td>\n",
       "      <td>4,123</td>\n",
       "      <td>495</td>\n",
       "      <td>Apartment</td>\n",
       "      <td>Alcohol Allowed</td>\n",
       "      <td>4 star</td>\n",
       "    </tr>\n",
       "    <tr>\n",
       "      <th>304</th>\n",
       "      <td>Olive Alidia Beach Resort by Embassy Group</td>\n",
       "      <td>Baga</td>\n",
       "      <td>NaN</td>\n",
       "      <td>NaN</td>\n",
       "      <td>3,570</td>\n",
       "      <td>2,338</td>\n",
       "      <td>478</td>\n",
       "      <td>Resort</td>\n",
       "      <td>Alcohol Allowed</td>\n",
       "      <td>3 star</td>\n",
       "    </tr>\n",
       "    <tr>\n",
       "      <th>475</th>\n",
       "      <td>Sea breeze Village Baga</td>\n",
       "      <td>Calangute Baga Road</td>\n",
       "      <td>NaN</td>\n",
       "      <td>237.0</td>\n",
       "      <td>3,700</td>\n",
       "      <td>3,098</td>\n",
       "      <td>633</td>\n",
       "      <td>Hotel</td>\n",
       "      <td>Alcohol Allowed</td>\n",
       "      <td>3 star</td>\n",
       "    </tr>\n",
       "    <tr>\n",
       "      <th>500</th>\n",
       "      <td>Tangerine Boutique Resort</td>\n",
       "      <td>Calangute</td>\n",
       "      <td>NaN</td>\n",
       "      <td>157.0</td>\n",
       "      <td>5,000</td>\n",
       "      <td>3,105</td>\n",
       "      <td>634</td>\n",
       "      <td>Resort</td>\n",
       "      <td>Alcohol Allowed</td>\n",
       "      <td>3 star</td>\n",
       "    </tr>\n",
       "    <tr>\n",
       "      <th>650</th>\n",
       "      <td>Rivasa Resort</td>\n",
       "      <td>Calangute Baga Road</td>\n",
       "      <td>NaN</td>\n",
       "      <td>698.0</td>\n",
       "      <td>1,785</td>\n",
       "      <td>1,661</td>\n",
       "      <td>339</td>\n",
       "      <td>Apartment</td>\n",
       "      <td>Unmarried Couples Allowed</td>\n",
       "      <td>3 star</td>\n",
       "    </tr>\n",
       "    <tr>\n",
       "      <th>708</th>\n",
       "      <td>Grandeur De Sanchi- Luxury Beach Resort &amp; Spa</td>\n",
       "      <td>Calangute</td>\n",
       "      <td>NaN</td>\n",
       "      <td>67.0</td>\n",
       "      <td>9,675</td>\n",
       "      <td>6,479</td>\n",
       "      <td>1,324</td>\n",
       "      <td>Resort</td>\n",
       "      <td>Alcohol Allowed</td>\n",
       "      <td>4 star</td>\n",
       "    </tr>\n",
       "    <tr>\n",
       "      <th>773</th>\n",
       "      <td>Sea Breeze Inn Calangute</td>\n",
       "      <td>Calangute Baga Road</td>\n",
       "      <td>NaN</td>\n",
       "      <td>327.0</td>\n",
       "      <td>2,600</td>\n",
       "      <td>2,177</td>\n",
       "      <td>445</td>\n",
       "      <td>Resort</td>\n",
       "      <td>Alcohol Allowed</td>\n",
       "      <td>3 star</td>\n",
       "    </tr>\n",
       "    <tr>\n",
       "      <th>841</th>\n",
       "      <td>Eve Resort Patnem</td>\n",
       "      <td>Palolem</td>\n",
       "      <td>NaN</td>\n",
       "      <td>NaN</td>\n",
       "      <td>3,000</td>\n",
       "      <td>1,973</td>\n",
       "      <td>455</td>\n",
       "      <td>Apartment</td>\n",
       "      <td>Unmarried Couples Allowed</td>\n",
       "      <td>4 star</td>\n",
       "    </tr>\n",
       "    <tr>\n",
       "      <th>856</th>\n",
       "      <td>Hotel Manvin's</td>\n",
       "      <td>Panjim</td>\n",
       "      <td>NaN</td>\n",
       "      <td>88.0</td>\n",
       "      <td>4,699</td>\n",
       "      <td>2,550</td>\n",
       "      <td>576</td>\n",
       "      <td>Apartment</td>\n",
       "      <td>Alcohol Allowed</td>\n",
       "      <td>3 star</td>\n",
       "    </tr>\n",
       "  </tbody>\n",
       "</table>\n",
       "</div>"
      ],
      "text/plain": [
       "                                             Hotel             Location   \n",
       "7                               Novotel Goa Panjim               Panjim  \\\n",
       "79                  Ocean View The Apartment Hotel             Mormugao   \n",
       "194                    Country Inn Panjim Goa, Goa               Panjim   \n",
       "304     Olive Alidia Beach Resort by Embassy Group                 Baga   \n",
       "475                        Sea breeze Village Baga  Calangute Baga Road   \n",
       "500                      Tangerine Boutique Resort            Calangute   \n",
       "650                                  Rivasa Resort  Calangute Baga Road   \n",
       "708  Grandeur De Sanchi- Luxury Beach Resort & Spa            Calangute   \n",
       "773                       Sea Breeze Inn Calangute  Calangute Baga Road   \n",
       "841                              Eve Resort Patnem              Palolem   \n",
       "856                                 Hotel Manvin's               Panjim   \n",
       "\n",
       "     Ratings  No_of_Ratings Original_price Discount_price  Taxes   \n",
       "7        NaN            NaN          12,29            NaN  2,214  \\\n",
       "79       NaN           67.0          4,999          3,277    696   \n",
       "194      NaN          209.0          4,850          4,123    495   \n",
       "304      NaN            NaN          3,570          2,338    478   \n",
       "475      NaN          237.0          3,700          3,098    633   \n",
       "500      NaN          157.0          5,000          3,105    634   \n",
       "650      NaN          698.0          1,785          1,661    339   \n",
       "708      NaN           67.0          9,675          6,479  1,324   \n",
       "773      NaN          327.0          2,600          2,177    445   \n",
       "841      NaN            NaN          3,000          1,973    455   \n",
       "856      NaN           88.0          4,699          2,550    576   \n",
       "\n",
       "    Building_Type                 House_Rule hotel_type  \n",
       "7       Apartment            Alcohol Allowed     5 star  \n",
       "79      Apartment            Alcohol Allowed     3 star  \n",
       "194     Apartment            Alcohol Allowed     4 star  \n",
       "304        Resort            Alcohol Allowed     3 star  \n",
       "475         Hotel            Alcohol Allowed     3 star  \n",
       "500        Resort            Alcohol Allowed     3 star  \n",
       "650     Apartment  Unmarried Couples Allowed     3 star  \n",
       "708        Resort            Alcohol Allowed     4 star  \n",
       "773        Resort            Alcohol Allowed     3 star  \n",
       "841     Apartment  Unmarried Couples Allowed     4 star  \n",
       "856     Apartment            Alcohol Allowed     3 star  "
      ]
     },
     "execution_count": 48,
     "metadata": {},
     "output_type": "execute_result"
    }
   ],
   "source": [
    "df2[df2['Ratings'].isna()]"
   ]
  },
  {
   "cell_type": "code",
   "execution_count": 54,
   "id": "d71b8538",
   "metadata": {},
   "outputs": [],
   "source": [
    "df2['Ratings'] = df2['Ratings'].fillna(0)"
   ]
  },
  {
   "cell_type": "code",
   "execution_count": 55,
   "id": "68275392",
   "metadata": {},
   "outputs": [],
   "source": [
    "df2 = df2[~(df2['Ratings'].isna() & df2['No_of_Ratings'].notna())]"
   ]
  },
  {
   "cell_type": "code",
   "execution_count": 56,
   "id": "21e21d30",
   "metadata": {},
   "outputs": [
    {
     "name": "stdout",
     "output_type": "stream",
     "text": [
      "<class 'pandas.core.frame.DataFrame'>\n",
      "Index: 406 entries, 1 to 874\n",
      "Data columns (total 10 columns):\n",
      " #   Column          Non-Null Count  Dtype  \n",
      "---  ------          --------------  -----  \n",
      " 0   Hotel           406 non-null    object \n",
      " 1   Location        406 non-null    object \n",
      " 2   Ratings         406 non-null    float64\n",
      " 3   No_of_Ratings   403 non-null    float64\n",
      " 4   Original_price  406 non-null    object \n",
      " 5   Discount_price  332 non-null    object \n",
      " 6   Taxes           405 non-null    object \n",
      " 7   Building_Type   406 non-null    object \n",
      " 8   House_Rule      406 non-null    object \n",
      " 9   hotel_type      406 non-null    object \n",
      "dtypes: float64(2), object(8)\n",
      "memory usage: 34.9+ KB\n"
     ]
    }
   ],
   "source": [
    "df2.info()"
   ]
  },
  {
   "cell_type": "code",
   "execution_count": 57,
   "id": "8050c420",
   "metadata": {},
   "outputs": [
    {
     "data": {
      "text/html": [
       "<div>\n",
       "<style scoped>\n",
       "    .dataframe tbody tr th:only-of-type {\n",
       "        vertical-align: middle;\n",
       "    }\n",
       "\n",
       "    .dataframe tbody tr th {\n",
       "        vertical-align: top;\n",
       "    }\n",
       "\n",
       "    .dataframe thead th {\n",
       "        text-align: right;\n",
       "    }\n",
       "</style>\n",
       "<table border=\"1\" class=\"dataframe\">\n",
       "  <thead>\n",
       "    <tr style=\"text-align: right;\">\n",
       "      <th></th>\n",
       "      <th>Hotel</th>\n",
       "      <th>Location</th>\n",
       "      <th>Ratings</th>\n",
       "      <th>No_of_Ratings</th>\n",
       "      <th>Original_price</th>\n",
       "      <th>Discount_price</th>\n",
       "      <th>Taxes</th>\n",
       "      <th>Building_Type</th>\n",
       "      <th>House_Rule</th>\n",
       "      <th>hotel_type</th>\n",
       "    </tr>\n",
       "  </thead>\n",
       "  <tbody>\n",
       "  </tbody>\n",
       "</table>\n",
       "</div>"
      ],
      "text/plain": [
       "Empty DataFrame\n",
       "Columns: [Hotel, Location, Ratings, No_of_Ratings, Original_price, Discount_price, Taxes, Building_Type, House_Rule, hotel_type]\n",
       "Index: []"
      ]
     },
     "execution_count": 57,
     "metadata": {},
     "output_type": "execute_result"
    }
   ],
   "source": [
    "df2[df2['Ratings'].isna()]"
   ]
  },
  {
   "cell_type": "code",
   "execution_count": 59,
   "id": "14067acc",
   "metadata": {},
   "outputs": [],
   "source": [
    "df2['No_of_Ratings'] = df2['No_of_Ratings'].fillna(0)"
   ]
  },
  {
   "cell_type": "code",
   "execution_count": 60,
   "id": "c16db94d",
   "metadata": {},
   "outputs": [
    {
     "data": {
      "text/html": [
       "<div>\n",
       "<style scoped>\n",
       "    .dataframe tbody tr th:only-of-type {\n",
       "        vertical-align: middle;\n",
       "    }\n",
       "\n",
       "    .dataframe tbody tr th {\n",
       "        vertical-align: top;\n",
       "    }\n",
       "\n",
       "    .dataframe thead th {\n",
       "        text-align: right;\n",
       "    }\n",
       "</style>\n",
       "<table border=\"1\" class=\"dataframe\">\n",
       "  <thead>\n",
       "    <tr style=\"text-align: right;\">\n",
       "      <th></th>\n",
       "      <th>Hotel</th>\n",
       "      <th>Location</th>\n",
       "      <th>Ratings</th>\n",
       "      <th>No_of_Ratings</th>\n",
       "      <th>Original_price</th>\n",
       "      <th>Discount_price</th>\n",
       "      <th>Taxes</th>\n",
       "      <th>Building_Type</th>\n",
       "      <th>House_Rule</th>\n",
       "      <th>hotel_type</th>\n",
       "    </tr>\n",
       "  </thead>\n",
       "  <tbody>\n",
       "  </tbody>\n",
       "</table>\n",
       "</div>"
      ],
      "text/plain": [
       "Empty DataFrame\n",
       "Columns: [Hotel, Location, Ratings, No_of_Ratings, Original_price, Discount_price, Taxes, Building_Type, House_Rule, hotel_type]\n",
       "Index: []"
      ]
     },
     "execution_count": 60,
     "metadata": {},
     "output_type": "execute_result"
    }
   ],
   "source": [
    "df2[df2['No_of_Ratings'].isna()]"
   ]
  },
  {
   "cell_type": "code",
   "execution_count": 61,
   "id": "d0420b44",
   "metadata": {},
   "outputs": [
    {
     "data": {
      "text/plain": [
       "(406, 10)"
      ]
     },
     "execution_count": 61,
     "metadata": {},
     "output_type": "execute_result"
    }
   ],
   "source": [
    "df2.shape"
   ]
  },
  {
   "cell_type": "code",
   "execution_count": 62,
   "id": "baf939cd",
   "metadata": {},
   "outputs": [],
   "source": [
    "df2.dropna(subset = ['Ratings', 'No_of_Ratings'], inplace = True)"
   ]
  },
  {
   "cell_type": "code",
   "execution_count": 145,
   "id": "5a75bae8",
   "metadata": {},
   "outputs": [
    {
     "name": "stdout",
     "output_type": "stream",
     "text": [
      "<class 'pandas.core.frame.DataFrame'>\n",
      "Index: 395 entries, 1 to 874\n",
      "Data columns (total 10 columns):\n",
      " #   Column          Non-Null Count  Dtype  \n",
      "---  ------          --------------  -----  \n",
      " 0   Hotel           395 non-null    object \n",
      " 1   Location        395 non-null    object \n",
      " 2   Ratings         395 non-null    float64\n",
      " 3   No_of_Ratings   395 non-null    float64\n",
      " 4   Original_price  395 non-null    object \n",
      " 5   Discount_price  322 non-null    object \n",
      " 6   Taxes           394 non-null    object \n",
      " 7   Building_Type   395 non-null    object \n",
      " 8   House_Rule      395 non-null    object \n",
      " 9   hotel_type      395 non-null    object \n",
      "dtypes: float64(2), object(8)\n",
      "memory usage: 33.9+ KB\n"
     ]
    }
   ],
   "source": [
    "df2.info()"
   ]
  },
  {
   "cell_type": "code",
   "execution_count": 63,
   "id": "04ef4e0b",
   "metadata": {},
   "outputs": [
    {
     "data": {
      "text/plain": [
       "(406, 10)"
      ]
     },
     "execution_count": 63,
     "metadata": {},
     "output_type": "execute_result"
    }
   ],
   "source": [
    "df2.shape"
   ]
  },
  {
   "cell_type": "code",
   "execution_count": 64,
   "id": "4ec04af5",
   "metadata": {},
   "outputs": [],
   "source": [
    "df2['Taxes'] = df2['Taxes'].fillna(0)"
   ]
  },
  {
   "cell_type": "code",
   "execution_count": 65,
   "id": "1c507317",
   "metadata": {},
   "outputs": [],
   "source": [
    "df2.dropna(subset=['Taxes'], inplace=True)"
   ]
  },
  {
   "cell_type": "code",
   "execution_count": 66,
   "id": "14811775",
   "metadata": {},
   "outputs": [
    {
     "data": {
      "text/html": [
       "<div>\n",
       "<style scoped>\n",
       "    .dataframe tbody tr th:only-of-type {\n",
       "        vertical-align: middle;\n",
       "    }\n",
       "\n",
       "    .dataframe tbody tr th {\n",
       "        vertical-align: top;\n",
       "    }\n",
       "\n",
       "    .dataframe thead th {\n",
       "        text-align: right;\n",
       "    }\n",
       "</style>\n",
       "<table border=\"1\" class=\"dataframe\">\n",
       "  <thead>\n",
       "    <tr style=\"text-align: right;\">\n",
       "      <th></th>\n",
       "      <th>Hotel</th>\n",
       "      <th>Location</th>\n",
       "      <th>Ratings</th>\n",
       "      <th>No_of_Ratings</th>\n",
       "      <th>Original_price</th>\n",
       "      <th>Discount_price</th>\n",
       "      <th>Taxes</th>\n",
       "      <th>Building_Type</th>\n",
       "      <th>House_Rule</th>\n",
       "      <th>hotel_type</th>\n",
       "    </tr>\n",
       "  </thead>\n",
       "  <tbody>\n",
       "    <tr>\n",
       "      <th>1</th>\n",
       "      <td>ibis Styles Goa Calangute - An Accor Brand</td>\n",
       "      <td>Calangute</td>\n",
       "      <td>4.1</td>\n",
       "      <td>4348.0</td>\n",
       "      <td>5,750</td>\n",
       "      <td>NaN</td>\n",
       "      <td>690</td>\n",
       "      <td>Apartment</td>\n",
       "      <td>Unmarried Couples Allowed</td>\n",
       "      <td>4 star</td>\n",
       "    </tr>\n",
       "    <tr>\n",
       "      <th>2</th>\n",
       "      <td>SinQ Prive</td>\n",
       "      <td>Candolim</td>\n",
       "      <td>4.0</td>\n",
       "      <td>2251.0</td>\n",
       "      <td>3,690</td>\n",
       "      <td>3,010</td>\n",
       "      <td>720</td>\n",
       "      <td>Apartment</td>\n",
       "      <td>Alcohol Allowed</td>\n",
       "      <td>5 star</td>\n",
       "    </tr>\n",
       "    <tr>\n",
       "      <th>3</th>\n",
       "      <td>Ginger Goa, Panjim</td>\n",
       "      <td>Panjim</td>\n",
       "      <td>3.9</td>\n",
       "      <td>5840.0</td>\n",
       "      <td>5,149</td>\n",
       "      <td>NaN</td>\n",
       "      <td>618</td>\n",
       "      <td>Apartment</td>\n",
       "      <td>Alcohol Allowed</td>\n",
       "      <td>3 star</td>\n",
       "    </tr>\n",
       "    <tr>\n",
       "      <th>5</th>\n",
       "      <td>The Yellow House, Goa - IHCL SeleQtions</td>\n",
       "      <td>Anjuna</td>\n",
       "      <td>4.2</td>\n",
       "      <td>71.0</td>\n",
       "      <td>7,499</td>\n",
       "      <td>NaN</td>\n",
       "      <td>900</td>\n",
       "      <td>Resort</td>\n",
       "      <td>Alcohol Allowed</td>\n",
       "      <td>5 star</td>\n",
       "    </tr>\n",
       "    <tr>\n",
       "      <th>7</th>\n",
       "      <td>Novotel Goa Panjim</td>\n",
       "      <td>Panjim</td>\n",
       "      <td>0.0</td>\n",
       "      <td>0.0</td>\n",
       "      <td>12,29</td>\n",
       "      <td>NaN</td>\n",
       "      <td>2,214</td>\n",
       "      <td>Apartment</td>\n",
       "      <td>Alcohol Allowed</td>\n",
       "      <td>5 star</td>\n",
       "    </tr>\n",
       "    <tr>\n",
       "      <th>...</th>\n",
       "      <td>...</td>\n",
       "      <td>...</td>\n",
       "      <td>...</td>\n",
       "      <td>...</td>\n",
       "      <td>...</td>\n",
       "      <td>...</td>\n",
       "      <td>...</td>\n",
       "      <td>...</td>\n",
       "      <td>...</td>\n",
       "      <td>...</td>\n",
       "    </tr>\n",
       "    <tr>\n",
       "      <th>184</th>\n",
       "      <td>Anamiva Goa - AM Hotel Kollection</td>\n",
       "      <td>Anjuna</td>\n",
       "      <td>3.9</td>\n",
       "      <td>157.0</td>\n",
       "      <td>5,512</td>\n",
       "      <td>4,686</td>\n",
       "      <td>562</td>\n",
       "      <td>Resort</td>\n",
       "      <td>Alcohol Allowed</td>\n",
       "      <td>5 star</td>\n",
       "    </tr>\n",
       "    <tr>\n",
       "      <th>185</th>\n",
       "      <td>Rio Boutique Hotel</td>\n",
       "      <td>Bardez</td>\n",
       "      <td>4.0</td>\n",
       "      <td>351.0</td>\n",
       "      <td>3,960</td>\n",
       "      <td>2,560</td>\n",
       "      <td>633</td>\n",
       "      <td>Apartment</td>\n",
       "      <td>Alcohol Allowed</td>\n",
       "      <td>3 star</td>\n",
       "    </tr>\n",
       "    <tr>\n",
       "      <th>186</th>\n",
       "      <td>So My Resorts (SoMy Resorts)</td>\n",
       "      <td>Calangute Baga Road</td>\n",
       "      <td>4.2</td>\n",
       "      <td>1221.0</td>\n",
       "      <td>5,805</td>\n",
       "      <td>3,715</td>\n",
       "      <td>446</td>\n",
       "      <td>Resort</td>\n",
       "      <td>Unmarried Couples Allowed</td>\n",
       "      <td>4 star</td>\n",
       "    </tr>\n",
       "    <tr>\n",
       "      <th>189</th>\n",
       "      <td>ZIVA SUITES, a Boutique Hotel</td>\n",
       "      <td>Siolim</td>\n",
       "      <td>4.5</td>\n",
       "      <td>752.0</td>\n",
       "      <td>6,150</td>\n",
       "      <td>4,862</td>\n",
       "      <td>993</td>\n",
       "      <td>Resort</td>\n",
       "      <td>Alcohol Allowed</td>\n",
       "      <td>4 star</td>\n",
       "    </tr>\n",
       "    <tr>\n",
       "      <th>190</th>\n",
       "      <td>Nitya Resort and Spa</td>\n",
       "      <td>Calangute</td>\n",
       "      <td>3.6</td>\n",
       "      <td>507.0</td>\n",
       "      <td>3,600</td>\n",
       "      <td>2,310</td>\n",
       "      <td>589</td>\n",
       "      <td>Resort</td>\n",
       "      <td>Alcohol Allowed</td>\n",
       "      <td>3 star</td>\n",
       "    </tr>\n",
       "  </tbody>\n",
       "</table>\n",
       "<p>100 rows × 10 columns</p>\n",
       "</div>"
      ],
      "text/plain": [
       "                                          Hotel             Location  Ratings   \n",
       "1    ibis Styles Goa Calangute - An Accor Brand            Calangute      4.1  \\\n",
       "2                                    SinQ Prive             Candolim      4.0   \n",
       "3                            Ginger Goa, Panjim               Panjim      3.9   \n",
       "5       The Yellow House, Goa - IHCL SeleQtions               Anjuna      4.2   \n",
       "7                            Novotel Goa Panjim               Panjim      0.0   \n",
       "..                                          ...                  ...      ...   \n",
       "184           Anamiva Goa - AM Hotel Kollection               Anjuna      3.9   \n",
       "185                          Rio Boutique Hotel               Bardez      4.0   \n",
       "186                So My Resorts (SoMy Resorts)  Calangute Baga Road      4.2   \n",
       "189               ZIVA SUITES, a Boutique Hotel               Siolim      4.5   \n",
       "190                        Nitya Resort and Spa            Calangute      3.6   \n",
       "\n",
       "     No_of_Ratings Original_price Discount_price  Taxes Building_Type   \n",
       "1           4348.0          5,750            NaN    690     Apartment  \\\n",
       "2           2251.0          3,690          3,010    720     Apartment   \n",
       "3           5840.0          5,149            NaN    618     Apartment   \n",
       "5             71.0          7,499            NaN    900        Resort   \n",
       "7              0.0          12,29            NaN  2,214     Apartment   \n",
       "..             ...            ...            ...    ...           ...   \n",
       "184          157.0          5,512          4,686    562        Resort   \n",
       "185          351.0          3,960          2,560    633     Apartment   \n",
       "186         1221.0          5,805          3,715    446        Resort   \n",
       "189          752.0          6,150          4,862    993        Resort   \n",
       "190          507.0          3,600          2,310    589        Resort   \n",
       "\n",
       "                    House_Rule hotel_type  \n",
       "1    Unmarried Couples Allowed     4 star  \n",
       "2              Alcohol Allowed     5 star  \n",
       "3              Alcohol Allowed     3 star  \n",
       "5              Alcohol Allowed     5 star  \n",
       "7              Alcohol Allowed     5 star  \n",
       "..                         ...        ...  \n",
       "184            Alcohol Allowed     5 star  \n",
       "185            Alcohol Allowed     3 star  \n",
       "186  Unmarried Couples Allowed     4 star  \n",
       "189            Alcohol Allowed     4 star  \n",
       "190            Alcohol Allowed     3 star  \n",
       "\n",
       "[100 rows x 10 columns]"
      ]
     },
     "execution_count": 66,
     "metadata": {},
     "output_type": "execute_result"
    }
   ],
   "source": [
    "df2.head(100)"
   ]
  },
  {
   "cell_type": "code",
   "execution_count": 67,
   "id": "84659db4",
   "metadata": {},
   "outputs": [
    {
     "name": "stdout",
     "output_type": "stream",
     "text": [
      "<class 'pandas.core.frame.DataFrame'>\n",
      "Index: 406 entries, 1 to 874\n",
      "Data columns (total 10 columns):\n",
      " #   Column          Non-Null Count  Dtype  \n",
      "---  ------          --------------  -----  \n",
      " 0   Hotel           406 non-null    object \n",
      " 1   Location        406 non-null    object \n",
      " 2   Ratings         406 non-null    float64\n",
      " 3   No_of_Ratings   406 non-null    float64\n",
      " 4   Original_price  406 non-null    object \n",
      " 5   Discount_price  332 non-null    object \n",
      " 6   Taxes           406 non-null    object \n",
      " 7   Building_Type   406 non-null    object \n",
      " 8   House_Rule      406 non-null    object \n",
      " 9   hotel_type      406 non-null    object \n",
      "dtypes: float64(2), object(8)\n",
      "memory usage: 34.9+ KB\n"
     ]
    }
   ],
   "source": [
    "df2.info()"
   ]
  },
  {
   "cell_type": "code",
   "execution_count": null,
   "id": "72a54deb",
   "metadata": {},
   "outputs": [],
   "source": []
  },
  {
   "cell_type": "code",
   "execution_count": 68,
   "id": "06b64d4a",
   "metadata": {},
   "outputs": [],
   "source": [
    "#clean original, discount, taxes prices"
   ]
  },
  {
   "cell_type": "code",
   "execution_count": 69,
   "id": "1d697310",
   "metadata": {},
   "outputs": [],
   "source": [
    "df2['Original_price'] = df2['Original_price'].replace({'₹': '', ',': ''},regex=True).astype(int)"
   ]
  },
  {
   "cell_type": "code",
   "execution_count": 70,
   "id": "77deca63",
   "metadata": {},
   "outputs": [
    {
     "data": {
      "text/plain": [
       "dtype('int32')"
      ]
     },
     "execution_count": 70,
     "metadata": {},
     "output_type": "execute_result"
    }
   ],
   "source": [
    "df2['Original_price'].dtype"
   ]
  },
  {
   "cell_type": "code",
   "execution_count": 71,
   "id": "254e838f",
   "metadata": {},
   "outputs": [
    {
     "data": {
      "text/html": [
       "<div>\n",
       "<style scoped>\n",
       "    .dataframe tbody tr th:only-of-type {\n",
       "        vertical-align: middle;\n",
       "    }\n",
       "\n",
       "    .dataframe tbody tr th {\n",
       "        vertical-align: top;\n",
       "    }\n",
       "\n",
       "    .dataframe thead th {\n",
       "        text-align: right;\n",
       "    }\n",
       "</style>\n",
       "<table border=\"1\" class=\"dataframe\">\n",
       "  <thead>\n",
       "    <tr style=\"text-align: right;\">\n",
       "      <th></th>\n",
       "      <th>Hotel</th>\n",
       "      <th>Location</th>\n",
       "      <th>Ratings</th>\n",
       "      <th>No_of_Ratings</th>\n",
       "      <th>Original_price</th>\n",
       "      <th>Discount_price</th>\n",
       "      <th>Taxes</th>\n",
       "      <th>Building_Type</th>\n",
       "      <th>House_Rule</th>\n",
       "      <th>hotel_type</th>\n",
       "    </tr>\n",
       "  </thead>\n",
       "  <tbody>\n",
       "    <tr>\n",
       "      <th>1</th>\n",
       "      <td>ibis Styles Goa Calangute - An Accor Brand</td>\n",
       "      <td>Calangute</td>\n",
       "      <td>4.1</td>\n",
       "      <td>4348.0</td>\n",
       "      <td>5750</td>\n",
       "      <td>NaN</td>\n",
       "      <td>690</td>\n",
       "      <td>Apartment</td>\n",
       "      <td>Unmarried Couples Allowed</td>\n",
       "      <td>4 star</td>\n",
       "    </tr>\n",
       "    <tr>\n",
       "      <th>2</th>\n",
       "      <td>SinQ Prive</td>\n",
       "      <td>Candolim</td>\n",
       "      <td>4.0</td>\n",
       "      <td>2251.0</td>\n",
       "      <td>3690</td>\n",
       "      <td>3,010</td>\n",
       "      <td>720</td>\n",
       "      <td>Apartment</td>\n",
       "      <td>Alcohol Allowed</td>\n",
       "      <td>5 star</td>\n",
       "    </tr>\n",
       "    <tr>\n",
       "      <th>3</th>\n",
       "      <td>Ginger Goa, Panjim</td>\n",
       "      <td>Panjim</td>\n",
       "      <td>3.9</td>\n",
       "      <td>5840.0</td>\n",
       "      <td>5149</td>\n",
       "      <td>NaN</td>\n",
       "      <td>618</td>\n",
       "      <td>Apartment</td>\n",
       "      <td>Alcohol Allowed</td>\n",
       "      <td>3 star</td>\n",
       "    </tr>\n",
       "    <tr>\n",
       "      <th>5</th>\n",
       "      <td>The Yellow House, Goa - IHCL SeleQtions</td>\n",
       "      <td>Anjuna</td>\n",
       "      <td>4.2</td>\n",
       "      <td>71.0</td>\n",
       "      <td>7499</td>\n",
       "      <td>NaN</td>\n",
       "      <td>900</td>\n",
       "      <td>Resort</td>\n",
       "      <td>Alcohol Allowed</td>\n",
       "      <td>5 star</td>\n",
       "    </tr>\n",
       "    <tr>\n",
       "      <th>7</th>\n",
       "      <td>Novotel Goa Panjim</td>\n",
       "      <td>Panjim</td>\n",
       "      <td>0.0</td>\n",
       "      <td>0.0</td>\n",
       "      <td>1229</td>\n",
       "      <td>NaN</td>\n",
       "      <td>2,214</td>\n",
       "      <td>Apartment</td>\n",
       "      <td>Alcohol Allowed</td>\n",
       "      <td>5 star</td>\n",
       "    </tr>\n",
       "  </tbody>\n",
       "</table>\n",
       "</div>"
      ],
      "text/plain": [
       "                                        Hotel   Location  Ratings   \n",
       "1  ibis Styles Goa Calangute - An Accor Brand  Calangute      4.1  \\\n",
       "2                                  SinQ Prive   Candolim      4.0   \n",
       "3                          Ginger Goa, Panjim     Panjim      3.9   \n",
       "5     The Yellow House, Goa - IHCL SeleQtions     Anjuna      4.2   \n",
       "7                          Novotel Goa Panjim     Panjim      0.0   \n",
       "\n",
       "   No_of_Ratings  Original_price Discount_price  Taxes Building_Type   \n",
       "1         4348.0            5750            NaN    690     Apartment  \\\n",
       "2         2251.0            3690          3,010    720     Apartment   \n",
       "3         5840.0            5149            NaN    618     Apartment   \n",
       "5           71.0            7499            NaN    900        Resort   \n",
       "7            0.0            1229            NaN  2,214     Apartment   \n",
       "\n",
       "                  House_Rule hotel_type  \n",
       "1  Unmarried Couples Allowed     4 star  \n",
       "2            Alcohol Allowed     5 star  \n",
       "3            Alcohol Allowed     3 star  \n",
       "5            Alcohol Allowed     5 star  \n",
       "7            Alcohol Allowed     5 star  "
      ]
     },
     "execution_count": 71,
     "metadata": {},
     "output_type": "execute_result"
    }
   ],
   "source": [
    "df2.head()"
   ]
  },
  {
   "cell_type": "code",
   "execution_count": 72,
   "id": "cf8f83c2",
   "metadata": {},
   "outputs": [],
   "source": [
    "df2['No_of_Ratings'] = df2['No_of_Ratings'].astype(int)"
   ]
  },
  {
   "cell_type": "code",
   "execution_count": 73,
   "id": "c6136c7c",
   "metadata": {},
   "outputs": [],
   "source": [
    "df2.Discount_price.fillna(0, inplace=True)"
   ]
  },
  {
   "cell_type": "code",
   "execution_count": 74,
   "id": "409f5984",
   "metadata": {},
   "outputs": [
    {
     "name": "stdout",
     "output_type": "stream",
     "text": [
      "Discount_price\n",
      "0         74\n",
      " 2,458     3\n",
      " 3,349     3\n",
      " 4,186     3\n",
      " 3,780     2\n",
      "          ..\n",
      " 2,276     1\n",
      " 3,195     1\n",
      " 2,134     1\n",
      " 2,227     1\n",
      " 2,143     1\n",
      "Name: count, Length: 100, dtype: int64\n"
     ]
    }
   ],
   "source": [
    "print(df2['Discount_price'].value_counts().head(100))"
   ]
  },
  {
   "cell_type": "code",
   "execution_count": 75,
   "id": "ef17bbbe",
   "metadata": {},
   "outputs": [],
   "source": [
    "df2['Discount_price'] = df2['Discount_price'].str.replace('+','')\n",
    "df2['Discount_price'] = df2['Discount_price'].str.replace(' t','')\n",
    "df2['Discount_price'] = df2['Discount_price'].str.replace(',','')"
   ]
  },
  {
   "cell_type": "code",
   "execution_count": 76,
   "id": "b6c56ecb",
   "metadata": {},
   "outputs": [],
   "source": [
    "df2['Discount_price'].fillna(0,inplace=True)"
   ]
  },
  {
   "cell_type": "code",
   "execution_count": 77,
   "id": "526aea5b",
   "metadata": {},
   "outputs": [
    {
     "data": {
      "text/plain": [
       "1         0\n",
       "2      3010\n",
       "3         0\n",
       "5         0\n",
       "7         0\n",
       "       ... \n",
       "856    2550\n",
       "863    1180\n",
       "866    1603\n",
       "872       0\n",
       "874       0\n",
       "Name: Discount_price, Length: 406, dtype: int32"
      ]
     },
     "execution_count": 77,
     "metadata": {},
     "output_type": "execute_result"
    }
   ],
   "source": [
    "df2.Discount_price.astype(int)"
   ]
  },
  {
   "cell_type": "code",
   "execution_count": 78,
   "id": "22046319",
   "metadata": {},
   "outputs": [
    {
     "data": {
      "text/plain": [
       "Discount_price\n",
       "0        74\n",
       " 2458     3\n",
       " 3349     3\n",
       " 4186     3\n",
       " 3780     2\n",
       "         ..\n",
       " 5933     1\n",
       " 2202     1\n",
       " 7510     1\n",
       " 3656     1\n",
       " 1603     1\n",
       "Name: count, Length: 311, dtype: int64"
      ]
     },
     "execution_count": 78,
     "metadata": {},
     "output_type": "execute_result"
    }
   ],
   "source": [
    "df2['Discount_price'].value_counts()"
   ]
  },
  {
   "cell_type": "markdown",
   "id": "4ca087e6",
   "metadata": {},
   "source": [
    "### project data cleaning:\n"
   ]
  },
  {
   "cell_type": "code",
   "execution_count": 79,
   "id": "e217b173",
   "metadata": {},
   "outputs": [
    {
     "name": "stdout",
     "output_type": "stream",
     "text": [
      "Taxes\n",
      "900      4\n",
      "684      4\n",
      "402      3\n",
      "396      3\n",
      "418      3\n",
      "        ..\n",
      "1,062    1\n",
      "3,690    1\n",
      "1,116    1\n",
      "281      1\n",
      "5,403    1\n",
      "Name: count, Length: 336, dtype: int64\n"
     ]
    }
   ],
   "source": [
    "print(df2['Taxes'].value_counts())"
   ]
  },
  {
   "cell_type": "code",
   "execution_count": 80,
   "id": "c40749d5",
   "metadata": {},
   "outputs": [],
   "source": [
    "df2['Taxes'] = df2['Taxes'].str.replace('+','')\n",
    "df2['Taxes'] = df2['Taxes'].str.replace(',','')"
   ]
  },
  {
   "cell_type": "code",
   "execution_count": 86,
   "id": "d72eab00",
   "metadata": {},
   "outputs": [
    {
     "data": {
      "text/plain": [
       "array(['690', '720', '618', '900', '2214', '754', '520', '3510', '2351',\n",
       "       '2186', '3060', '2880', '2473', '518', '673', '2835', '992',\n",
       "       '3220', '812', '660', '910', '396', '954', '876', '359', '858',\n",
       "       '1222', '678', '877', '2461', '848', '185', '2430', '630', '1389',\n",
       "       '3450', '587', '1600', '760', '816', '728', '714', '2070', '696',\n",
       "       '722', '960', '2637', '615', '165', '777', '715', '548', '329',\n",
       "       '4268', '951', '603', '1168', '768', '2205', '893', '490', '2520',\n",
       "       '753', '718', '739', '456', '764', '1494', '1239', '1002', '1980',\n",
       "       '817', '3167', '945', '944', '1025', '529', '802', '1496', '627',\n",
       "       '3078', '776', '1310', '1782', '1830', '903', '759', '882', '654',\n",
       "       '721', '552', '562', '633', '446', '993', '589', '495', '1301',\n",
       "       '729', '1521', '1308', '800', '1620', '299', '879', '452', '1079',\n",
       "       '525', '3420', '508', '225', '671', '1287', '657', '1377', '492',\n",
       "       '482', '540', '682', '710', '726', '2274', '289', '402', '1755',\n",
       "       '864', '477', '281', '1116', '3690', '470', '1062', '519', '628',\n",
       "       '465', '416', '311', '811', '454', '1604', '984', '2019', '599',\n",
       "       '382', '780', '1440', '554', '2654', '680', '836', '1201', '828',\n",
       "       '821', '824', '899', '351', '428', '497', '323', '799', '602',\n",
       "       '611', '478', '591', '677', '568', '1276', '1001', '252', '522',\n",
       "       '596', '534', '413', '1561', '418', '435', '527', '2750', '2053',\n",
       "       '439', '474', '498', '472', '1038', '703', '565', '616', '308',\n",
       "       '653', '2106', '322', '449', '431', '911', '2309', '684', '513',\n",
       "       '1326', '885', '609', '421', '1346', '924', '638', '434', '502',\n",
       "       '494', '855', '415', '748', '1164', '659', '1007', '2320', '702',\n",
       "       '648', '1606', '466', '914', '566', '1787', '866', '695', '1728',\n",
       "       '282', '242', '6655', '1098', '734', '550', '1454', '1202', '952',\n",
       "       '1179', '1030', '634', '841', '516', '391', '433', '676', '889',\n",
       "       '898', '761', '112', '233', '228', '1191', '461', '2130', '353',\n",
       "       '2734', '708', '399', nan, '851', '362', '644', '610', '486',\n",
       "       '487', '537', '444', '337', '936', '377', '243', '737', '205',\n",
       "       '345', '665', '246', '747', '3137', '280', '1112', '250', '535',\n",
       "       '765', '427', '1163', '573', '489', '925', '327', '400', '501',\n",
       "       '691', '339', '1024', '496', '300', '1235', '1890', '731', '264',\n",
       "       '202', '475', '371', '1455', '1324', '448', '743', '564', '484',\n",
       "       '438', '567', '514', '517', '869', '445', '770', '3341', '510',\n",
       "       '1656', '704', '521', '2850', '551', '588', '956', '2007', '1351',\n",
       "       '312', '245', '975', '950', '455', '570', '378', '641', '576',\n",
       "       '325', '414', '3260', '5403'], dtype=object)"
      ]
     },
     "execution_count": 86,
     "metadata": {},
     "output_type": "execute_result"
    }
   ],
   "source": [
    "df2['Taxes'].unique()"
   ]
  },
  {
   "cell_type": "code",
   "execution_count": 93,
   "id": "3323b10e",
   "metadata": {},
   "outputs": [],
   "source": [
    "df2['Taxes'] = df2['Taxes'].fillna(0)\n",
    "\n",
    "df2['Taxes'] = df2['Taxes'].astype(int)\n"
   ]
  },
  {
   "cell_type": "code",
   "execution_count": 94,
   "id": "b791faa5",
   "metadata": {},
   "outputs": [
    {
     "name": "stdout",
     "output_type": "stream",
     "text": [
      "<class 'pandas.core.frame.DataFrame'>\n",
      "RangeIndex: 880 entries, 0 to 879\n",
      "Data columns (total 12 columns):\n",
      " #   Column          Non-Null Count  Dtype  \n",
      "---  ------          --------------  -----  \n",
      " 0   Unnamed: 0      880 non-null    int64  \n",
      " 1   Hotel           880 non-null    object \n",
      " 2   Location        880 non-null    object \n",
      " 3   Ratings         849 non-null    float64\n",
      " 4   No_of_Ratings   864 non-null    float64\n",
      " 5   No_of_Reviews   714 non-null    float64\n",
      " 6   Original_price  880 non-null    object \n",
      " 7   Discount_price  743 non-null    object \n",
      " 8   Taxes           877 non-null    object \n",
      " 9   Building_Type   572 non-null    object \n",
      " 10  House_Rule      732 non-null    object \n",
      " 11  hotel_type      553 non-null    object \n",
      "dtypes: float64(3), int64(1), object(8)\n",
      "memory usage: 82.6+ KB\n"
     ]
    }
   ],
   "source": [
    "df.info()"
   ]
  },
  {
   "cell_type": "code",
   "execution_count": null,
   "id": "e31fbeaa",
   "metadata": {},
   "outputs": [],
   "source": []
  },
  {
   "cell_type": "code",
   "execution_count": 96,
   "id": "cbaa79fe",
   "metadata": {},
   "outputs": [
    {
     "data": {
      "text/html": [
       "<div>\n",
       "<style scoped>\n",
       "    .dataframe tbody tr th:only-of-type {\n",
       "        vertical-align: middle;\n",
       "    }\n",
       "\n",
       "    .dataframe tbody tr th {\n",
       "        vertical-align: top;\n",
       "    }\n",
       "\n",
       "    .dataframe thead th {\n",
       "        text-align: right;\n",
       "    }\n",
       "</style>\n",
       "<table border=\"1\" class=\"dataframe\">\n",
       "  <thead>\n",
       "    <tr style=\"text-align: right;\">\n",
       "      <th></th>\n",
       "      <th>Hotel</th>\n",
       "      <th>Location</th>\n",
       "      <th>Ratings</th>\n",
       "      <th>No_of_Ratings</th>\n",
       "      <th>Original_price</th>\n",
       "      <th>Discount_price</th>\n",
       "      <th>Taxes</th>\n",
       "      <th>Building_Type</th>\n",
       "      <th>House_Rule</th>\n",
       "      <th>hotel_type</th>\n",
       "    </tr>\n",
       "  </thead>\n",
       "  <tbody>\n",
       "    <tr>\n",
       "      <th>1</th>\n",
       "      <td>ibis Styles Goa Calangute - An Accor Brand</td>\n",
       "      <td>Calangute</td>\n",
       "      <td>4.1</td>\n",
       "      <td>4348</td>\n",
       "      <td>5750</td>\n",
       "      <td>0</td>\n",
       "      <td>690</td>\n",
       "      <td>Apartment</td>\n",
       "      <td>Unmarried Couples Allowed</td>\n",
       "      <td>4 star</td>\n",
       "    </tr>\n",
       "    <tr>\n",
       "      <th>2</th>\n",
       "      <td>SinQ Prive</td>\n",
       "      <td>Candolim</td>\n",
       "      <td>4.0</td>\n",
       "      <td>2251</td>\n",
       "      <td>3690</td>\n",
       "      <td>3010</td>\n",
       "      <td>720</td>\n",
       "      <td>Apartment</td>\n",
       "      <td>Alcohol Allowed</td>\n",
       "      <td>5 star</td>\n",
       "    </tr>\n",
       "    <tr>\n",
       "      <th>3</th>\n",
       "      <td>Ginger Goa, Panjim</td>\n",
       "      <td>Panjim</td>\n",
       "      <td>3.9</td>\n",
       "      <td>5840</td>\n",
       "      <td>5149</td>\n",
       "      <td>0</td>\n",
       "      <td>618</td>\n",
       "      <td>Apartment</td>\n",
       "      <td>Alcohol Allowed</td>\n",
       "      <td>3 star</td>\n",
       "    </tr>\n",
       "    <tr>\n",
       "      <th>5</th>\n",
       "      <td>The Yellow House, Goa - IHCL SeleQtions</td>\n",
       "      <td>Anjuna</td>\n",
       "      <td>4.2</td>\n",
       "      <td>71</td>\n",
       "      <td>7499</td>\n",
       "      <td>0</td>\n",
       "      <td>900</td>\n",
       "      <td>Resort</td>\n",
       "      <td>Alcohol Allowed</td>\n",
       "      <td>5 star</td>\n",
       "    </tr>\n",
       "    <tr>\n",
       "      <th>7</th>\n",
       "      <td>Novotel Goa Panjim</td>\n",
       "      <td>Panjim</td>\n",
       "      <td>0.0</td>\n",
       "      <td>0</td>\n",
       "      <td>1229</td>\n",
       "      <td>0</td>\n",
       "      <td>2214</td>\n",
       "      <td>Apartment</td>\n",
       "      <td>Alcohol Allowed</td>\n",
       "      <td>5 star</td>\n",
       "    </tr>\n",
       "    <tr>\n",
       "      <th>...</th>\n",
       "      <td>...</td>\n",
       "      <td>...</td>\n",
       "      <td>...</td>\n",
       "      <td>...</td>\n",
       "      <td>...</td>\n",
       "      <td>...</td>\n",
       "      <td>...</td>\n",
       "      <td>...</td>\n",
       "      <td>...</td>\n",
       "      <td>...</td>\n",
       "    </tr>\n",
       "    <tr>\n",
       "      <th>856</th>\n",
       "      <td>Hotel Manvin's</td>\n",
       "      <td>Panjim</td>\n",
       "      <td>0.0</td>\n",
       "      <td>88</td>\n",
       "      <td>4699</td>\n",
       "      <td>2550</td>\n",
       "      <td>576</td>\n",
       "      <td>Apartment</td>\n",
       "      <td>Alcohol Allowed</td>\n",
       "      <td>3 star</td>\n",
       "    </tr>\n",
       "    <tr>\n",
       "      <th>863</th>\n",
       "      <td>FabExpress Symphony Homes, Calangute Beach</td>\n",
       "      <td>Calangute</td>\n",
       "      <td>3.6</td>\n",
       "      <td>10</td>\n",
       "      <td>2919</td>\n",
       "      <td>1180</td>\n",
       "      <td>325</td>\n",
       "      <td>Hotel</td>\n",
       "      <td>Unmarried Couples Allowed</td>\n",
       "      <td>3 star</td>\n",
       "    </tr>\n",
       "    <tr>\n",
       "      <th>866</th>\n",
       "      <td>The Sincro Hotel</td>\n",
       "      <td>Margao</td>\n",
       "      <td>3.7</td>\n",
       "      <td>206</td>\n",
       "      <td>1800</td>\n",
       "      <td>1603</td>\n",
       "      <td>414</td>\n",
       "      <td>Apartment</td>\n",
       "      <td>Alcohol Allowed</td>\n",
       "      <td>3 star</td>\n",
       "    </tr>\n",
       "    <tr>\n",
       "      <th>872</th>\n",
       "      <td>The Postcard Hideaway, Netravali, Goa</td>\n",
       "      <td>South Goa</td>\n",
       "      <td>4.9</td>\n",
       "      <td>19</td>\n",
       "      <td>3070</td>\n",
       "      <td>0</td>\n",
       "      <td>3260</td>\n",
       "      <td>Resort</td>\n",
       "      <td>Alcohol Allowed</td>\n",
       "      <td>5 star</td>\n",
       "    </tr>\n",
       "    <tr>\n",
       "      <th>874</th>\n",
       "      <td>V are Family | Three Solace 3 BHK Villa</td>\n",
       "      <td>Candolim</td>\n",
       "      <td>4.4</td>\n",
       "      <td>27</td>\n",
       "      <td>3001</td>\n",
       "      <td>0</td>\n",
       "      <td>5403</td>\n",
       "      <td>Villa</td>\n",
       "      <td>Alcohol Allowed</td>\n",
       "      <td>4 star</td>\n",
       "    </tr>\n",
       "  </tbody>\n",
       "</table>\n",
       "<p>406 rows × 10 columns</p>\n",
       "</div>"
      ],
      "text/plain": [
       "                                          Hotel   Location  Ratings   \n",
       "1    ibis Styles Goa Calangute - An Accor Brand  Calangute      4.1  \\\n",
       "2                                    SinQ Prive   Candolim      4.0   \n",
       "3                            Ginger Goa, Panjim     Panjim      3.9   \n",
       "5       The Yellow House, Goa - IHCL SeleQtions     Anjuna      4.2   \n",
       "7                            Novotel Goa Panjim     Panjim      0.0   \n",
       "..                                          ...        ...      ...   \n",
       "856                              Hotel Manvin's     Panjim      0.0   \n",
       "863  FabExpress Symphony Homes, Calangute Beach  Calangute      3.6   \n",
       "866                            The Sincro Hotel     Margao      3.7   \n",
       "872       The Postcard Hideaway, Netravali, Goa  South Goa      4.9   \n",
       "874     V are Family | Three Solace 3 BHK Villa   Candolim      4.4   \n",
       "\n",
       "     No_of_Ratings  Original_price Discount_price  Taxes Building_Type   \n",
       "1             4348            5750              0    690     Apartment  \\\n",
       "2             2251            3690           3010    720     Apartment   \n",
       "3             5840            5149              0    618     Apartment   \n",
       "5               71            7499              0    900        Resort   \n",
       "7                0            1229              0   2214     Apartment   \n",
       "..             ...             ...            ...    ...           ...   \n",
       "856             88            4699           2550    576     Apartment   \n",
       "863             10            2919           1180    325         Hotel   \n",
       "866            206            1800           1603    414     Apartment   \n",
       "872             19            3070              0   3260        Resort   \n",
       "874             27            3001              0   5403         Villa   \n",
       "\n",
       "                    House_Rule hotel_type  \n",
       "1    Unmarried Couples Allowed     4 star  \n",
       "2              Alcohol Allowed     5 star  \n",
       "3              Alcohol Allowed     3 star  \n",
       "5              Alcohol Allowed     5 star  \n",
       "7              Alcohol Allowed     5 star  \n",
       "..                         ...        ...  \n",
       "856            Alcohol Allowed     3 star  \n",
       "863  Unmarried Couples Allowed     3 star  \n",
       "866            Alcohol Allowed     3 star  \n",
       "872            Alcohol Allowed     5 star  \n",
       "874            Alcohol Allowed     4 star  \n",
       "\n",
       "[406 rows x 10 columns]"
      ]
     },
     "execution_count": 96,
     "metadata": {},
     "output_type": "execute_result"
    }
   ],
   "source": [
    "df2"
   ]
  },
  {
   "cell_type": "code",
   "execution_count": 91,
   "id": "6cee7318",
   "metadata": {},
   "outputs": [
    {
     "data": {
      "text/plain": [
       "hotel_type\n",
       "3 star    245\n",
       "4 star    113\n",
       "5 star     48\n",
       "Name: count, dtype: int64"
      ]
     },
     "execution_count": 91,
     "metadata": {},
     "output_type": "execute_result"
    }
   ],
   "source": [
    "df2.hotel_type.value_counts(dropna=False)"
   ]
  },
  {
   "cell_type": "code",
   "execution_count": 97,
   "id": "a128b547",
   "metadata": {},
   "outputs": [
    {
     "data": {
      "text/plain": [
       "Hotel              object\n",
       "Location           object\n",
       "Ratings           float64\n",
       "No_of_Ratings       int32\n",
       "Original_price      int32\n",
       "Discount_price     object\n",
       "Taxes               int32\n",
       "Building_Type      object\n",
       "House_Rule         object\n",
       "hotel_type         object\n",
       "dtype: object"
      ]
     },
     "execution_count": 97,
     "metadata": {},
     "output_type": "execute_result"
    }
   ],
   "source": [
    "df2.dtypes"
   ]
  },
  {
   "cell_type": "code",
   "execution_count": null,
   "id": "20d2065d",
   "metadata": {},
   "outputs": [],
   "source": []
  },
  {
   "cell_type": "code",
   "execution_count": null,
   "id": "0b243021",
   "metadata": {},
   "outputs": [],
   "source": []
  },
  {
   "cell_type": "code",
   "execution_count": null,
   "id": "ec9a1186",
   "metadata": {},
   "outputs": [],
   "source": []
  },
  {
   "cell_type": "code",
   "execution_count": null,
   "id": "f5a99beb",
   "metadata": {},
   "outputs": [],
   "source": []
  },
  {
   "cell_type": "code",
   "execution_count": null,
   "id": "fc9c4f1a",
   "metadata": {},
   "outputs": [],
   "source": []
  }
 ],
 "metadata": {
  "kernelspec": {
   "display_name": "Python 3 (ipykernel)",
   "language": "python",
   "name": "python3"
  },
  "language_info": {
   "codemirror_mode": {
    "name": "ipython",
    "version": 3
   },
   "file_extension": ".py",
   "mimetype": "text/x-python",
   "name": "python",
   "nbconvert_exporter": "python",
   "pygments_lexer": "ipython3",
   "version": "3.10.9"
  }
 },
 "nbformat": 4,
 "nbformat_minor": 5
}
