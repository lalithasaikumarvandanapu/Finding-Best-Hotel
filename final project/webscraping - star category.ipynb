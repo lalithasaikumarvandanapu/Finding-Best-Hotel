{
 "cells": [
  {
   "cell_type": "code",
   "execution_count": 3,
   "id": "d1c53721-3342-4eb5-b7e0-904d06bfd3d3",
   "metadata": {},
   "outputs": [],
   "source": [
    "import requests\n",
    "from bs4 import BeautifulSoup\n",
    "\n",
    "import pandas as pd\n",
    "import numpy as np\n",
    "import time\n",
    "import re\n",
    "\n",
    "from selenium import webdriver\n",
    "\n",
    "import warnings\n",
    "warnings.filterwarnings('ignore')"
   ]
  },
  {
   "cell_type": "markdown",
   "id": "0685c88b-965a-4348-ae98-266beb8b65da",
   "metadata": {},
   "source": [
    "## Scraping star category 1"
   ]
  },
  {
   "cell_type": "code",
   "execution_count": 4,
   "id": "9c32e3fe-4f41-4678-bab0-7f514285c4a2",
   "metadata": {},
   "outputs": [],
   "source": [
    "driver = webdriver.Chrome()\n"
   ]
  },
  {
   "cell_type": "code",
   "execution_count": 5,
   "id": "126fbb89-7f8e-4865-9d70-b0dcc45cb091",
   "metadata": {},
   "outputs": [],
   "source": [
    "url = \"https://www.makemytrip.com/hotels/hotel-listing/?_uCurrency=INR&checkin=10152024&checkout=10172024&city=CTGOI&country=IN&filterData=STAR_RATING%7C3&locusId=CTGOI&locusType=city&reference=hotel&roomStayQualifier=2e0e&rsc=1e2e0e&searchText=Goa&type=city\""
   ]
  },
  {
   "cell_type": "code",
   "execution_count": 6,
   "id": "92fecf62-6f34-484a-9157-054e12dacb91",
   "metadata": {},
   "outputs": [],
   "source": [
    "driver.get(url)\n"
   ]
  },
  {
   "cell_type": "code",
   "execution_count": 7,
   "id": "5ffbbcf1-2185-4531-846c-623861c001c3",
   "metadata": {},
   "outputs": [],
   "source": [
    "\n",
    "# # Get scroll height\n",
    "# import time\n",
    "# last_height = driver.execute_script(\"return document.body.scrollHeight\")\n",
    "\n",
    "# while True:\n",
    "#     # Scroll down to bottom\n",
    "#     driver.execute_script(\"window.scrollTo(0, document.body.scrollHeight);\")\n",
    "\n",
    "#     # Wait to load page\n",
    "#     time.sleep(5)\n",
    "\n",
    "#     # Calculate new scroll height and compare with last scroll height\n",
    "#     new_height = driver.execute_script(\"return document.body.scrollHeight\")\n",
    "#     if new_height == last_height:\n",
    "#         break\n",
    "#     last_height = new_height\n"
   ]
  },
  {
   "cell_type": "code",
   "execution_count": 8,
   "id": "65fbf235-0a42-49cc-8acb-88cb0c5ff9a1",
   "metadata": {},
   "outputs": [],
   "source": [
    "# Get initial scroll height\n",
    "last_height = driver.execute_script(\"return document.body.scrollHeight\")\n",
    "\n",
    "for _ in range(300):\n",
    "    # Scroll down to bottom\n",
    "    driver.execute_script(\"window.scrollTo(0, document.body.scrollHeight);\")\n",
    "\n",
    "    # Wait to load page\n",
    "    time.sleep(4)\n",
    "\n",
    "    # Calculate new scroll height and compare with last scroll height\n",
    "    new_height = driver.execute_script(\"return document.body.scrollHeight\")\n",
    "    if new_height == last_height:\n",
    "        break\n",
    "    last_height = new_height\n"
   ]
  },
  {
   "cell_type": "code",
   "execution_count": 9,
   "id": "7a8f9b0c-6c13-4f87-a47e-700f6a5ce00a",
   "metadata": {},
   "outputs": [],
   "source": [
    "html = driver.page_source"
   ]
  },
  {
   "cell_type": "code",
   "execution_count": 10,
   "id": "6499bd4e-1be4-474d-bb44-6583c3571381",
   "metadata": {},
   "outputs": [],
   "source": [
    "soup = BeautifulSoup(html)"
   ]
  },
  {
   "cell_type": "code",
   "execution_count": 11,
   "id": "f85998d4-a7ed-492b-9d7c-34b0a99f6608",
   "metadata": {},
   "outputs": [],
   "source": [
    "Names = []\n",
    "for i in soup.find_all('div', class_='flexOne appendLeft20'):\n",
    "    if re.findall(\"^[A-Za-z0-9 &',\\-.a]+\",i.text):\n",
    "        Names.append(re.findall(\"^[A-Za-z0-9 &',\\-.a]+\",i.text)[0])\n",
    "    else:\n",
    "        Names.append(np.nan)"
   ]
  },
  {
   "cell_type": "code",
   "execution_count": 12,
   "id": "7074d043-7d01-48d9-9f6e-f94ccd00a4e0",
   "metadata": {},
   "outputs": [],
   "source": [
    "\n",
    "Hotel = []\n",
    "\n",
    "for i in soup.find_all('div', class_='flexOne appendLeft20'):\n",
    "    r = i.find('span', class_='wordBreak appendRight10')\n",
    "    Hotel.append(r.text)\n"
   ]
  },
  {
   "cell_type": "code",
   "execution_count": null,
   "id": "9931a822-fac1-4ff4-9a2c-c8a13fae363b",
   "metadata": {},
   "outputs": [],
   "source": []
  },
  {
   "cell_type": "code",
   "execution_count": null,
   "id": "873f6706-c677-4787-89b6-dce8d2ed8c6c",
   "metadata": {},
   "outputs": [],
   "source": []
  },
  {
   "cell_type": "code",
   "execution_count": 13,
   "id": "b714f845-050f-47dc-b044-36a154c1db5e",
   "metadata": {},
   "outputs": [],
   "source": [
    "star_category_1df = pd.DataFrame({ \"Hotel\":Hotel\n",
    "})"
   ]
  },
  {
   "cell_type": "code",
   "execution_count": 14,
   "id": "be6936d7-ce7b-46ee-b562-8773b55563e8",
   "metadata": {},
   "outputs": [],
   "source": [
    "star_category_1df['hotel_type'] = '3 star'"
   ]
  },
  {
   "cell_type": "code",
   "execution_count": 15,
   "id": "54c8cd62-22ef-4b03-9ea0-acdc3f7e44ed",
   "metadata": {},
   "outputs": [
    {
     "data": {
      "text/html": [
       "<div>\n",
       "<style scoped>\n",
       "    .dataframe tbody tr th:only-of-type {\n",
       "        vertical-align: middle;\n",
       "    }\n",
       "\n",
       "    .dataframe tbody tr th {\n",
       "        vertical-align: top;\n",
       "    }\n",
       "\n",
       "    .dataframe thead th {\n",
       "        text-align: right;\n",
       "    }\n",
       "</style>\n",
       "<table border=\"1\" class=\"dataframe\">\n",
       "  <thead>\n",
       "    <tr style=\"text-align: right;\">\n",
       "      <th></th>\n",
       "      <th>Hotel</th>\n",
       "      <th>hotel_type</th>\n",
       "    </tr>\n",
       "  </thead>\n",
       "  <tbody>\n",
       "    <tr>\n",
       "      <th>0</th>\n",
       "      <td>Hotel Rajdhani</td>\n",
       "      <td>3 star</td>\n",
       "    </tr>\n",
       "    <tr>\n",
       "      <th>1</th>\n",
       "      <td>SinQ Beach Resort</td>\n",
       "      <td>3 star</td>\n",
       "    </tr>\n",
       "    <tr>\n",
       "      <th>2</th>\n",
       "      <td>Calangute Heights by Stay ALYF | Luxury 1 BHK ...</td>\n",
       "      <td>3 star</td>\n",
       "    </tr>\n",
       "    <tr>\n",
       "      <th>3</th>\n",
       "      <td>Carnival De Goa - Luxury Apartment near Candolim</td>\n",
       "      <td>3 star</td>\n",
       "    </tr>\n",
       "    <tr>\n",
       "      <th>4</th>\n",
       "      <td>Laguna Anjuna - A Country House Resort in Anju...</td>\n",
       "      <td>3 star</td>\n",
       "    </tr>\n",
       "    <tr>\n",
       "      <th>...</th>\n",
       "      <td>...</td>\n",
       "      <td>...</td>\n",
       "    </tr>\n",
       "    <tr>\n",
       "      <th>843</th>\n",
       "      <td>Rainforest Enclave Private Terrace 2BHK -CF1</td>\n",
       "      <td>3 star</td>\n",
       "    </tr>\n",
       "    <tr>\n",
       "      <th>844</th>\n",
       "      <td>FabHotel Prime Fair stayz</td>\n",
       "      <td>3 star</td>\n",
       "    </tr>\n",
       "    <tr>\n",
       "      <th>845</th>\n",
       "      <td>Hotel O Om Babu Guest House</td>\n",
       "      <td>3 star</td>\n",
       "    </tr>\n",
       "    <tr>\n",
       "      <th>846</th>\n",
       "      <td>Hotel O Ferns Guest House</td>\n",
       "      <td>3 star</td>\n",
       "    </tr>\n",
       "    <tr>\n",
       "      <th>847</th>\n",
       "      <td>Shangri La Jungle Village</td>\n",
       "      <td>3 star</td>\n",
       "    </tr>\n",
       "  </tbody>\n",
       "</table>\n",
       "<p>848 rows × 2 columns</p>\n",
       "</div>"
      ],
      "text/plain": [
       "                                                 Hotel hotel_type\n",
       "0                                       Hotel Rajdhani     3 star\n",
       "1                                    SinQ Beach Resort     3 star\n",
       "2    Calangute Heights by Stay ALYF | Luxury 1 BHK ...     3 star\n",
       "3     Carnival De Goa - Luxury Apartment near Candolim     3 star\n",
       "4    Laguna Anjuna - A Country House Resort in Anju...     3 star\n",
       "..                                                 ...        ...\n",
       "843       Rainforest Enclave Private Terrace 2BHK -CF1     3 star\n",
       "844                          FabHotel Prime Fair stayz     3 star\n",
       "845                        Hotel O Om Babu Guest House     3 star\n",
       "846                          Hotel O Ferns Guest House     3 star\n",
       "847                          Shangri La Jungle Village     3 star\n",
       "\n",
       "[848 rows x 2 columns]"
      ]
     },
     "execution_count": 15,
     "metadata": {},
     "output_type": "execute_result"
    }
   ],
   "source": [
    "star_category_1df"
   ]
  },
  {
   "cell_type": "markdown",
   "id": "2b83b18a-2232-43b1-a472-2037b3e72dca",
   "metadata": {},
   "source": [
    "## Saving df to excel"
   ]
  },
  {
   "cell_type": "code",
   "execution_count": 36,
   "id": "11621c28-9ab9-4d17-a36e-a67df3a4c2f2",
   "metadata": {},
   "outputs": [],
   "source": [
    "star_category_1df.to_excel(r\"C:\\Users\\DELL\\Final Project/files/star_category_1df.xlsx\")"
   ]
  },
  {
   "cell_type": "markdown",
   "id": "2173f60b-29ec-4079-8dbf-a9730eab69a8",
   "metadata": {},
   "source": [
    "## Reading df from excel"
   ]
  },
  {
   "cell_type": "code",
   "execution_count": 37,
   "id": "630fd3d2-6bee-4a54-afc8-4216898a634f",
   "metadata": {},
   "outputs": [],
   "source": [
    "star_category_1df = pd.read_excel(r'C:\\Users\\DELL\\Final Project/files/star_category_1df.xlsx')"
   ]
  },
  {
   "cell_type": "markdown",
   "id": "78d869e9-988c-4cae-b73c-8cf445be7c64",
   "metadata": {},
   "source": [
    "## Scraping star category 2\n"
   ]
  },
  {
   "cell_type": "code",
   "execution_count": 69,
   "id": "d8905cc0-1852-49ca-9905-4cf607052993",
   "metadata": {},
   "outputs": [],
   "source": [
    "driver = webdriver.Chrome()\n"
   ]
  },
  {
   "cell_type": "code",
   "execution_count": 70,
   "id": "2c039b09-1bc4-4b46-a698-09ae11560f95",
   "metadata": {},
   "outputs": [],
   "source": [
    "url = \"https://www.makemytrip.com/hotels/hotel-listing/?_uCurrency=INR&checkin=10152024&checkout=10172024&city=CTGOI&country=IN&filterData=STAR_RATING%7C4&locusId=CTGOI&locusType=city&reference=hotel&roomStayQualifier=2e0e&rsc=1e2e0e&searchText=Goa&type=city\"\n"
   ]
  },
  {
   "cell_type": "code",
   "execution_count": 71,
   "id": "4f0828dc-1ac3-4769-b823-9486db31f05a",
   "metadata": {},
   "outputs": [],
   "source": [
    "driver.get(url)\n"
   ]
  },
  {
   "cell_type": "code",
   "execution_count": 72,
   "id": "a34d4ad7-70a1-45c8-9e9e-01899c16fd94",
   "metadata": {},
   "outputs": [],
   "source": [
    "\n",
    "# # Get scroll height\n",
    "# import time\n",
    "# last_height = driver.execute_script(\"return document.body.scrollHeight\")\n",
    "\n",
    "# while True:\n",
    "#     # Scroll down to bottom\n",
    "#     driver.execute_script(\"window.scrollTo(0, document.body.scrollHeight);\")\n",
    "\n",
    "#     # Wait to load page\n",
    "#     time.sleep(5)\n",
    "\n",
    "#     # Calculate new scroll height and compare with last scroll height\n",
    "#     new_height = driver.execute_script(\"return document.body.scrollHeight\")\n",
    "#     if new_height == last_height:\n",
    "#         break\n",
    "#     last_height = new_height\n"
   ]
  },
  {
   "cell_type": "code",
   "execution_count": 73,
   "id": "2f078a72-72b4-4bf3-97d5-603cc6d5bb03",
   "metadata": {},
   "outputs": [
    {
     "ename": "KeyboardInterrupt",
     "evalue": "",
     "output_type": "error",
     "traceback": [
      "\u001b[1;31m---------------------------------------------------------------------------\u001b[0m",
      "\u001b[1;31mKeyboardInterrupt\u001b[0m                         Traceback (most recent call last)",
      "Cell \u001b[1;32mIn[73], line 9\u001b[0m\n\u001b[0;32m      6\u001b[0m driver\u001b[38;5;241m.\u001b[39mexecute_script(\u001b[38;5;124m\"\u001b[39m\u001b[38;5;124mwindow.scrollTo(0, document.body.scrollHeight);\u001b[39m\u001b[38;5;124m\"\u001b[39m)\n\u001b[0;32m      8\u001b[0m \u001b[38;5;66;03m# Wait to load page\u001b[39;00m\n\u001b[1;32m----> 9\u001b[0m time\u001b[38;5;241m.\u001b[39msleep(\u001b[38;5;241m4\u001b[39m)\n",
      "\u001b[1;31mKeyboardInterrupt\u001b[0m: "
     ]
    }
   ],
   "source": [
    "# Get initial scroll height\n",
    "last_height = driver.execute_script(\"return document.body.scrollHeight\")\n",
    "\n",
    "for _ in range(300):\n",
    "    # Scroll down to bottom\n",
    "    driver.execute_script(\"window.scrollTo(0, document.body.scrollHeight);\")\n",
    "\n",
    "    # Wait to load page\n",
    "    time.sleep(4)\n",
    "\n",
    "    # Calculate new scroll height and compare with last scroll height\n",
    "    # new_height = driver.execute_script(\"return document.body.scrollHeight\")\n",
    "    # if new_height == last_height:\n",
    "    #     break\n",
    "    # last_height = new_height\n"
   ]
  },
  {
   "cell_type": "code",
   "execution_count": 80,
   "id": "022d5de0-f35d-4e32-800f-207c96c048a0",
   "metadata": {},
   "outputs": [],
   "source": [
    "html = driver.page_source\n"
   ]
  },
  {
   "cell_type": "code",
   "execution_count": 82,
   "id": "9a680cd6-3a80-4158-9fc7-08becb6f32ab",
   "metadata": {},
   "outputs": [],
   "source": [
    "soup = BeautifulSoup(html)\n"
   ]
  },
  {
   "cell_type": "code",
   "execution_count": 83,
   "id": "24fa5354-f4b4-4ea3-90f8-822eb11e9a7f",
   "metadata": {},
   "outputs": [],
   "source": [
    "Names = []\n",
    "for i in soup.find_all('div', class_='flexOne appendLeft20'):\n",
    "    if re.findall(\"^[A-Za-z0-9 &',\\-.a]+\",i.text):\n",
    "        Names.append(re.findall(\"^[A-Za-z0-9 &',\\-.a]+\",i.text)[0])\n",
    "    else:\n",
    "        Names.append(np.nan)"
   ]
  },
  {
   "cell_type": "code",
   "execution_count": 86,
   "id": "b46522fb-f51a-4e11-ac4c-dbdf5a5e1151",
   "metadata": {},
   "outputs": [],
   "source": [
    "\n",
    "Hotel = []\n",
    "\n",
    "for i in soup.find_all('div', class_='flexOne appendLeft20'):\n",
    "    r = i.find('span', class_='wordBreak appendRight10')\n",
    "    Hotel.append(r.text)\n"
   ]
  },
  {
   "cell_type": "code",
   "execution_count": 88,
   "id": "d7822fed-9385-43dc-ade1-b0bca7c949c6",
   "metadata": {},
   "outputs": [],
   "source": [
    "star_category_2df = pd.DataFrame({ \"Hotel\":Hotel })\n"
   ]
  },
  {
   "cell_type": "code",
   "execution_count": 90,
   "id": "2ea16461-630f-4e5f-b578-ac3c9e4b2391",
   "metadata": {},
   "outputs": [],
   "source": [
    "star_category_2df['hotel_type'] = '4 star'\n"
   ]
  },
  {
   "cell_type": "code",
   "execution_count": 92,
   "id": "e4ce4231-f517-492f-9253-343992cab4fb",
   "metadata": {},
   "outputs": [
    {
     "data": {
      "text/html": [
       "<div>\n",
       "<style scoped>\n",
       "    .dataframe tbody tr th:only-of-type {\n",
       "        vertical-align: middle;\n",
       "    }\n",
       "\n",
       "    .dataframe tbody tr th {\n",
       "        vertical-align: top;\n",
       "    }\n",
       "\n",
       "    .dataframe thead th {\n",
       "        text-align: right;\n",
       "    }\n",
       "</style>\n",
       "<table border=\"1\" class=\"dataframe\">\n",
       "  <thead>\n",
       "    <tr style=\"text-align: right;\">\n",
       "      <th></th>\n",
       "      <th>Hotel</th>\n",
       "      <th>hotel_type</th>\n",
       "    </tr>\n",
       "  </thead>\n",
       "  <tbody>\n",
       "    <tr>\n",
       "      <th>0</th>\n",
       "      <td>Park Inn by Radisson Goa Candolim</td>\n",
       "      <td>4 star</td>\n",
       "    </tr>\n",
       "    <tr>\n",
       "      <th>1</th>\n",
       "      <td>ibis Styles Goa Calangute - An Accor Brand</td>\n",
       "      <td>4 star</td>\n",
       "    </tr>\n",
       "    <tr>\n",
       "      <th>2</th>\n",
       "      <td>ama Stays &amp; Trails | La Maison Fontainhas, Goa</td>\n",
       "      <td>4 star</td>\n",
       "    </tr>\n",
       "    <tr>\n",
       "      <th>3</th>\n",
       "      <td>La Vaiencia beach resort</td>\n",
       "      <td>4 star</td>\n",
       "    </tr>\n",
       "    <tr>\n",
       "      <th>4</th>\n",
       "      <td>Resort Terra Paraiso - A  Beach Property</td>\n",
       "      <td>4 star</td>\n",
       "    </tr>\n",
       "    <tr>\n",
       "      <th>...</th>\n",
       "      <td>...</td>\n",
       "      <td>...</td>\n",
       "    </tr>\n",
       "    <tr>\n",
       "      <th>237</th>\n",
       "      <td>La Zamora - 3 BHK Private Pool Villa at Vagato...</td>\n",
       "      <td>4 star</td>\n",
       "    </tr>\n",
       "    <tr>\n",
       "      <th>238</th>\n",
       "      <td>CASA NERUL VILLA</td>\n",
       "      <td>4 star</td>\n",
       "    </tr>\n",
       "    <tr>\n",
       "      <th>239</th>\n",
       "      <td>Nyast Valley Resort</td>\n",
       "      <td>4 star</td>\n",
       "    </tr>\n",
       "    <tr>\n",
       "      <th>240</th>\n",
       "      <td>StayVista at White Whale</td>\n",
       "      <td>4 star</td>\n",
       "    </tr>\n",
       "    <tr>\n",
       "      <th>241</th>\n",
       "      <td>SWAPNAGANDHA RESORT</td>\n",
       "      <td>4 star</td>\n",
       "    </tr>\n",
       "  </tbody>\n",
       "</table>\n",
       "<p>242 rows × 2 columns</p>\n",
       "</div>"
      ],
      "text/plain": [
       "                                                 Hotel hotel_type\n",
       "0                   Park Inn by Radisson Goa Candolim      4 star\n",
       "1           ibis Styles Goa Calangute - An Accor Brand     4 star\n",
       "2       ama Stays & Trails | La Maison Fontainhas, Goa     4 star\n",
       "3                             La Vaiencia beach resort     4 star\n",
       "4             Resort Terra Paraiso - A  Beach Property     4 star\n",
       "..                                                 ...        ...\n",
       "237  La Zamora - 3 BHK Private Pool Villa at Vagato...     4 star\n",
       "238                                   CASA NERUL VILLA     4 star\n",
       "239                                Nyast Valley Resort     4 star\n",
       "240                           StayVista at White Whale     4 star\n",
       "241                                SWAPNAGANDHA RESORT     4 star\n",
       "\n",
       "[242 rows x 2 columns]"
      ]
     },
     "execution_count": 92,
     "metadata": {},
     "output_type": "execute_result"
    }
   ],
   "source": [
    "star_category_2df"
   ]
  },
  {
   "cell_type": "markdown",
   "id": "1d0a8a03-5086-4998-b313-a5b69eb84230",
   "metadata": {},
   "source": [
    "## saving file to Excel"
   ]
  },
  {
   "cell_type": "code",
   "execution_count": 94,
   "id": "0ca997f5-b3d4-4314-9dfd-7971fb765f5b",
   "metadata": {},
   "outputs": [],
   "source": [
    "star_category_2df.to_excel(r\"C:\\Users\\DELL\\Final Project/files/star_category_2df.xlsx\")"
   ]
  },
  {
   "cell_type": "markdown",
   "id": "795e32c3-e509-42e5-9df9-9033dda69551",
   "metadata": {},
   "source": [
    "## reading df from excel"
   ]
  },
  {
   "cell_type": "code",
   "execution_count": 96,
   "id": "02507091-f700-4fd5-8595-58c50b10697e",
   "metadata": {},
   "outputs": [],
   "source": [
    "star_category_2df = pd.read_excel(r'C:\\Users\\DELL\\Final Project/files/star_category_2df.xlsx')"
   ]
  },
  {
   "cell_type": "code",
   "execution_count": null,
   "id": "5b35e4e8-3bf6-4958-a8a0-b9d1fedbd99b",
   "metadata": {},
   "outputs": [],
   "source": []
  },
  {
   "cell_type": "markdown",
   "id": "df945b42-6cab-4058-a239-1e24fe21f82a",
   "metadata": {},
   "source": [
    "## Scraping star category 3"
   ]
  },
  {
   "cell_type": "code",
   "execution_count": 136,
   "id": "44f0346e-00a3-43d7-b4ff-e45cb5bf6662",
   "metadata": {},
   "outputs": [],
   "source": [
    "html = driver.page_source\n"
   ]
  },
  {
   "cell_type": "code",
   "execution_count": 138,
   "id": "a1310fbc-f52b-4e94-b650-ee74da72ca55",
   "metadata": {},
   "outputs": [],
   "source": [
    "soup = BeautifulSoup(html)\n"
   ]
  },
  {
   "cell_type": "code",
   "execution_count": 139,
   "id": "e08216f7-5c3b-4a0a-b756-fab2d4fd4623",
   "metadata": {},
   "outputs": [],
   "source": [
    "url = \"https://www.makemytrip.com/hotels/hotel-listing/?_uCurrency=INR&checkin=10152024&checkout=10172024&city=CTGOI&country=IN&filterData=STAR_RATING%7C5&locusId=CTGOI&locusType=city&reference=hotel&roomStayQualifier=2e0e&rsc=1e2e0e&searchText=Goa&type=city\"\n"
   ]
  },
  {
   "cell_type": "code",
   "execution_count": 140,
   "id": "e42dc2ca-1c23-4310-9978-24a06ea73f55",
   "metadata": {},
   "outputs": [],
   "source": [
    "driver.get(url)\n"
   ]
  },
  {
   "cell_type": "code",
   "execution_count": 141,
   "id": "1be7f68a-ad7c-4b10-a08c-376b183716ea",
   "metadata": {},
   "outputs": [],
   "source": [
    "\n",
    "# # Get scroll height\n",
    "# import time\n",
    "# last_height = driver.execute_script(\"return document.body.scrollHeight\")\n",
    "\n",
    "# while True:\n",
    "#     # Scroll down to bottom\n",
    "#     driver.execute_script(\"window.scrollTo(0, document.body.scrollHeight);\")\n",
    "\n",
    "#     # Wait to load page\n",
    "#     time.sleep(5)\n",
    "\n",
    "#     # Calculate new scroll height and compare with last scroll height\n",
    "#     new_height = driver.execute_script(\"return document.body.scrollHeight\")\n",
    "#     if new_height == last_height:\n",
    "#         break\n",
    "#     last_height = new_height\n"
   ]
  },
  {
   "cell_type": "code",
   "execution_count": 142,
   "id": "cdfd400a-f6b5-46f2-867a-9b63e12661e1",
   "metadata": {},
   "outputs": [],
   "source": [
    "# Get initial scroll height\n",
    "last_height = driver.execute_script(\"return document.body.scrollHeight\")\n",
    "\n",
    "for _ in range(300):\n",
    "    # Scroll down to bottom\n",
    "    driver.execute_script(\"window.scrollTo(0, document.body.scrollHeight);\")\n",
    "\n",
    "    # Wait to load page\n",
    "    time.sleep(4)\n",
    "\n",
    "    # Calculate new scroll height and compare with last scroll height\n",
    "    # new_height = driver.execute_script(\"return document.body.scrollHeight\")\n",
    "    # if new_height == last_height:\n",
    "    #     break\n",
    "    # last_height = new_height\n"
   ]
  },
  {
   "cell_type": "code",
   "execution_count": 143,
   "id": "bbdf34d5-7d3f-49ee-9a20-33d82f37a47d",
   "metadata": {},
   "outputs": [],
   "source": [
    "Names = []\n",
    "for i in soup.find_all('div', class_='flexOne appendLeft20'):\n",
    "    if re.findall(\"^[A-Za-z0-9 &',\\-.a]+\",i.text):\n",
    "        Names.append(re.findall(\"^[A-Za-z0-9 &',\\-.a]+\",i.text)[0])\n",
    "    else:\n",
    "        Names.append(np.nan)"
   ]
  },
  {
   "cell_type": "code",
   "execution_count": 144,
   "id": "6c0814eb-8606-467f-9497-8a4fa98d1a73",
   "metadata": {},
   "outputs": [],
   "source": [
    "\n",
    "Hotel = []\n",
    "\n",
    "for i in soup.find_all('div', class_='flexOne appendLeft20'):\n",
    "    r = i.find('span', class_='wordBreak appendRight10')\n",
    "    Hotel.append(r.text)\n"
   ]
  },
  {
   "cell_type": "code",
   "execution_count": 145,
   "id": "c5c74412-b495-458a-b20b-d4359d1b3006",
   "metadata": {},
   "outputs": [],
   "source": [
    "star_category_3df = pd.DataFrame({ \"Hotel\":Hotel })\n"
   ]
  },
  {
   "cell_type": "code",
   "execution_count": 146,
   "id": "52471c00-f7c2-43de-9a9a-44c44103fc2f",
   "metadata": {},
   "outputs": [],
   "source": [
    "star_category_3df['hotel_type'] = '5 star'\n"
   ]
  },
  {
   "cell_type": "code",
   "execution_count": 147,
   "id": "e371ead3-ae44-48f6-885d-ea4379326ee9",
   "metadata": {},
   "outputs": [
    {
     "data": {
      "text/html": [
       "<div>\n",
       "<style scoped>\n",
       "    .dataframe tbody tr th:only-of-type {\n",
       "        vertical-align: middle;\n",
       "    }\n",
       "\n",
       "    .dataframe tbody tr th {\n",
       "        vertical-align: top;\n",
       "    }\n",
       "\n",
       "    .dataframe thead th {\n",
       "        text-align: right;\n",
       "    }\n",
       "</style>\n",
       "<table border=\"1\" class=\"dataframe\">\n",
       "  <thead>\n",
       "    <tr style=\"text-align: right;\">\n",
       "      <th></th>\n",
       "      <th>Hotel</th>\n",
       "      <th>hotel_type</th>\n",
       "    </tr>\n",
       "  </thead>\n",
       "  <tbody>\n",
       "    <tr>\n",
       "      <th>0</th>\n",
       "      <td>Novotel Goa Panjim</td>\n",
       "      <td>5 star</td>\n",
       "    </tr>\n",
       "    <tr>\n",
       "      <th>1</th>\n",
       "      <td>Hard Rock Hotel Goa Calangute</td>\n",
       "      <td>5 star</td>\n",
       "    </tr>\n",
       "    <tr>\n",
       "      <th>2</th>\n",
       "      <td>SinQ Prive</td>\n",
       "      <td>5 star</td>\n",
       "    </tr>\n",
       "    <tr>\n",
       "      <th>3</th>\n",
       "      <td>The Yellow House, Goa - IHCL SeleQtions</td>\n",
       "      <td>5 star</td>\n",
       "    </tr>\n",
       "    <tr>\n",
       "      <th>4</th>\n",
       "      <td>The Park Baga River Goa (Adults only Property)</td>\n",
       "      <td>5 star</td>\n",
       "    </tr>\n",
       "    <tr>\n",
       "      <th>...</th>\n",
       "      <td>...</td>\n",
       "      <td>...</td>\n",
       "    </tr>\n",
       "    <tr>\n",
       "      <th>84</th>\n",
       "      <td>ama Stays &amp; Trails | Moira by the Church, Goa</td>\n",
       "      <td>5 star</td>\n",
       "    </tr>\n",
       "    <tr>\n",
       "      <th>85</th>\n",
       "      <td>Sere Resort Goa</td>\n",
       "      <td>5 star</td>\n",
       "    </tr>\n",
       "    <tr>\n",
       "      <th>86</th>\n",
       "      <td>Staymaster Sea La Vie  Infinity Pool  Sea View</td>\n",
       "      <td>5 star</td>\n",
       "    </tr>\n",
       "    <tr>\n",
       "      <th>87</th>\n",
       "      <td>Rainforest Casa Oriana</td>\n",
       "      <td>5 star</td>\n",
       "    </tr>\n",
       "    <tr>\n",
       "      <th>88</th>\n",
       "      <td>Rainforest Azaya</td>\n",
       "      <td>5 star</td>\n",
       "    </tr>\n",
       "  </tbody>\n",
       "</table>\n",
       "<p>89 rows × 2 columns</p>\n",
       "</div>"
      ],
      "text/plain": [
       "                                             Hotel hotel_type\n",
       "0                               Novotel Goa Panjim     5 star\n",
       "1                    Hard Rock Hotel Goa Calangute     5 star\n",
       "2                                       SinQ Prive     5 star\n",
       "3          The Yellow House, Goa - IHCL SeleQtions     5 star\n",
       "4   The Park Baga River Goa (Adults only Property)     5 star\n",
       "..                                             ...        ...\n",
       "84   ama Stays & Trails | Moira by the Church, Goa     5 star\n",
       "85                                 Sere Resort Goa     5 star\n",
       "86  Staymaster Sea La Vie  Infinity Pool  Sea View     5 star\n",
       "87                          Rainforest Casa Oriana     5 star\n",
       "88                                Rainforest Azaya     5 star\n",
       "\n",
       "[89 rows x 2 columns]"
      ]
     },
     "execution_count": 147,
     "metadata": {},
     "output_type": "execute_result"
    }
   ],
   "source": [
    "star_category_3df\n"
   ]
  },
  {
   "cell_type": "markdown",
   "id": "de5c4c69-7826-4d47-b637-6ada2f079d91",
   "metadata": {},
   "source": [
    "## saving df to excel"
   ]
  },
  {
   "cell_type": "code",
   "execution_count": 160,
   "id": "6f1a5bde-4411-4e52-bb9a-7291b847daeb",
   "metadata": {},
   "outputs": [],
   "source": [
    "star_category_3df.to_excel(r\"C:\\Users\\DELL\\Final Project/files/star_category_3df.xlsx\")\n"
   ]
  },
  {
   "cell_type": "markdown",
   "id": "9f23aa94-0624-4fc4-bc95-ffddc3d750ec",
   "metadata": {},
   "source": [
    "## reading df from excel"
   ]
  },
  {
   "cell_type": "code",
   "execution_count": 163,
   "id": "9fd3a680-5027-4f3d-ae9b-9d1cd1a797f7",
   "metadata": {},
   "outputs": [],
   "source": [
    "star_category_3df = pd.read_excel(r'C:\\Users\\DELL\\Final Project/files/star_category_3df.xlsx')\n"
   ]
  },
  {
   "cell_type": "code",
   "execution_count": null,
   "id": "6dace1ea-e057-42d3-9d11-efe84c977925",
   "metadata": {},
   "outputs": [],
   "source": []
  },
  {
   "cell_type": "code",
   "execution_count": null,
   "id": "9189fd82-36a3-4f30-9562-45bbd2b3e9a6",
   "metadata": {},
   "outputs": [],
   "source": []
  }
 ],
 "metadata": {
  "kernelspec": {
   "display_name": "Python 3 (ipykernel)",
   "language": "python",
   "name": "python3"
  },
  "language_info": {
   "codemirror_mode": {
    "name": "ipython",
    "version": 3
   },
   "file_extension": ".py",
   "mimetype": "text/x-python",
   "name": "python",
   "nbconvert_exporter": "python",
   "pygments_lexer": "ipython3",
   "version": "3.10.9"
  }
 },
 "nbformat": 4,
 "nbformat_minor": 5
}
