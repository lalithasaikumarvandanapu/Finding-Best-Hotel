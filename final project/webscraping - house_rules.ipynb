{
 "cells": [
  {
   "cell_type": "code",
   "execution_count": 15,
   "id": "d2271170-80c5-4c1a-9d5d-5414dcc5cf95",
   "metadata": {
    "id": "d2271170-80c5-4c1a-9d5d-5414dcc5cf95"
   },
   "outputs": [],
   "source": [
    "import requests\n",
    "from bs4 import BeautifulSoup\n",
    "import pandas as pd\n",
    "import numpy as np\n",
    "import time\n",
    "import re\n",
    "\n",
    "\n",
    "import warnings\n",
    "warnings.filterwarnings('ignore')"
   ]
  },
  {
   "cell_type": "code",
   "execution_count": 17,
   "id": "a7696c5c-a2e1-4f39-b3b7-ce1222d931f2",
   "metadata": {
    "id": "a7696c5c-a2e1-4f39-b3b7-ce1222d931f2"
   },
   "outputs": [],
   "source": [
    "\n",
    "\n",
    "from selenium import webdriver\n"
   ]
  },
  {
   "cell_type": "markdown",
   "id": "cb9e96f2-4ad6-4af5-8404-0f0d6f1195d7",
   "metadata": {
    "id": "cb9e96f2-4ad6-4af5-8404-0f0d6f1195d7"
   },
   "source": [
    "## scraping house rule - 1"
   ]
  },
  {
   "cell_type": "code",
   "execution_count": 20,
   "id": "5784b1cd-7888-42a2-99fb-5d8e7e63a647",
   "metadata": {
    "id": "5784b1cd-7888-42a2-99fb-5d8e7e63a647"
   },
   "outputs": [],
   "source": [
    "driver = webdriver.Chrome()\n"
   ]
  },
  {
   "cell_type": "code",
   "execution_count": 5,
   "id": "8958004a-0b3f-4e08-8ff5-926194a16ecc",
   "metadata": {
    "id": "8958004a-0b3f-4e08-8ff5-926194a16ecc"
   },
   "outputs": [],
   "source": [
    "url = \"https://www.makemytrip.com/hotels/hotel-listing/?_uCurrency=INR&checkin=10112024&checkout=10132024&city=CTGOI&country=IN&filterData=HOUSE_RULES%7CAlcohol%20Allowed&locusId=CTGOI&locusType=city&regionNearByExp=3&roomStayQualifier=2e0e&rsc=1e2eundefinede&searchText=Goa\"\n"
   ]
  },
  {
   "cell_type": "code",
   "execution_count": 6,
   "id": "0fd16be0-b6fe-4075-a7c2-c6ac01e4521e",
   "metadata": {
    "id": "0fd16be0-b6fe-4075-a7c2-c6ac01e4521e"
   },
   "outputs": [],
   "source": [
    "driver.get(url)\n"
   ]
  },
  {
   "cell_type": "code",
   "execution_count": 7,
   "id": "4337538f-37b8-4eda-a92f-f626a888e40f",
   "metadata": {
    "id": "4337538f-37b8-4eda-a92f-f626a888e40f"
   },
   "outputs": [],
   "source": [
    "# # Get scroll height\n",
    "# import time\n",
    "# last_height = driver.execute_script(\"return document.body.scrollHeight\")\n",
    "\n",
    "# while True:\n",
    "#     # Scroll down to bottom\n",
    "#     driver.execute_script(\"window.scrollTo(0, document.body.scrollHeight);\")\n",
    "\n",
    "#     # Wait to load page\n",
    "#     time.sleep(5)\n",
    "\n",
    "#     # Calculate new scroll height and compare with last scroll height\n",
    "#     new_height = driver.execute_script(\"return document.body.scrollHeight\")\n",
    "#     if new_height == last_height:\n",
    "#         break\n",
    "#     last_height = new_height\n"
   ]
  },
  {
   "cell_type": "code",
   "execution_count": 8,
   "id": "8bdeb758-4c79-4e3d-9565-1db38c731445",
   "metadata": {
    "id": "8bdeb758-4c79-4e3d-9565-1db38c731445"
   },
   "outputs": [],
   "source": [
    "\n",
    "# Get initial scroll height\n",
    "last_height = driver.execute_script(\"return document.body.scrollHeight\")\n",
    "\n",
    "for _ in range(400):\n",
    "    # Scroll down to bottom\n",
    "    driver.execute_script(\"window.scrollTo(0, document.body.scrollHeight);\")\n",
    "\n",
    "    # Wait to load page\n",
    "    time.sleep(6)\n",
    "\n",
    "    # Calculate new scroll height and compare with last scroll height\n",
    "    new_height = driver.execute_script(\"return document.body.scrollHeight\")\n",
    "    if new_height == last_height:\n",
    "        break\n",
    "    last_height = new_height\n"
   ]
  },
  {
   "cell_type": "code",
   "execution_count": 9,
   "id": "f096048a-7954-419c-bce6-db273956846e",
   "metadata": {
    "id": "f096048a-7954-419c-bce6-db273956846e"
   },
   "outputs": [],
   "source": [
    "html = driver.page_source\n"
   ]
  },
  {
   "cell_type": "code",
   "execution_count": 10,
   "id": "dd8d6b0b-5c9a-4fdc-9e93-8ef3375e1e8f",
   "metadata": {
    "id": "dd8d6b0b-5c9a-4fdc-9e93-8ef3375e1e8f"
   },
   "outputs": [],
   "source": [
    "soup = BeautifulSoup(html)\n"
   ]
  },
  {
   "cell_type": "code",
   "execution_count": 11,
   "id": "5f41504b-1029-4305-adec-7c0d1b3d1c32",
   "metadata": {
    "id": "5f41504b-1029-4305-adec-7c0d1b3d1c32"
   },
   "outputs": [],
   "source": [
    "\n",
    "Names = []\n",
    "\n",
    "for i in soup.find_all('div', class_='flexOne appendLeft20'):\n",
    "    if re.findall(\"^[A-Za-z0-9 &',\\-.a]+\",i.text):\n",
    "        Names.append(re.findall(\"^[A-Za-z0-9 &',\\-.a]+\",i.text)[0])\n",
    "    else:\n",
    "        Names.append(np.nan)\n"
   ]
  },
  {
   "cell_type": "code",
   "execution_count": 12,
   "id": "3bb42f02-61cb-4a88-9b9e-fc0927d580a7",
   "metadata": {
    "id": "3bb42f02-61cb-4a88-9b9e-fc0927d580a7"
   },
   "outputs": [],
   "source": [
    "Hotel = []\n",
    "\n",
    "for i in soup.find_all('div', class_='flexOne appendLeft20'):\n",
    "    r = i.find('span', class_='wordBreak appendRight10')\n",
    "    Hotel.append(r.text)\n",
    "\n"
   ]
  },
  {
   "cell_type": "code",
   "execution_count": 13,
   "id": "406c4b2a-afcc-4bec-be12-6ce646049ef7",
   "metadata": {
    "id": "406c4b2a-afcc-4bec-be12-6ce646049ef7"
   },
   "outputs": [],
   "source": [
    "houserule_1df = pd.DataFrame({ \"Hotel\":Hotel })"
   ]
  },
  {
   "cell_type": "code",
   "execution_count": 14,
   "id": "998415cf-d489-4c55-827e-6b762e224d62",
   "metadata": {
    "id": "998415cf-d489-4c55-827e-6b762e224d62"
   },
   "outputs": [
    {
     "data": {
      "text/html": [
       "<div>\n",
       "<style scoped>\n",
       "    .dataframe tbody tr th:only-of-type {\n",
       "        vertical-align: middle;\n",
       "    }\n",
       "\n",
       "    .dataframe tbody tr th {\n",
       "        vertical-align: top;\n",
       "    }\n",
       "\n",
       "    .dataframe thead th {\n",
       "        text-align: right;\n",
       "    }\n",
       "</style>\n",
       "<table border=\"1\" class=\"dataframe\">\n",
       "  <thead>\n",
       "    <tr style=\"text-align: right;\">\n",
       "      <th></th>\n",
       "      <th>Hotel</th>\n",
       "    </tr>\n",
       "  </thead>\n",
       "  <tbody>\n",
       "    <tr>\n",
       "      <th>0</th>\n",
       "      <td>TreeHouse Neptune</td>\n",
       "    </tr>\n",
       "    <tr>\n",
       "      <th>1</th>\n",
       "      <td>Ginger Goa, Panjim</td>\n",
       "    </tr>\n",
       "    <tr>\n",
       "      <th>2</th>\n",
       "      <td>Hotel Campal</td>\n",
       "    </tr>\n",
       "    <tr>\n",
       "      <th>3</th>\n",
       "      <td>Elements by Rosetta</td>\n",
       "    </tr>\n",
       "    <tr>\n",
       "      <th>4</th>\n",
       "      <td>D7 La Serene</td>\n",
       "    </tr>\n",
       "    <tr>\n",
       "      <th>...</th>\n",
       "      <td>...</td>\n",
       "    </tr>\n",
       "    <tr>\n",
       "      <th>900</th>\n",
       "      <td>Sandbanks Beach Resort</td>\n",
       "    </tr>\n",
       "    <tr>\n",
       "      <th>901</th>\n",
       "      <td>El Raso - 1 BHK at Parra by The Blue Kite (05)</td>\n",
       "    </tr>\n",
       "    <tr>\n",
       "      <th>902</th>\n",
       "      <td>SPOT ON 63651 Red Rocks Guest House</td>\n",
       "    </tr>\n",
       "    <tr>\n",
       "      <th>903</th>\n",
       "      <td>VANQUISH HOLIDAY HOME</td>\n",
       "    </tr>\n",
       "    <tr>\n",
       "      <th>904</th>\n",
       "      <td>Samayra Guest House Goa</td>\n",
       "    </tr>\n",
       "  </tbody>\n",
       "</table>\n",
       "<p>905 rows × 1 columns</p>\n",
       "</div>"
      ],
      "text/plain": [
       "                                              Hotel\n",
       "0                                 TreeHouse Neptune\n",
       "1                                Ginger Goa, Panjim\n",
       "2                                      Hotel Campal\n",
       "3                               Elements by Rosetta\n",
       "4                                      D7 La Serene\n",
       "..                                              ...\n",
       "900                          Sandbanks Beach Resort\n",
       "901  El Raso - 1 BHK at Parra by The Blue Kite (05)\n",
       "902             SPOT ON 63651 Red Rocks Guest House\n",
       "903                           VANQUISH HOLIDAY HOME\n",
       "904                         Samayra Guest House Goa\n",
       "\n",
       "[905 rows x 1 columns]"
      ]
     },
     "execution_count": 14,
     "metadata": {},
     "output_type": "execute_result"
    }
   ],
   "source": [
    "houserule_1df\n"
   ]
  },
  {
   "cell_type": "code",
   "execution_count": 15,
   "id": "6d5673e7-27b1-4f00-bd50-c2493e57ffdf",
   "metadata": {
    "id": "6d5673e7-27b1-4f00-bd50-c2493e57ffdf"
   },
   "outputs": [],
   "source": [
    "houserule_1df['House_Rule'] = 'Alcohol Allowed'\n"
   ]
  },
  {
   "cell_type": "code",
   "execution_count": 16,
   "id": "9248a811-64ee-405e-966a-804b2cd3ab7d",
   "metadata": {
    "id": "9248a811-64ee-405e-966a-804b2cd3ab7d"
   },
   "outputs": [
    {
     "name": "stdout",
     "output_type": "stream",
     "text": [
      "<class 'pandas.core.frame.DataFrame'>\n",
      "RangeIndex: 905 entries, 0 to 904\n",
      "Data columns (total 2 columns):\n",
      " #   Column      Non-Null Count  Dtype \n",
      "---  ------      --------------  ----- \n",
      " 0   Hotel       905 non-null    object\n",
      " 1   House_Rule  905 non-null    object\n",
      "dtypes: object(2)\n",
      "memory usage: 14.3+ KB\n"
     ]
    }
   ],
   "source": [
    "houserule_1df.info()\n"
   ]
  },
  {
   "cell_type": "code",
   "execution_count": 17,
   "id": "01c2ee41-e030-4e1f-aec0-5a8a54298a9f",
   "metadata": {
    "id": "01c2ee41-e030-4e1f-aec0-5a8a54298a9f"
   },
   "outputs": [
    {
     "data": {
      "text/plain": [
       "Hotel         905\n",
       "House_Rule      1\n",
       "dtype: int64"
      ]
     },
     "execution_count": 17,
     "metadata": {},
     "output_type": "execute_result"
    }
   ],
   "source": [
    "houserule_1df.nunique()\n"
   ]
  },
  {
   "cell_type": "code",
   "execution_count": 18,
   "id": "98267a9e-8f8b-4db9-96e0-e9df31a0ee56",
   "metadata": {
    "id": "98267a9e-8f8b-4db9-96e0-e9df31a0ee56"
   },
   "outputs": [
    {
     "data": {
      "text/plain": [
       "House_Rule\n",
       "Alcohol Allowed    905\n",
       "Name: count, dtype: int64"
      ]
     },
     "execution_count": 18,
     "metadata": {},
     "output_type": "execute_result"
    }
   ],
   "source": [
    "houserule_1df.House_Rule.value_counts()\n"
   ]
  },
  {
   "cell_type": "code",
   "execution_count": 19,
   "id": "ba84a98e-efec-43af-875b-9ac2a9f6ccb7",
   "metadata": {
    "id": "ba84a98e-efec-43af-875b-9ac2a9f6ccb7"
   },
   "outputs": [
    {
     "data": {
      "text/html": [
       "<div>\n",
       "<style scoped>\n",
       "    .dataframe tbody tr th:only-of-type {\n",
       "        vertical-align: middle;\n",
       "    }\n",
       "\n",
       "    .dataframe tbody tr th {\n",
       "        vertical-align: top;\n",
       "    }\n",
       "\n",
       "    .dataframe thead th {\n",
       "        text-align: right;\n",
       "    }\n",
       "</style>\n",
       "<table border=\"1\" class=\"dataframe\">\n",
       "  <thead>\n",
       "    <tr style=\"text-align: right;\">\n",
       "      <th></th>\n",
       "      <th>Hotel</th>\n",
       "      <th>House_Rule</th>\n",
       "    </tr>\n",
       "  </thead>\n",
       "  <tbody>\n",
       "    <tr>\n",
       "      <th>0</th>\n",
       "      <td>TreeHouse Neptune</td>\n",
       "      <td>Alcohol Allowed</td>\n",
       "    </tr>\n",
       "    <tr>\n",
       "      <th>1</th>\n",
       "      <td>Ginger Goa, Panjim</td>\n",
       "      <td>Alcohol Allowed</td>\n",
       "    </tr>\n",
       "    <tr>\n",
       "      <th>2</th>\n",
       "      <td>Hotel Campal</td>\n",
       "      <td>Alcohol Allowed</td>\n",
       "    </tr>\n",
       "    <tr>\n",
       "      <th>3</th>\n",
       "      <td>Elements by Rosetta</td>\n",
       "      <td>Alcohol Allowed</td>\n",
       "    </tr>\n",
       "    <tr>\n",
       "      <th>4</th>\n",
       "      <td>D7 La Serene</td>\n",
       "      <td>Alcohol Allowed</td>\n",
       "    </tr>\n",
       "    <tr>\n",
       "      <th>...</th>\n",
       "      <td>...</td>\n",
       "      <td>...</td>\n",
       "    </tr>\n",
       "    <tr>\n",
       "      <th>900</th>\n",
       "      <td>Sandbanks Beach Resort</td>\n",
       "      <td>Alcohol Allowed</td>\n",
       "    </tr>\n",
       "    <tr>\n",
       "      <th>901</th>\n",
       "      <td>El Raso - 1 BHK at Parra by The Blue Kite (05)</td>\n",
       "      <td>Alcohol Allowed</td>\n",
       "    </tr>\n",
       "    <tr>\n",
       "      <th>902</th>\n",
       "      <td>SPOT ON 63651 Red Rocks Guest House</td>\n",
       "      <td>Alcohol Allowed</td>\n",
       "    </tr>\n",
       "    <tr>\n",
       "      <th>903</th>\n",
       "      <td>VANQUISH HOLIDAY HOME</td>\n",
       "      <td>Alcohol Allowed</td>\n",
       "    </tr>\n",
       "    <tr>\n",
       "      <th>904</th>\n",
       "      <td>Samayra Guest House Goa</td>\n",
       "      <td>Alcohol Allowed</td>\n",
       "    </tr>\n",
       "  </tbody>\n",
       "</table>\n",
       "<p>905 rows × 2 columns</p>\n",
       "</div>"
      ],
      "text/plain": [
       "                                              Hotel       House_Rule\n",
       "0                                 TreeHouse Neptune  Alcohol Allowed\n",
       "1                                Ginger Goa, Panjim  Alcohol Allowed\n",
       "2                                      Hotel Campal  Alcohol Allowed\n",
       "3                               Elements by Rosetta  Alcohol Allowed\n",
       "4                                      D7 La Serene  Alcohol Allowed\n",
       "..                                              ...              ...\n",
       "900                          Sandbanks Beach Resort  Alcohol Allowed\n",
       "901  El Raso - 1 BHK at Parra by The Blue Kite (05)  Alcohol Allowed\n",
       "902             SPOT ON 63651 Red Rocks Guest House  Alcohol Allowed\n",
       "903                           VANQUISH HOLIDAY HOME  Alcohol Allowed\n",
       "904                         Samayra Guest House Goa  Alcohol Allowed\n",
       "\n",
       "[905 rows x 2 columns]"
      ]
     },
     "execution_count": 19,
     "metadata": {},
     "output_type": "execute_result"
    }
   ],
   "source": [
    "houserule_1df\n"
   ]
  },
  {
   "cell_type": "code",
   "execution_count": 155,
   "id": "4f9c3b52-9a69-4ab6-9f89-b196e688ae05",
   "metadata": {
    "id": "4f9c3b52-9a69-4ab6-9f89-b196e688ae05"
   },
   "outputs": [],
   "source": [
    "\n",
    "## saving df to excel\n",
    "\n",
    "houserule_1df.to_excel(r\"C:\\Users\\DELL\\Final Project/files/houserule_1df.xlsx\")\n"
   ]
  },
  {
   "cell_type": "code",
   "execution_count": 156,
   "id": "cb3f3ed2-8b68-40a3-88fe-5a9f11e26c28",
   "metadata": {
    "id": "cb3f3ed2-8b68-40a3-88fe-5a9f11e26c28"
   },
   "outputs": [
    {
     "data": {
      "text/html": [
       "<div>\n",
       "<style scoped>\n",
       "    .dataframe tbody tr th:only-of-type {\n",
       "        vertical-align: middle;\n",
       "    }\n",
       "\n",
       "    .dataframe tbody tr th {\n",
       "        vertical-align: top;\n",
       "    }\n",
       "\n",
       "    .dataframe thead th {\n",
       "        text-align: right;\n",
       "    }\n",
       "</style>\n",
       "<table border=\"1\" class=\"dataframe\">\n",
       "  <thead>\n",
       "    <tr style=\"text-align: right;\">\n",
       "      <th></th>\n",
       "      <th>Hotel</th>\n",
       "      <th>House_Rule</th>\n",
       "    </tr>\n",
       "  </thead>\n",
       "  <tbody>\n",
       "    <tr>\n",
       "      <th>0</th>\n",
       "      <td>TreeHouse Neptune</td>\n",
       "      <td>Alcohol Allowed</td>\n",
       "    </tr>\n",
       "    <tr>\n",
       "      <th>1</th>\n",
       "      <td>Ginger Goa, Panjim</td>\n",
       "      <td>Alcohol Allowed</td>\n",
       "    </tr>\n",
       "    <tr>\n",
       "      <th>2</th>\n",
       "      <td>Hotel Campal</td>\n",
       "      <td>Alcohol Allowed</td>\n",
       "    </tr>\n",
       "    <tr>\n",
       "      <th>3</th>\n",
       "      <td>Elements by Rosetta</td>\n",
       "      <td>Alcohol Allowed</td>\n",
       "    </tr>\n",
       "    <tr>\n",
       "      <th>4</th>\n",
       "      <td>D7 La Serene</td>\n",
       "      <td>Alcohol Allowed</td>\n",
       "    </tr>\n",
       "    <tr>\n",
       "      <th>...</th>\n",
       "      <td>...</td>\n",
       "      <td>...</td>\n",
       "    </tr>\n",
       "    <tr>\n",
       "      <th>900</th>\n",
       "      <td>Sandbanks Beach Resort</td>\n",
       "      <td>Alcohol Allowed</td>\n",
       "    </tr>\n",
       "    <tr>\n",
       "      <th>901</th>\n",
       "      <td>El Raso - 1 BHK at Parra by The Blue Kite (05)</td>\n",
       "      <td>Alcohol Allowed</td>\n",
       "    </tr>\n",
       "    <tr>\n",
       "      <th>902</th>\n",
       "      <td>SPOT ON 63651 Red Rocks Guest House</td>\n",
       "      <td>Alcohol Allowed</td>\n",
       "    </tr>\n",
       "    <tr>\n",
       "      <th>903</th>\n",
       "      <td>VANQUISH HOLIDAY HOME</td>\n",
       "      <td>Alcohol Allowed</td>\n",
       "    </tr>\n",
       "    <tr>\n",
       "      <th>904</th>\n",
       "      <td>Samayra Guest House Goa</td>\n",
       "      <td>Alcohol Allowed</td>\n",
       "    </tr>\n",
       "  </tbody>\n",
       "</table>\n",
       "<p>905 rows × 2 columns</p>\n",
       "</div>"
      ],
      "text/plain": [
       "                                              Hotel       House_Rule\n",
       "0                                 TreeHouse Neptune  Alcohol Allowed\n",
       "1                                Ginger Goa, Panjim  Alcohol Allowed\n",
       "2                                      Hotel Campal  Alcohol Allowed\n",
       "3                               Elements by Rosetta  Alcohol Allowed\n",
       "4                                      D7 La Serene  Alcohol Allowed\n",
       "..                                              ...              ...\n",
       "900                          Sandbanks Beach Resort  Alcohol Allowed\n",
       "901  El Raso - 1 BHK at Parra by The Blue Kite (05)  Alcohol Allowed\n",
       "902             SPOT ON 63651 Red Rocks Guest House  Alcohol Allowed\n",
       "903                           VANQUISH HOLIDAY HOME  Alcohol Allowed\n",
       "904                         Samayra Guest House Goa  Alcohol Allowed\n",
       "\n",
       "[905 rows x 2 columns]"
      ]
     },
     "execution_count": 156,
     "metadata": {},
     "output_type": "execute_result"
    }
   ],
   "source": [
    "## reading saved excel df\n",
    "\n",
    "houserule_1df = pd.read_excel(r'C:\\Users\\DELL\\Final Project/files/houserule_1df.xlsx')\n",
    "\n",
    "houserule_1df.drop(columns = 'Unnamed: 0', inplace = True)\n",
    "\n",
    "houserule_1df"
   ]
  },
  {
   "cell_type": "markdown",
   "id": "5e64a4dc-54e1-42c1-94b6-d8d8f8c9db86",
   "metadata": {
    "id": "5e64a4dc-54e1-42c1-94b6-d8d8f8c9db86"
   },
   "source": [
    "## scraping house rule - 2"
   ]
  },
  {
   "cell_type": "code",
   "execution_count": 123,
   "id": "4EdJwLD56upu",
   "metadata": {
    "id": "4EdJwLD56upu"
   },
   "outputs": [],
   "source": [
    "driver = webdriver.Chrome()\n"
   ]
  },
  {
   "cell_type": "code",
   "execution_count": 124,
   "id": "Mvu0HR9A6upw",
   "metadata": {
    "id": "Mvu0HR9A6upw"
   },
   "outputs": [],
   "source": [
    "url = \"https://www.makemytrip.com/hotels/hotel-listing/?_uCurrency=INR&checkin=10112024&checkout=10132024&city=CTGOI&country=IN&filterData=HOUSE_RULES%7CUnmarried%20Couples%20Allowed&locusId=CTGOI&locusType=city&regionNearByExp=3&roomStayQualifier=2e0e&rsc=1e2eundefinede&searchText=Goa\"\n"
   ]
  },
  {
   "cell_type": "code",
   "execution_count": 125,
   "id": "7-0FBgke6upx",
   "metadata": {
    "id": "7-0FBgke6upx"
   },
   "outputs": [],
   "source": [
    "driver.get(url)\n"
   ]
  },
  {
   "cell_type": "code",
   "execution_count": 126,
   "id": "X5necj5x6upy",
   "metadata": {
    "id": "X5necj5x6upy"
   },
   "outputs": [],
   "source": [
    "# # Get scroll height\n",
    "# import time\n",
    "# last_height = driver.execute_script(\"return document.body.scrollHeight\")\n",
    "\n",
    "# while True:\n",
    "#     # Scroll down to bottom\n",
    "#     driver.execute_script(\"window.scrollTo(0, document.body.scrollHeight);\")\n",
    "\n",
    "#     # Wait to load page\n",
    "#     time.sleep(5)\n",
    "\n",
    "#     # Calculate new scroll height and compare with last scroll height\n",
    "#     new_height = driver.execute_script(\"return document.body.scrollHeight\")\n",
    "#     if new_height == last_height:\n",
    "#         break\n",
    "#     last_height = new_height\n"
   ]
  },
  {
   "cell_type": "code",
   "execution_count": 127,
   "id": "1w3zXC9H6upz",
   "metadata": {
    "id": "1w3zXC9H6upz"
   },
   "outputs": [],
   "source": [
    "\n",
    "# Get initial scroll height\n",
    "last_height = driver.execute_script(\"return document.body.scrollHeight\")\n",
    "\n",
    "for _ in range(400):\n",
    "    # Scroll down to bottom\n",
    "    driver.execute_script(\"window.scrollTo(0, document.body.scrollHeight);\")\n",
    "\n",
    "    # Wait to load page\n",
    "    time.sleep(6)\n",
    "\n",
    "    # Calculate new scroll height and compare with last scroll height\n",
    "    new_height = driver.execute_script(\"return document.body.scrollHeight\")\n",
    "    if new_height == last_height:\n",
    "        break\n",
    "    last_height = new_height\n"
   ]
  },
  {
   "cell_type": "code",
   "execution_count": 128,
   "id": "I6ZBXjNY6upz",
   "metadata": {
    "id": "I6ZBXjNY6upz"
   },
   "outputs": [],
   "source": [
    "html = driver.page_source\n"
   ]
  },
  {
   "cell_type": "code",
   "execution_count": 129,
   "id": "NPEU98U26up0",
   "metadata": {
    "id": "NPEU98U26up0"
   },
   "outputs": [],
   "source": [
    "soup = BeautifulSoup(html)\n"
   ]
  },
  {
   "cell_type": "code",
   "execution_count": 130,
   "id": "3pqExhGJ6up1",
   "metadata": {
    "id": "3pqExhGJ6up1"
   },
   "outputs": [],
   "source": [
    "\n",
    "Names = []\n",
    "\n",
    "for i in soup.find_all('div', class_='flexOne appendLeft20'):\n",
    "    if re.findall(\"^[A-Za-z0-9 &',\\-.a]+\",i.text):\n",
    "        Names.append(re.findall(\"^[A-Za-z0-9 &',\\-.a]+\",i.text)[0])\n",
    "    else:\n",
    "        Names.append(np.nan)\n",
    "\n"
   ]
  },
  {
   "cell_type": "code",
   "execution_count": 131,
   "id": "hmKvANcs6up2",
   "metadata": {
    "id": "hmKvANcs6up2"
   },
   "outputs": [],
   "source": [
    "Hotel = []\n",
    "\n",
    "for i in soup.find_all('div', class_='flexOne appendLeft20'):\n",
    "    r = i.find('span', class_='wordBreak appendRight10')\n",
    "    Hotel.append(r.text)\n",
    "\n"
   ]
  },
  {
   "cell_type": "code",
   "execution_count": 134,
   "id": "G1R1D3YE6up3",
   "metadata": {
    "id": "G1R1D3YE6up3"
   },
   "outputs": [],
   "source": [
    "houserule_2df = pd.DataFrame({ \"Hotel\":Hotel })"
   ]
  },
  {
   "cell_type": "code",
   "execution_count": 135,
   "id": "5W8K9LeB6up4",
   "metadata": {
    "id": "5W8K9LeB6up4"
   },
   "outputs": [
    {
     "data": {
      "text/html": [
       "<div>\n",
       "<style scoped>\n",
       "    .dataframe tbody tr th:only-of-type {\n",
       "        vertical-align: middle;\n",
       "    }\n",
       "\n",
       "    .dataframe tbody tr th {\n",
       "        vertical-align: top;\n",
       "    }\n",
       "\n",
       "    .dataframe thead th {\n",
       "        text-align: right;\n",
       "    }\n",
       "</style>\n",
       "<table border=\"1\" class=\"dataframe\">\n",
       "  <thead>\n",
       "    <tr style=\"text-align: right;\">\n",
       "      <th></th>\n",
       "      <th>Hotel</th>\n",
       "    </tr>\n",
       "  </thead>\n",
       "  <tbody>\n",
       "    <tr>\n",
       "      <th>0</th>\n",
       "      <td>TreeHouse Neptune</td>\n",
       "    </tr>\n",
       "    <tr>\n",
       "      <th>1</th>\n",
       "      <td>Elements by Rosetta</td>\n",
       "    </tr>\n",
       "    <tr>\n",
       "      <th>2</th>\n",
       "      <td>Ginger Goa, Panjim</td>\n",
       "    </tr>\n",
       "    <tr>\n",
       "      <th>3</th>\n",
       "      <td>Hotel Rajdhani</td>\n",
       "    </tr>\n",
       "    <tr>\n",
       "      <th>4</th>\n",
       "      <td>Hotel Campal</td>\n",
       "    </tr>\n",
       "    <tr>\n",
       "      <th>...</th>\n",
       "      <td>...</td>\n",
       "    </tr>\n",
       "    <tr>\n",
       "      <th>1122</th>\n",
       "      <td>Shunya Kaju Varo</td>\n",
       "    </tr>\n",
       "    <tr>\n",
       "      <th>1123</th>\n",
       "      <td>Candolim Alcove | Entire 1 BHK Apartment</td>\n",
       "    </tr>\n",
       "    <tr>\n",
       "      <th>1124</th>\n",
       "      <td>StayVista at Casa Ferrazi</td>\n",
       "    </tr>\n",
       "    <tr>\n",
       "      <th>1125</th>\n",
       "      <td>StayVista at Tarika's Olive Villa</td>\n",
       "    </tr>\n",
       "    <tr>\n",
       "      <th>1126</th>\n",
       "      <td>Blue Line Holiday Homes, Agonda</td>\n",
       "    </tr>\n",
       "  </tbody>\n",
       "</table>\n",
       "<p>1127 rows × 1 columns</p>\n",
       "</div>"
      ],
      "text/plain": [
       "                                         Hotel\n",
       "0                            TreeHouse Neptune\n",
       "1                          Elements by Rosetta\n",
       "2                           Ginger Goa, Panjim\n",
       "3                               Hotel Rajdhani\n",
       "4                                 Hotel Campal\n",
       "...                                        ...\n",
       "1122                          Shunya Kaju Varo\n",
       "1123  Candolim Alcove | Entire 1 BHK Apartment\n",
       "1124                 StayVista at Casa Ferrazi\n",
       "1125         StayVista at Tarika's Olive Villa\n",
       "1126           Blue Line Holiday Homes, Agonda\n",
       "\n",
       "[1127 rows x 1 columns]"
      ]
     },
     "execution_count": 135,
     "metadata": {},
     "output_type": "execute_result"
    }
   ],
   "source": [
    "houserule_2df\n"
   ]
  },
  {
   "cell_type": "code",
   "execution_count": 136,
   "id": "pocf4CLo6up5",
   "metadata": {
    "id": "pocf4CLo6up5"
   },
   "outputs": [],
   "source": [
    "houserule_2df['House_Rule'] = 'Unmarried Couples Allowed'\n"
   ]
  },
  {
   "cell_type": "code",
   "execution_count": 139,
   "id": "7F_GxYCE6up6",
   "metadata": {
    "id": "7F_GxYCE6up6"
   },
   "outputs": [
    {
     "name": "stdout",
     "output_type": "stream",
     "text": [
      "<class 'pandas.core.frame.DataFrame'>\n",
      "RangeIndex: 1127 entries, 0 to 1126\n",
      "Data columns (total 2 columns):\n",
      " #   Column      Non-Null Count  Dtype \n",
      "---  ------      --------------  ----- \n",
      " 0   Hotel       1127 non-null   object\n",
      " 1   House_Rule  1127 non-null   object\n",
      "dtypes: object(2)\n",
      "memory usage: 17.7+ KB\n"
     ]
    }
   ],
   "source": [
    "houserule_2df.info()\n"
   ]
  },
  {
   "cell_type": "code",
   "execution_count": 140,
   "id": "NnQ2Kiqg6up6",
   "metadata": {
    "id": "NnQ2Kiqg6up6"
   },
   "outputs": [
    {
     "data": {
      "text/plain": [
       "Hotel         1127\n",
       "House_Rule       1\n",
       "dtype: int64"
      ]
     },
     "execution_count": 140,
     "metadata": {},
     "output_type": "execute_result"
    }
   ],
   "source": [
    "houserule_2df.nunique()\n"
   ]
  },
  {
   "cell_type": "code",
   "execution_count": 141,
   "id": "hdQRzANO6up7",
   "metadata": {
    "id": "hdQRzANO6up7"
   },
   "outputs": [
    {
     "data": {
      "text/plain": [
       "House_Rule\n",
       "Unmarried Couples Allowed    1127\n",
       "Name: count, dtype: int64"
      ]
     },
     "execution_count": 141,
     "metadata": {},
     "output_type": "execute_result"
    }
   ],
   "source": [
    "houserule_2df.House_Rule.value_counts()\n"
   ]
  },
  {
   "cell_type": "code",
   "execution_count": 142,
   "id": "-qTPpV4a6up8",
   "metadata": {
    "id": "-qTPpV4a6up8"
   },
   "outputs": [
    {
     "data": {
      "text/html": [
       "<div>\n",
       "<style scoped>\n",
       "    .dataframe tbody tr th:only-of-type {\n",
       "        vertical-align: middle;\n",
       "    }\n",
       "\n",
       "    .dataframe tbody tr th {\n",
       "        vertical-align: top;\n",
       "    }\n",
       "\n",
       "    .dataframe thead th {\n",
       "        text-align: right;\n",
       "    }\n",
       "</style>\n",
       "<table border=\"1\" class=\"dataframe\">\n",
       "  <thead>\n",
       "    <tr style=\"text-align: right;\">\n",
       "      <th></th>\n",
       "      <th>Hotel</th>\n",
       "      <th>House_Rule</th>\n",
       "    </tr>\n",
       "  </thead>\n",
       "  <tbody>\n",
       "    <tr>\n",
       "      <th>0</th>\n",
       "      <td>TreeHouse Neptune</td>\n",
       "      <td>Unmarried Couples Allowed</td>\n",
       "    </tr>\n",
       "    <tr>\n",
       "      <th>1</th>\n",
       "      <td>Elements by Rosetta</td>\n",
       "      <td>Unmarried Couples Allowed</td>\n",
       "    </tr>\n",
       "    <tr>\n",
       "      <th>2</th>\n",
       "      <td>Ginger Goa, Panjim</td>\n",
       "      <td>Unmarried Couples Allowed</td>\n",
       "    </tr>\n",
       "    <tr>\n",
       "      <th>3</th>\n",
       "      <td>Hotel Rajdhani</td>\n",
       "      <td>Unmarried Couples Allowed</td>\n",
       "    </tr>\n",
       "    <tr>\n",
       "      <th>4</th>\n",
       "      <td>Hotel Campal</td>\n",
       "      <td>Unmarried Couples Allowed</td>\n",
       "    </tr>\n",
       "    <tr>\n",
       "      <th>...</th>\n",
       "      <td>...</td>\n",
       "      <td>...</td>\n",
       "    </tr>\n",
       "    <tr>\n",
       "      <th>1122</th>\n",
       "      <td>Shunya Kaju Varo</td>\n",
       "      <td>Unmarried Couples Allowed</td>\n",
       "    </tr>\n",
       "    <tr>\n",
       "      <th>1123</th>\n",
       "      <td>Candolim Alcove | Entire 1 BHK Apartment</td>\n",
       "      <td>Unmarried Couples Allowed</td>\n",
       "    </tr>\n",
       "    <tr>\n",
       "      <th>1124</th>\n",
       "      <td>StayVista at Casa Ferrazi</td>\n",
       "      <td>Unmarried Couples Allowed</td>\n",
       "    </tr>\n",
       "    <tr>\n",
       "      <th>1125</th>\n",
       "      <td>StayVista at Tarika's Olive Villa</td>\n",
       "      <td>Unmarried Couples Allowed</td>\n",
       "    </tr>\n",
       "    <tr>\n",
       "      <th>1126</th>\n",
       "      <td>Blue Line Holiday Homes, Agonda</td>\n",
       "      <td>Unmarried Couples Allowed</td>\n",
       "    </tr>\n",
       "  </tbody>\n",
       "</table>\n",
       "<p>1127 rows × 2 columns</p>\n",
       "</div>"
      ],
      "text/plain": [
       "                                         Hotel                 House_Rule\n",
       "0                            TreeHouse Neptune  Unmarried Couples Allowed\n",
       "1                          Elements by Rosetta  Unmarried Couples Allowed\n",
       "2                           Ginger Goa, Panjim  Unmarried Couples Allowed\n",
       "3                               Hotel Rajdhani  Unmarried Couples Allowed\n",
       "4                                 Hotel Campal  Unmarried Couples Allowed\n",
       "...                                        ...                        ...\n",
       "1122                          Shunya Kaju Varo  Unmarried Couples Allowed\n",
       "1123  Candolim Alcove | Entire 1 BHK Apartment  Unmarried Couples Allowed\n",
       "1124                 StayVista at Casa Ferrazi  Unmarried Couples Allowed\n",
       "1125         StayVista at Tarika's Olive Villa  Unmarried Couples Allowed\n",
       "1126           Blue Line Holiday Homes, Agonda  Unmarried Couples Allowed\n",
       "\n",
       "[1127 rows x 2 columns]"
      ]
     },
     "execution_count": 142,
     "metadata": {},
     "output_type": "execute_result"
    }
   ],
   "source": [
    "houserule_2df\n"
   ]
  },
  {
   "cell_type": "code",
   "execution_count": 159,
   "id": "U8RfFQyO6up8",
   "metadata": {
    "id": "U8RfFQyO6up8"
   },
   "outputs": [],
   "source": [
    "\n",
    "## saving df to excel\n",
    "\n",
    "houserule_2df.to_excel(r\"C:\\Users\\DELL\\Final Project/files/houserule_2df.xlsx\")\n"
   ]
  },
  {
   "cell_type": "code",
   "execution_count": 161,
   "id": "BJ-70BSC6up9",
   "metadata": {
    "id": "BJ-70BSC6up9"
   },
   "outputs": [],
   "source": [
    "## reading saved excel df\n",
    "\n",
    "houserule_2df = pd.read_excel(r'C:\\Users\\DELL\\Final Project/files/houserule_2df.xlsx')\n",
    "\n",
    "houserule_2df.drop(columns = 'Unnamed: 0', inplace = True)\n"
   ]
  },
  {
   "cell_type": "code",
   "execution_count": 163,
   "id": "505858d2-67fd-49a0-8c91-526d9029efa5",
   "metadata": {},
   "outputs": [
    {
     "data": {
      "text/html": [
       "<div>\n",
       "<style scoped>\n",
       "    .dataframe tbody tr th:only-of-type {\n",
       "        vertical-align: middle;\n",
       "    }\n",
       "\n",
       "    .dataframe tbody tr th {\n",
       "        vertical-align: top;\n",
       "    }\n",
       "\n",
       "    .dataframe thead th {\n",
       "        text-align: right;\n",
       "    }\n",
       "</style>\n",
       "<table border=\"1\" class=\"dataframe\">\n",
       "  <thead>\n",
       "    <tr style=\"text-align: right;\">\n",
       "      <th></th>\n",
       "      <th>Hotel</th>\n",
       "      <th>House_Rule</th>\n",
       "    </tr>\n",
       "  </thead>\n",
       "  <tbody>\n",
       "    <tr>\n",
       "      <th>0</th>\n",
       "      <td>TreeHouse Neptune</td>\n",
       "      <td>Unmarried Couples Allowed</td>\n",
       "    </tr>\n",
       "    <tr>\n",
       "      <th>1</th>\n",
       "      <td>Elements by Rosetta</td>\n",
       "      <td>Unmarried Couples Allowed</td>\n",
       "    </tr>\n",
       "    <tr>\n",
       "      <th>2</th>\n",
       "      <td>Ginger Goa, Panjim</td>\n",
       "      <td>Unmarried Couples Allowed</td>\n",
       "    </tr>\n",
       "    <tr>\n",
       "      <th>3</th>\n",
       "      <td>Hotel Rajdhani</td>\n",
       "      <td>Unmarried Couples Allowed</td>\n",
       "    </tr>\n",
       "    <tr>\n",
       "      <th>4</th>\n",
       "      <td>Hotel Campal</td>\n",
       "      <td>Unmarried Couples Allowed</td>\n",
       "    </tr>\n",
       "    <tr>\n",
       "      <th>...</th>\n",
       "      <td>...</td>\n",
       "      <td>...</td>\n",
       "    </tr>\n",
       "    <tr>\n",
       "      <th>1122</th>\n",
       "      <td>Shunya Kaju Varo</td>\n",
       "      <td>Unmarried Couples Allowed</td>\n",
       "    </tr>\n",
       "    <tr>\n",
       "      <th>1123</th>\n",
       "      <td>Candolim Alcove | Entire 1 BHK Apartment</td>\n",
       "      <td>Unmarried Couples Allowed</td>\n",
       "    </tr>\n",
       "    <tr>\n",
       "      <th>1124</th>\n",
       "      <td>StayVista at Casa Ferrazi</td>\n",
       "      <td>Unmarried Couples Allowed</td>\n",
       "    </tr>\n",
       "    <tr>\n",
       "      <th>1125</th>\n",
       "      <td>StayVista at Tarika's Olive Villa</td>\n",
       "      <td>Unmarried Couples Allowed</td>\n",
       "    </tr>\n",
       "    <tr>\n",
       "      <th>1126</th>\n",
       "      <td>Blue Line Holiday Homes, Agonda</td>\n",
       "      <td>Unmarried Couples Allowed</td>\n",
       "    </tr>\n",
       "  </tbody>\n",
       "</table>\n",
       "<p>1127 rows × 2 columns</p>\n",
       "</div>"
      ],
      "text/plain": [
       "                                         Hotel                 House_Rule\n",
       "0                            TreeHouse Neptune  Unmarried Couples Allowed\n",
       "1                          Elements by Rosetta  Unmarried Couples Allowed\n",
       "2                           Ginger Goa, Panjim  Unmarried Couples Allowed\n",
       "3                               Hotel Rajdhani  Unmarried Couples Allowed\n",
       "4                                 Hotel Campal  Unmarried Couples Allowed\n",
       "...                                        ...                        ...\n",
       "1122                          Shunya Kaju Varo  Unmarried Couples Allowed\n",
       "1123  Candolim Alcove | Entire 1 BHK Apartment  Unmarried Couples Allowed\n",
       "1124                 StayVista at Casa Ferrazi  Unmarried Couples Allowed\n",
       "1125         StayVista at Tarika's Olive Villa  Unmarried Couples Allowed\n",
       "1126           Blue Line Holiday Homes, Agonda  Unmarried Couples Allowed\n",
       "\n",
       "[1127 rows x 2 columns]"
      ]
     },
     "execution_count": 163,
     "metadata": {},
     "output_type": "execute_result"
    }
   ],
   "source": [
    "houserule_2df"
   ]
  },
  {
   "cell_type": "markdown",
   "id": "J80Qy9ID7ahl",
   "metadata": {
    "id": "J80Qy9ID7ahl"
   },
   "source": [
    "## scraping house rule - 3"
   ]
  },
  {
   "cell_type": "code",
   "execution_count": null,
   "id": "b0BoIV357MBh",
   "metadata": {
    "id": "b0BoIV357MBh"
   },
   "outputs": [],
   "source": []
  },
  {
   "cell_type": "code",
   "execution_count": 165,
   "id": "5o36jxjg7r2V",
   "metadata": {
    "id": "5o36jxjg7r2V"
   },
   "outputs": [],
   "source": [
    "driver = webdriver.Chrome()\n"
   ]
  },
  {
   "cell_type": "code",
   "execution_count": 166,
   "id": "fcYZhAu_7r2X",
   "metadata": {
    "id": "fcYZhAu_7r2X"
   },
   "outputs": [],
   "source": [
    "url = \"https://www.makemytrip.com/hotels/hotel-listing/?_uCurrency=INR&checkin=10112024&checkout=10132024&city=CTGOI&country=IN&filterData=HOUSE_RULES%7CSmoking%20Allowed&locusId=CTGOI&locusType=city&regionNearByExp=3&roomStayQualifier=2e0e&rsc=1e2eundefinede&searchText=Goa\"\n"
   ]
  },
  {
   "cell_type": "code",
   "execution_count": 167,
   "id": "VxfVQhJb7r2Y",
   "metadata": {
    "id": "VxfVQhJb7r2Y"
   },
   "outputs": [],
   "source": [
    "driver.get(url)\n"
   ]
  },
  {
   "cell_type": "code",
   "execution_count": 168,
   "id": "s3CALGFX7r2Z",
   "metadata": {
    "id": "s3CALGFX7r2Z"
   },
   "outputs": [],
   "source": [
    "# # Get scroll height\n",
    "# import time\n",
    "# last_height = driver.execute_script(\"return document.body.scrollHeight\")\n",
    "\n",
    "# while True:\n",
    "#     # Scroll down to bottom\n",
    "#     driver.execute_script(\"window.scrollTo(0, document.body.scrollHeight);\")\n",
    "\n",
    "#     # Wait to load page\n",
    "#     time.sleep(5)\n",
    "\n",
    "#     # Calculate new scroll height and compare with last scroll height\n",
    "#     new_height = driver.execute_script(\"return document.body.scrollHeight\")\n",
    "#     if new_height == last_height:\n",
    "#         break\n",
    "#     last_height = new_height\n"
   ]
  },
  {
   "cell_type": "code",
   "execution_count": 169,
   "id": "KYKGVF8T7r2Z",
   "metadata": {
    "id": "KYKGVF8T7r2Z"
   },
   "outputs": [],
   "source": [
    "\n",
    "# Get initial scroll height\n",
    "last_height = driver.execute_script(\"return document.body.scrollHeight\")\n",
    "\n",
    "for _ in range(250):\n",
    "    # Scroll down to bottom\n",
    "    driver.execute_script(\"window.scrollTo(0, document.body.scrollHeight);\")\n",
    "\n",
    "    # Wait to load page\n",
    "    time.sleep(6)\n",
    "\n",
    "    # Calculate new scroll height and compare with last scroll height\n",
    "    new_height = driver.execute_script(\"return document.body.scrollHeight\")\n",
    "    if new_height == last_height:\n",
    "        break\n",
    "    last_height = new_height\n"
   ]
  },
  {
   "cell_type": "code",
   "execution_count": 170,
   "id": "XFQ7Yy4u7r2a",
   "metadata": {
    "id": "XFQ7Yy4u7r2a"
   },
   "outputs": [],
   "source": [
    "html = driver.page_source\n"
   ]
  },
  {
   "cell_type": "code",
   "execution_count": 171,
   "id": "cmuJ4vWH7r2b",
   "metadata": {
    "id": "cmuJ4vWH7r2b"
   },
   "outputs": [],
   "source": [
    "soup = BeautifulSoup(html)\n"
   ]
  },
  {
   "cell_type": "code",
   "execution_count": 172,
   "id": "dYpYR7l37r2b",
   "metadata": {
    "id": "dYpYR7l37r2b"
   },
   "outputs": [],
   "source": [
    "\n",
    "Names = []\n",
    "\n",
    "for i in soup.find_all('div', class_='flexOne appendLeft20'):\n",
    "    if re.findall(\"^[A-Za-z0-9 &',\\-.a]+\",i.text):\n",
    "        Names.append(re.findall(\"^[A-Za-z0-9 &',\\-.a]+\",i.text)[0])\n",
    "    else:\n",
    "        Names.append(np.nan)\n",
    "\n"
   ]
  },
  {
   "cell_type": "code",
   "execution_count": 173,
   "id": "RELmFBOY7r2d",
   "metadata": {
    "id": "RELmFBOY7r2d"
   },
   "outputs": [],
   "source": [
    "Hotel = []\n",
    "\n",
    "for i in soup.find_all('div', class_='flexOne appendLeft20'):\n",
    "    r = i.find('span', class_='wordBreak appendRight10')\n",
    "    Hotel.append(r.text)\n",
    "\n"
   ]
  },
  {
   "cell_type": "code",
   "execution_count": 175,
   "id": "vTvmtfmG7r2d",
   "metadata": {
    "id": "vTvmtfmG7r2d"
   },
   "outputs": [],
   "source": [
    "houserule_3df = pd.DataFrame({ \"Hotel\":Hotel })"
   ]
  },
  {
   "cell_type": "code",
   "execution_count": 177,
   "id": "mgKeb_pj7r2e",
   "metadata": {
    "id": "mgKeb_pj7r2e"
   },
   "outputs": [
    {
     "data": {
      "text/html": [
       "<div>\n",
       "<style scoped>\n",
       "    .dataframe tbody tr th:only-of-type {\n",
       "        vertical-align: middle;\n",
       "    }\n",
       "\n",
       "    .dataframe tbody tr th {\n",
       "        vertical-align: top;\n",
       "    }\n",
       "\n",
       "    .dataframe thead th {\n",
       "        text-align: right;\n",
       "    }\n",
       "</style>\n",
       "<table border=\"1\" class=\"dataframe\">\n",
       "  <thead>\n",
       "    <tr style=\"text-align: right;\">\n",
       "      <th></th>\n",
       "      <th>Hotel</th>\n",
       "    </tr>\n",
       "  </thead>\n",
       "  <tbody>\n",
       "    <tr>\n",
       "      <th>0</th>\n",
       "      <td>TreeHouse Neptune</td>\n",
       "    </tr>\n",
       "    <tr>\n",
       "      <th>1</th>\n",
       "      <td>Elements by Rosetta</td>\n",
       "    </tr>\n",
       "    <tr>\n",
       "      <th>2</th>\n",
       "      <td>Hotel Campal</td>\n",
       "    </tr>\n",
       "    <tr>\n",
       "      <th>3</th>\n",
       "      <td>I Love Bell Bottoms Vagator Goa</td>\n",
       "    </tr>\n",
       "    <tr>\n",
       "      <th>4</th>\n",
       "      <td>Hotel Jyoti Plaza</td>\n",
       "    </tr>\n",
       "    <tr>\n",
       "      <th>...</th>\n",
       "      <td>...</td>\n",
       "    </tr>\n",
       "    <tr>\n",
       "      <th>1713</th>\n",
       "      <td>Veena Villa by Basil Stays</td>\n",
       "    </tr>\n",
       "    <tr>\n",
       "      <th>1714</th>\n",
       "      <td>Assagao Studio Royale</td>\n",
       "    </tr>\n",
       "    <tr>\n",
       "      <th>1715</th>\n",
       "      <td>Hotel Mobor Beach Resort</td>\n",
       "    </tr>\n",
       "    <tr>\n",
       "      <th>1716</th>\n",
       "      <td>Lushscape Fieldview Nest</td>\n",
       "    </tr>\n",
       "    <tr>\n",
       "      <th>1717</th>\n",
       "      <td>AquaSol Luxury Villas by STAYMASTER</td>\n",
       "    </tr>\n",
       "  </tbody>\n",
       "</table>\n",
       "<p>1718 rows × 1 columns</p>\n",
       "</div>"
      ],
      "text/plain": [
       "                                    Hotel\n",
       "0                       TreeHouse Neptune\n",
       "1                     Elements by Rosetta\n",
       "2                            Hotel Campal\n",
       "3         I Love Bell Bottoms Vagator Goa\n",
       "4                       Hotel Jyoti Plaza\n",
       "...                                   ...\n",
       "1713           Veena Villa by Basil Stays\n",
       "1714                Assagao Studio Royale\n",
       "1715             Hotel Mobor Beach Resort\n",
       "1716             Lushscape Fieldview Nest\n",
       "1717  AquaSol Luxury Villas by STAYMASTER\n",
       "\n",
       "[1718 rows x 1 columns]"
      ]
     },
     "execution_count": 177,
     "metadata": {},
     "output_type": "execute_result"
    }
   ],
   "source": [
    "houserule_3df\n"
   ]
  },
  {
   "cell_type": "code",
   "execution_count": 178,
   "id": "g-nq2QWV7r2e",
   "metadata": {
    "id": "g-nq2QWV7r2e"
   },
   "outputs": [],
   "source": [
    "houserule_3df['House_Rule'] = 'Smoking Allowed'\n"
   ]
  },
  {
   "cell_type": "code",
   "execution_count": 179,
   "id": "CxwKhxev7r2f",
   "metadata": {
    "id": "CxwKhxev7r2f"
   },
   "outputs": [
    {
     "name": "stdout",
     "output_type": "stream",
     "text": [
      "<class 'pandas.core.frame.DataFrame'>\n",
      "RangeIndex: 1718 entries, 0 to 1717\n",
      "Data columns (total 2 columns):\n",
      " #   Column      Non-Null Count  Dtype \n",
      "---  ------      --------------  ----- \n",
      " 0   Hotel       1718 non-null   object\n",
      " 1   House_Rule  1718 non-null   object\n",
      "dtypes: object(2)\n",
      "memory usage: 27.0+ KB\n"
     ]
    }
   ],
   "source": [
    "houserule_3df.info()\n"
   ]
  },
  {
   "cell_type": "code",
   "execution_count": 180,
   "id": "1lJOHh3j7r2f",
   "metadata": {
    "id": "1lJOHh3j7r2f"
   },
   "outputs": [
    {
     "data": {
      "text/plain": [
       "Hotel         1718\n",
       "House_Rule       1\n",
       "dtype: int64"
      ]
     },
     "execution_count": 180,
     "metadata": {},
     "output_type": "execute_result"
    }
   ],
   "source": [
    "houserule_3df.nunique()\n"
   ]
  },
  {
   "cell_type": "code",
   "execution_count": 183,
   "id": "xKyyZRV97r2g",
   "metadata": {
    "id": "xKyyZRV97r2g"
   },
   "outputs": [
    {
     "data": {
      "text/plain": [
       "House_Rule\n",
       "Smoking Allowed    1718\n",
       "Name: count, dtype: int64"
      ]
     },
     "execution_count": 183,
     "metadata": {},
     "output_type": "execute_result"
    }
   ],
   "source": [
    "houserule_3df.House_Rule.value_counts()\n"
   ]
  },
  {
   "cell_type": "code",
   "execution_count": 184,
   "id": "if7PLifj7r2h",
   "metadata": {
    "id": "if7PLifj7r2h"
   },
   "outputs": [
    {
     "data": {
      "text/html": [
       "<div>\n",
       "<style scoped>\n",
       "    .dataframe tbody tr th:only-of-type {\n",
       "        vertical-align: middle;\n",
       "    }\n",
       "\n",
       "    .dataframe tbody tr th {\n",
       "        vertical-align: top;\n",
       "    }\n",
       "\n",
       "    .dataframe thead th {\n",
       "        text-align: right;\n",
       "    }\n",
       "</style>\n",
       "<table border=\"1\" class=\"dataframe\">\n",
       "  <thead>\n",
       "    <tr style=\"text-align: right;\">\n",
       "      <th></th>\n",
       "      <th>Hotel</th>\n",
       "      <th>House_Rule</th>\n",
       "    </tr>\n",
       "  </thead>\n",
       "  <tbody>\n",
       "    <tr>\n",
       "      <th>0</th>\n",
       "      <td>TreeHouse Neptune</td>\n",
       "      <td>Smoking Allowed</td>\n",
       "    </tr>\n",
       "    <tr>\n",
       "      <th>1</th>\n",
       "      <td>Elements by Rosetta</td>\n",
       "      <td>Smoking Allowed</td>\n",
       "    </tr>\n",
       "    <tr>\n",
       "      <th>2</th>\n",
       "      <td>Hotel Campal</td>\n",
       "      <td>Smoking Allowed</td>\n",
       "    </tr>\n",
       "    <tr>\n",
       "      <th>3</th>\n",
       "      <td>I Love Bell Bottoms Vagator Goa</td>\n",
       "      <td>Smoking Allowed</td>\n",
       "    </tr>\n",
       "    <tr>\n",
       "      <th>4</th>\n",
       "      <td>Hotel Jyoti Plaza</td>\n",
       "      <td>Smoking Allowed</td>\n",
       "    </tr>\n",
       "    <tr>\n",
       "      <th>...</th>\n",
       "      <td>...</td>\n",
       "      <td>...</td>\n",
       "    </tr>\n",
       "    <tr>\n",
       "      <th>1713</th>\n",
       "      <td>Veena Villa by Basil Stays</td>\n",
       "      <td>Smoking Allowed</td>\n",
       "    </tr>\n",
       "    <tr>\n",
       "      <th>1714</th>\n",
       "      <td>Assagao Studio Royale</td>\n",
       "      <td>Smoking Allowed</td>\n",
       "    </tr>\n",
       "    <tr>\n",
       "      <th>1715</th>\n",
       "      <td>Hotel Mobor Beach Resort</td>\n",
       "      <td>Smoking Allowed</td>\n",
       "    </tr>\n",
       "    <tr>\n",
       "      <th>1716</th>\n",
       "      <td>Lushscape Fieldview Nest</td>\n",
       "      <td>Smoking Allowed</td>\n",
       "    </tr>\n",
       "    <tr>\n",
       "      <th>1717</th>\n",
       "      <td>AquaSol Luxury Villas by STAYMASTER</td>\n",
       "      <td>Smoking Allowed</td>\n",
       "    </tr>\n",
       "  </tbody>\n",
       "</table>\n",
       "<p>1718 rows × 2 columns</p>\n",
       "</div>"
      ],
      "text/plain": [
       "                                    Hotel       House_Rule\n",
       "0                       TreeHouse Neptune  Smoking Allowed\n",
       "1                     Elements by Rosetta  Smoking Allowed\n",
       "2                            Hotel Campal  Smoking Allowed\n",
       "3         I Love Bell Bottoms Vagator Goa  Smoking Allowed\n",
       "4                       Hotel Jyoti Plaza  Smoking Allowed\n",
       "...                                   ...              ...\n",
       "1713           Veena Villa by Basil Stays  Smoking Allowed\n",
       "1714                Assagao Studio Royale  Smoking Allowed\n",
       "1715             Hotel Mobor Beach Resort  Smoking Allowed\n",
       "1716             Lushscape Fieldview Nest  Smoking Allowed\n",
       "1717  AquaSol Luxury Villas by STAYMASTER  Smoking Allowed\n",
       "\n",
       "[1718 rows x 2 columns]"
      ]
     },
     "execution_count": 184,
     "metadata": {},
     "output_type": "execute_result"
    }
   ],
   "source": [
    "houserule_3df\n"
   ]
  },
  {
   "cell_type": "code",
   "execution_count": 197,
   "id": "XyLonehc7r2h",
   "metadata": {
    "id": "XyLonehc7r2h"
   },
   "outputs": [],
   "source": [
    "\n",
    "## saving df to excel\n",
    "\n",
    "houserule_3df.to_excel(r\"C:\\Users\\DELL\\Final Project/files/houserule_3df.xlsx\")\n"
   ]
  },
  {
   "cell_type": "code",
   "execution_count": 199,
   "id": "AJ9UngYy7r2i",
   "metadata": {
    "id": "AJ9UngYy7r2i"
   },
   "outputs": [],
   "source": [
    "## reading saved excel df\n",
    "\n",
    "houserule_3df = pd.read_excel(r'C:\\Users\\DELL\\Final Project/files/houserule_3df.xlsx')\n",
    "\n",
    "houserule_3df.drop(columns = 'Unnamed: 0', inplace = True)\n"
   ]
  },
  {
   "cell_type": "markdown",
   "id": "NvTHumCn-InJ",
   "metadata": {
    "id": "NvTHumCn-InJ"
   },
   "source": [
    "## scraping house rule - 4"
   ]
  },
  {
   "cell_type": "code",
   "execution_count": null,
   "id": "c0fb04e2-0add-417f-b9df-25f89a81a1d3",
   "metadata": {
    "id": "c0fb04e2-0add-417f-b9df-25f89a81a1d3"
   },
   "outputs": [],
   "source": []
  },
  {
   "cell_type": "code",
   "execution_count": 22,
   "id": "wtzsgZTA-fmC",
   "metadata": {
    "id": "wtzsgZTA-fmC"
   },
   "outputs": [],
   "source": [
    "driver = webdriver.Chrome()\n"
   ]
  },
  {
   "cell_type": "code",
   "execution_count": 23,
   "id": "0kCvnQzQ-fmD",
   "metadata": {
    "id": "0kCvnQzQ-fmD"
   },
   "outputs": [],
   "source": [
    "url = \"https://www.makemytrip.com/hotels/hotel-listing/?_uCurrency=INR&checkin=10112024&checkout=10132024&city=CTGOI&country=IN&filterData=HOUSE_RULES%7CPets%20Allowed&locusId=CTGOI&locusType=city&regionNearByExp=3&roomStayQualifier=2e0e&rsc=1e2eundefinede&searchText=Goa\"\n"
   ]
  },
  {
   "cell_type": "code",
   "execution_count": 24,
   "id": "3THMGsR6-fmE",
   "metadata": {
    "id": "3THMGsR6-fmE"
   },
   "outputs": [],
   "source": [
    "driver.get(url)\n"
   ]
  },
  {
   "cell_type": "code",
   "execution_count": 25,
   "id": "RTcc5XEv-fmF",
   "metadata": {
    "id": "RTcc5XEv-fmF"
   },
   "outputs": [],
   "source": [
    "# # Get scroll height\n",
    "# import time\n",
    "# last_height = driver.execute_script(\"return document.body.scrollHeight\")\n",
    "\n",
    "# while True:\n",
    "#     # Scroll down to bottom\n",
    "#     driver.execute_script(\"window.scrollTo(0, document.body.scrollHeight);\")\n",
    "\n",
    "#     # Wait to load page\n",
    "#     time.sleep(5)\n",
    "\n",
    "#     # Calculate new scroll height and compare with last scroll height\n",
    "#     new_height = driver.execute_script(\"return document.body.scrollHeight\")\n",
    "#     if new_height == last_height:\n",
    "#         break\n",
    "#     last_height = new_height\n"
   ]
  },
  {
   "cell_type": "code",
   "execution_count": 26,
   "id": "Wfi9d5KA-fmF",
   "metadata": {
    "id": "Wfi9d5KA-fmF"
   },
   "outputs": [],
   "source": [
    "\n",
    "# Get initial scroll height\n",
    "last_height = driver.execute_script(\"return document.body.scrollHeight\")\n",
    "\n",
    "for _ in range(300):\n",
    "    # Scroll down to bottom\n",
    "    driver.execute_script(\"window.scrollTo(0, document.body.scrollHeight);\")\n",
    "\n",
    "    # Wait to load page\n",
    "    time.sleep(5)\n",
    "\n",
    "    # Calculate new scroll height and compare with last scroll height\n",
    "    new_height = driver.execute_script(\"return document.body.scrollHeight\")\n",
    "    if new_height == last_height:\n",
    "        break\n",
    "    last_height = new_height\n"
   ]
  },
  {
   "cell_type": "code",
   "execution_count": 27,
   "id": "wzefP8cO-fmG",
   "metadata": {
    "id": "wzefP8cO-fmG"
   },
   "outputs": [],
   "source": [
    "html = driver.page_source\n"
   ]
  },
  {
   "cell_type": "code",
   "execution_count": 30,
   "id": "KFcE13PU-fmH",
   "metadata": {
    "id": "KFcE13PU-fmH"
   },
   "outputs": [],
   "source": [
    "soup = BeautifulSoup(html)\n"
   ]
  },
  {
   "cell_type": "code",
   "execution_count": 31,
   "id": "EgtH8H7D-fmI",
   "metadata": {
    "id": "EgtH8H7D-fmI"
   },
   "outputs": [],
   "source": [
    "\n",
    "Names = []\n",
    "\n",
    "for i in soup.find_all('div', class_='flexOne appendLeft20'):\n",
    "    if re.findall(\"^[A-Za-z0-9 &',\\-.a]+\",i.text):\n",
    "        Names.append(re.findall(\"^[A-Za-z0-9 &',\\-.a]+\",i.text)[0])\n",
    "    else:\n",
    "        Names.append(np.nan)\n"
   ]
  },
  {
   "cell_type": "code",
   "execution_count": 34,
   "id": "PSYdSpuC-fmJ",
   "metadata": {
    "id": "PSYdSpuC-fmJ"
   },
   "outputs": [],
   "source": [
    "Hotel = []\n",
    "\n",
    "for i in soup.find_all('div', class_='flexOne appendLeft20'):\n",
    "    r = i.find('span', class_='wordBreak appendRight10')\n",
    "    Hotel.append(r.text)\n",
    "\n"
   ]
  },
  {
   "cell_type": "code",
   "execution_count": 35,
   "id": "AWSu9zl1-fmJ",
   "metadata": {
    "id": "AWSu9zl1-fmJ"
   },
   "outputs": [],
   "source": [
    "houserule_4df = pd.DataFrame({ \"Hotel\":Hotel })"
   ]
  },
  {
   "cell_type": "code",
   "execution_count": 36,
   "id": "6gAPQ5VJ-fmK",
   "metadata": {
    "id": "6gAPQ5VJ-fmK"
   },
   "outputs": [
    {
     "data": {
      "text/html": [
       "<div>\n",
       "<style scoped>\n",
       "    .dataframe tbody tr th:only-of-type {\n",
       "        vertical-align: middle;\n",
       "    }\n",
       "\n",
       "    .dataframe tbody tr th {\n",
       "        vertical-align: top;\n",
       "    }\n",
       "\n",
       "    .dataframe thead th {\n",
       "        text-align: right;\n",
       "    }\n",
       "</style>\n",
       "<table border=\"1\" class=\"dataframe\">\n",
       "  <thead>\n",
       "    <tr style=\"text-align: right;\">\n",
       "      <th></th>\n",
       "      <th>Hotel</th>\n",
       "    </tr>\n",
       "  </thead>\n",
       "  <tbody>\n",
       "    <tr>\n",
       "      <th>0</th>\n",
       "      <td>Goa Marriott Resort &amp; Spa</td>\n",
       "    </tr>\n",
       "    <tr>\n",
       "      <th>1</th>\n",
       "      <td>TreeHouse Blue Hotel &amp; Serviced Apartments</td>\n",
       "    </tr>\n",
       "    <tr>\n",
       "      <th>2</th>\n",
       "      <td>SaffronStays Love Story</td>\n",
       "    </tr>\n",
       "    <tr>\n",
       "      <th>3</th>\n",
       "      <td>Lazy Lagoon, A Lemon Tree Resort, Goa, Baga</td>\n",
       "    </tr>\n",
       "    <tr>\n",
       "      <th>4</th>\n",
       "      <td>Hungry House</td>\n",
       "    </tr>\n",
       "    <tr>\n",
       "      <th>...</th>\n",
       "      <td>...</td>\n",
       "    </tr>\n",
       "    <tr>\n",
       "      <th>450</th>\n",
       "      <td>CHICOS BLISS 2BHK CANDOLIM</td>\n",
       "    </tr>\n",
       "    <tr>\n",
       "      <th>451</th>\n",
       "      <td>Luxury Private Pool Serviced Villa</td>\n",
       "    </tr>\n",
       "    <tr>\n",
       "      <th>452</th>\n",
       "      <td>Hotel O Neelratna</td>\n",
       "    </tr>\n",
       "    <tr>\n",
       "      <th>453</th>\n",
       "      <td>Sk villa goa</td>\n",
       "    </tr>\n",
       "    <tr>\n",
       "      <th>454</th>\n",
       "      <td>Sukoon Residency</td>\n",
       "    </tr>\n",
       "  </tbody>\n",
       "</table>\n",
       "<p>455 rows × 1 columns</p>\n",
       "</div>"
      ],
      "text/plain": [
       "                                           Hotel\n",
       "0                      Goa Marriott Resort & Spa\n",
       "1     TreeHouse Blue Hotel & Serviced Apartments\n",
       "2                        SaffronStays Love Story\n",
       "3    Lazy Lagoon, A Lemon Tree Resort, Goa, Baga\n",
       "4                                   Hungry House\n",
       "..                                           ...\n",
       "450                   CHICOS BLISS 2BHK CANDOLIM\n",
       "451           Luxury Private Pool Serviced Villa\n",
       "452                            Hotel O Neelratna\n",
       "453                                 Sk villa goa\n",
       "454                             Sukoon Residency\n",
       "\n",
       "[455 rows x 1 columns]"
      ]
     },
     "execution_count": 36,
     "metadata": {},
     "output_type": "execute_result"
    }
   ],
   "source": [
    "houserule_4df\n"
   ]
  },
  {
   "cell_type": "code",
   "execution_count": 37,
   "id": "rERAMers-fmL",
   "metadata": {
    "id": "rERAMers-fmL"
   },
   "outputs": [],
   "source": [
    "houserule_4df['House_Rule'] = 'Pets Allowed'\n"
   ]
  },
  {
   "cell_type": "code",
   "execution_count": 66,
   "id": "wFf2cE4Y-fmL",
   "metadata": {
    "id": "wFf2cE4Y-fmL"
   },
   "outputs": [
    {
     "name": "stdout",
     "output_type": "stream",
     "text": [
      "<class 'pandas.core.frame.DataFrame'>\n",
      "RangeIndex: 455 entries, 0 to 454\n",
      "Data columns (total 2 columns):\n",
      " #   Column      Non-Null Count  Dtype \n",
      "---  ------      --------------  ----- \n",
      " 0   Hotel       455 non-null    object\n",
      " 1   House_Rule  455 non-null    object\n",
      "dtypes: object(2)\n",
      "memory usage: 7.2+ KB\n"
     ]
    }
   ],
   "source": [
    "houserule_4df.info()\n"
   ]
  },
  {
   "cell_type": "code",
   "execution_count": 68,
   "id": "vtBRddGV-fmM",
   "metadata": {
    "id": "vtBRddGV-fmM"
   },
   "outputs": [
    {
     "data": {
      "text/plain": [
       "Hotel         455\n",
       "House_Rule      1\n",
       "dtype: int64"
      ]
     },
     "execution_count": 68,
     "metadata": {},
     "output_type": "execute_result"
    }
   ],
   "source": [
    "houserule_4df.nunique()\n"
   ]
  },
  {
   "cell_type": "code",
   "execution_count": 70,
   "id": "I9Wv1ppS-fmM",
   "metadata": {
    "id": "I9Wv1ppS-fmM"
   },
   "outputs": [
    {
     "data": {
      "text/plain": [
       "House_Rule\n",
       "Pets Allowed    455\n",
       "Name: count, dtype: int64"
      ]
     },
     "execution_count": 70,
     "metadata": {},
     "output_type": "execute_result"
    }
   ],
   "source": [
    "houserule_4df.House_Rule.value_counts()\n"
   ]
  },
  {
   "cell_type": "code",
   "execution_count": 72,
   "id": "8ILAsFXg-fmN",
   "metadata": {
    "id": "8ILAsFXg-fmN"
   },
   "outputs": [
    {
     "data": {
      "text/html": [
       "<div>\n",
       "<style scoped>\n",
       "    .dataframe tbody tr th:only-of-type {\n",
       "        vertical-align: middle;\n",
       "    }\n",
       "\n",
       "    .dataframe tbody tr th {\n",
       "        vertical-align: top;\n",
       "    }\n",
       "\n",
       "    .dataframe thead th {\n",
       "        text-align: right;\n",
       "    }\n",
       "</style>\n",
       "<table border=\"1\" class=\"dataframe\">\n",
       "  <thead>\n",
       "    <tr style=\"text-align: right;\">\n",
       "      <th></th>\n",
       "      <th>Hotel</th>\n",
       "      <th>House_Rule</th>\n",
       "    </tr>\n",
       "  </thead>\n",
       "  <tbody>\n",
       "    <tr>\n",
       "      <th>0</th>\n",
       "      <td>Goa Marriott Resort &amp; Spa</td>\n",
       "      <td>Pets Allowed</td>\n",
       "    </tr>\n",
       "    <tr>\n",
       "      <th>1</th>\n",
       "      <td>TreeHouse Blue Hotel &amp; Serviced Apartments</td>\n",
       "      <td>Pets Allowed</td>\n",
       "    </tr>\n",
       "    <tr>\n",
       "      <th>2</th>\n",
       "      <td>SaffronStays Love Story</td>\n",
       "      <td>Pets Allowed</td>\n",
       "    </tr>\n",
       "    <tr>\n",
       "      <th>3</th>\n",
       "      <td>Lazy Lagoon, A Lemon Tree Resort, Goa, Baga</td>\n",
       "      <td>Pets Allowed</td>\n",
       "    </tr>\n",
       "    <tr>\n",
       "      <th>4</th>\n",
       "      <td>Hungry House</td>\n",
       "      <td>Pets Allowed</td>\n",
       "    </tr>\n",
       "    <tr>\n",
       "      <th>...</th>\n",
       "      <td>...</td>\n",
       "      <td>...</td>\n",
       "    </tr>\n",
       "    <tr>\n",
       "      <th>450</th>\n",
       "      <td>CHICOS BLISS 2BHK CANDOLIM</td>\n",
       "      <td>Pets Allowed</td>\n",
       "    </tr>\n",
       "    <tr>\n",
       "      <th>451</th>\n",
       "      <td>Luxury Private Pool Serviced Villa</td>\n",
       "      <td>Pets Allowed</td>\n",
       "    </tr>\n",
       "    <tr>\n",
       "      <th>452</th>\n",
       "      <td>Hotel O Neelratna</td>\n",
       "      <td>Pets Allowed</td>\n",
       "    </tr>\n",
       "    <tr>\n",
       "      <th>453</th>\n",
       "      <td>Sk villa goa</td>\n",
       "      <td>Pets Allowed</td>\n",
       "    </tr>\n",
       "    <tr>\n",
       "      <th>454</th>\n",
       "      <td>Sukoon Residency</td>\n",
       "      <td>Pets Allowed</td>\n",
       "    </tr>\n",
       "  </tbody>\n",
       "</table>\n",
       "<p>455 rows × 2 columns</p>\n",
       "</div>"
      ],
      "text/plain": [
       "                                           Hotel    House_Rule\n",
       "0                      Goa Marriott Resort & Spa  Pets Allowed\n",
       "1     TreeHouse Blue Hotel & Serviced Apartments  Pets Allowed\n",
       "2                        SaffronStays Love Story  Pets Allowed\n",
       "3    Lazy Lagoon, A Lemon Tree Resort, Goa, Baga  Pets Allowed\n",
       "4                                   Hungry House  Pets Allowed\n",
       "..                                           ...           ...\n",
       "450                   CHICOS BLISS 2BHK CANDOLIM  Pets Allowed\n",
       "451           Luxury Private Pool Serviced Villa  Pets Allowed\n",
       "452                            Hotel O Neelratna  Pets Allowed\n",
       "453                                 Sk villa goa  Pets Allowed\n",
       "454                             Sukoon Residency  Pets Allowed\n",
       "\n",
       "[455 rows x 2 columns]"
      ]
     },
     "execution_count": 72,
     "metadata": {},
     "output_type": "execute_result"
    }
   ],
   "source": [
    "houserule_4df\n"
   ]
  },
  {
   "cell_type": "markdown",
   "id": "c4e285c2-4286-4574-9684-098da0e233ba",
   "metadata": {},
   "source": [
    "## saving df to excel\n"
   ]
  },
  {
   "cell_type": "code",
   "execution_count": 75,
   "id": "TaoBFNqC-fmN",
   "metadata": {
    "id": "TaoBFNqC-fmN"
   },
   "outputs": [],
   "source": [
    "\n",
    "\n",
    "houserule_4df.to_excel(r\"C:\\Users\\DELL\\Final Project/files/houserule_4df.xlsx\")\n"
   ]
  },
  {
   "cell_type": "markdown",
   "id": "4edaa725-413e-4df0-b5ce-232906c42daa",
   "metadata": {},
   "source": [
    "## reading saved excel df"
   ]
  },
  {
   "cell_type": "code",
   "execution_count": 80,
   "id": "dot5dzMb-fmO",
   "metadata": {
    "id": "dot5dzMb-fmO"
   },
   "outputs": [],
   "source": [
    "\n",
    "houserule_4df = pd.read_excel(r'C:\\Users\\DELL\\Final Project/files/houserule_4df.xlsx')\n",
    "\n",
    "houserule_4df.drop(columns = 'Unnamed: 0', inplace = True)\n"
   ]
  },
  {
   "cell_type": "code",
   "execution_count": 82,
   "id": "9bc946d6-58cc-40a8-bba6-9e0c3de6ef3f",
   "metadata": {
    "id": "9bc946d6-58cc-40a8-bba6-9e0c3de6ef3f"
   },
   "outputs": [
    {
     "data": {
      "text/html": [
       "<div>\n",
       "<style scoped>\n",
       "    .dataframe tbody tr th:only-of-type {\n",
       "        vertical-align: middle;\n",
       "    }\n",
       "\n",
       "    .dataframe tbody tr th {\n",
       "        vertical-align: top;\n",
       "    }\n",
       "\n",
       "    .dataframe thead th {\n",
       "        text-align: right;\n",
       "    }\n",
       "</style>\n",
       "<table border=\"1\" class=\"dataframe\">\n",
       "  <thead>\n",
       "    <tr style=\"text-align: right;\">\n",
       "      <th></th>\n",
       "      <th>Hotel</th>\n",
       "      <th>House_Rule</th>\n",
       "    </tr>\n",
       "  </thead>\n",
       "  <tbody>\n",
       "    <tr>\n",
       "      <th>0</th>\n",
       "      <td>Goa Marriott Resort &amp; Spa</td>\n",
       "      <td>Pets Allowed</td>\n",
       "    </tr>\n",
       "    <tr>\n",
       "      <th>1</th>\n",
       "      <td>TreeHouse Blue Hotel &amp; Serviced Apartments</td>\n",
       "      <td>Pets Allowed</td>\n",
       "    </tr>\n",
       "    <tr>\n",
       "      <th>2</th>\n",
       "      <td>SaffronStays Love Story</td>\n",
       "      <td>Pets Allowed</td>\n",
       "    </tr>\n",
       "    <tr>\n",
       "      <th>3</th>\n",
       "      <td>Lazy Lagoon, A Lemon Tree Resort, Goa, Baga</td>\n",
       "      <td>Pets Allowed</td>\n",
       "    </tr>\n",
       "    <tr>\n",
       "      <th>4</th>\n",
       "      <td>Hungry House</td>\n",
       "      <td>Pets Allowed</td>\n",
       "    </tr>\n",
       "    <tr>\n",
       "      <th>...</th>\n",
       "      <td>...</td>\n",
       "      <td>...</td>\n",
       "    </tr>\n",
       "    <tr>\n",
       "      <th>450</th>\n",
       "      <td>CHICOS BLISS 2BHK CANDOLIM</td>\n",
       "      <td>Pets Allowed</td>\n",
       "    </tr>\n",
       "    <tr>\n",
       "      <th>451</th>\n",
       "      <td>Luxury Private Pool Serviced Villa</td>\n",
       "      <td>Pets Allowed</td>\n",
       "    </tr>\n",
       "    <tr>\n",
       "      <th>452</th>\n",
       "      <td>Hotel O Neelratna</td>\n",
       "      <td>Pets Allowed</td>\n",
       "    </tr>\n",
       "    <tr>\n",
       "      <th>453</th>\n",
       "      <td>Sk villa goa</td>\n",
       "      <td>Pets Allowed</td>\n",
       "    </tr>\n",
       "    <tr>\n",
       "      <th>454</th>\n",
       "      <td>Sukoon Residency</td>\n",
       "      <td>Pets Allowed</td>\n",
       "    </tr>\n",
       "  </tbody>\n",
       "</table>\n",
       "<p>455 rows × 2 columns</p>\n",
       "</div>"
      ],
      "text/plain": [
       "                                           Hotel    House_Rule\n",
       "0                      Goa Marriott Resort & Spa  Pets Allowed\n",
       "1     TreeHouse Blue Hotel & Serviced Apartments  Pets Allowed\n",
       "2                        SaffronStays Love Story  Pets Allowed\n",
       "3    Lazy Lagoon, A Lemon Tree Resort, Goa, Baga  Pets Allowed\n",
       "4                                   Hungry House  Pets Allowed\n",
       "..                                           ...           ...\n",
       "450                   CHICOS BLISS 2BHK CANDOLIM  Pets Allowed\n",
       "451           Luxury Private Pool Serviced Villa  Pets Allowed\n",
       "452                            Hotel O Neelratna  Pets Allowed\n",
       "453                                 Sk villa goa  Pets Allowed\n",
       "454                             Sukoon Residency  Pets Allowed\n",
       "\n",
       "[455 rows x 2 columns]"
      ]
     },
     "execution_count": 82,
     "metadata": {},
     "output_type": "execute_result"
    }
   ],
   "source": [
    "houserule_4df"
   ]
  },
  {
   "cell_type": "code",
   "execution_count": null,
   "id": "b95f9334-b505-4b97-b26b-1a1228c5c7dc",
   "metadata": {
    "id": "b95f9334-b505-4b97-b26b-1a1228c5c7dc"
   },
   "outputs": [],
   "source": []
  },
  {
   "cell_type": "code",
   "execution_count": null,
   "id": "f9f95bfa-5808-4051-af62-3d620a59e219",
   "metadata": {
    "id": "f9f95bfa-5808-4051-af62-3d620a59e219"
   },
   "outputs": [],
   "source": []
  },
  {
   "cell_type": "code",
   "execution_count": null,
   "id": "d72db756-1232-4bf1-85b5-76132101a8e6",
   "metadata": {
    "id": "d72db756-1232-4bf1-85b5-76132101a8e6"
   },
   "outputs": [],
   "source": []
  },
  {
   "cell_type": "code",
   "execution_count": null,
   "id": "ddc8ab74-870d-4074-9010-462249a8f3e0",
   "metadata": {
    "id": "ddc8ab74-870d-4074-9010-462249a8f3e0"
   },
   "outputs": [],
   "source": []
  }
 ],
 "metadata": {
  "colab": {
   "provenance": []
  },
  "kernelspec": {
   "display_name": "Python 3 (ipykernel)",
   "language": "python",
   "name": "python3"
  },
  "language_info": {
   "codemirror_mode": {
    "name": "ipython",
    "version": 3
   },
   "file_extension": ".py",
   "mimetype": "text/x-python",
   "name": "python",
   "nbconvert_exporter": "python",
   "pygments_lexer": "ipython3",
   "version": "3.12.4"
  }
 },
 "nbformat": 4,
 "nbformat_minor": 5
}
